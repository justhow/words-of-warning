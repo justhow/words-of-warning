{
 "cells": [
  {
   "cell_type": "code",
   "execution_count": null,
   "metadata": {
    "ExecuteTime": {
     "end_time": "2021-03-02T00:57:43.248833Z",
     "start_time": "2021-03-02T00:57:43.234689Z"
    }
   },
   "outputs": [],
   "source": [
    "# with thanks to Richard Chadwick, https://towardsdatascience.com/tweepy-for-beginners-24baf21f2c25\n",
    "# much of the code for this scraper is either taken or adapted from his"
   ]
  },
  {
   "cell_type": "code",
   "execution_count": 1,
   "metadata": {
    "ExecuteTime": {
     "end_time": "2021-03-02T02:52:21.113390Z",
     "start_time": "2021-03-02T02:52:21.102419Z"
    },
    "scrolled": true
   },
   "outputs": [],
   "source": [
    "# !pip install tweepy"
   ]
  },
  {
   "cell_type": "code",
   "execution_count": 7,
   "metadata": {
    "ExecuteTime": {
     "end_time": "2021-03-02T05:44:23.715955Z",
     "start_time": "2021-03-02T05:44:23.708973Z"
    }
   },
   "outputs": [],
   "source": [
    "import tweepy as tw\n",
    "import datetime\n",
    "import pandas as pd"
   ]
  },
  {
   "cell_type": "code",
   "execution_count": 8,
   "metadata": {
    "ExecuteTime": {
     "end_time": "2021-03-02T05:44:23.887012Z",
     "start_time": "2021-03-02T05:44:23.875044Z"
    }
   },
   "outputs": [],
   "source": [
    "class TweetMiner(object):\n",
    "\n",
    "    result_limit    =   20    \n",
    "    data            =   []\n",
    "    api             =   False\n",
    "    \n",
    "    twitter_keys = {\n",
    "        'consumer_key':        'xOM5aibCz665Rz3Bq6hiOlXD0',\n",
    "        'consumer_secret':     '9F5KTULDv9YkJY8jJXW4g735toRziLW13ZTWV7l33h3LAPDF4F',\n",
    "        'access_token_key':    '20414579-PwO6nnfmFWfIvC4QNWvQMK25H63P8b61TINjby3Hj',\n",
    "        'access_token_secret': 'pOJpLVA7yzSdSY4JBqytwwU4Pi28m0IAmw38KnCtiP8m7'\n",
    "    }\n",
    "    \n",
    "    \n",
    "    def __init__(self, keys_dict=twitter_keys, api=api, result_limit = 20):\n",
    "        \n",
    "        self.twitter_keys = keys_dict\n",
    "        \n",
    "        auth = tw.OAuthHandler(keys_dict['consumer_key'], keys_dict['consumer_secret'])\n",
    "        auth.set_access_token(keys_dict['access_token_key'], keys_dict['access_token_secret'])\n",
    "        \n",
    "        self.api = tw.API(auth)\n",
    "        self.twitter_keys = keys_dict\n",
    "        \n",
    "        self.result_limit = result_limit\n",
    "        \n",
    "\n",
    "    def mine_user_tweets(self, user=\"dril\", #BECAUSE WHO ELSE!\n",
    "                         mine_retweets=False,\n",
    "                         max_pages=5):\n",
    "\n",
    "        data           =  []\n",
    "        last_tweet_id  =  False\n",
    "        page           =  1\n",
    "        \n",
    "        while page <= max_pages:\n",
    "            if last_tweet_id:\n",
    "                statuses   =   self.api.user_timeline(screen_name=user,\n",
    "                                                     count=self.result_limit,\n",
    "                                                     max_id=last_tweet_id - 1,\n",
    "                                                     tweet_mode = 'extended',\n",
    "                                                     include_retweets=True\n",
    "                                                    )        \n",
    "            else:\n",
    "                statuses   =   self.api.user_timeline(screen_name=user,\n",
    "                                                        count=self.result_limit,\n",
    "                                                        tweet_mode = 'extended',\n",
    "                                                        include_retweets=True)\n",
    "                \n",
    "            for item in statuses:\n",
    "\n",
    "                mined = {\n",
    "                    'tweet_id':        item.id,\n",
    "                    'name':            item.user.name,\n",
    "                    'screen_name':     item.user.screen_name,\n",
    "                    'retweet_count':   item.retweet_count,\n",
    "                    'text':            item.full_text,\n",
    "                    'mined_at':        datetime.datetime.now(),\n",
    "                    'created_at':      item.created_at,\n",
    "                    'favourite_count': item.favorite_count,\n",
    "                    'hashtags':        item.entities['hashtags'],\n",
    "                    'status_count':    item.user.statuses_count,\n",
    "                    'location':        item.place,\n",
    "                    'source_device':   item.source\n",
    "                }\n",
    "                \n",
    "                try:\n",
    "                    mined['retweet_text'] = item.retweeted_status.full_text\n",
    "                except:\n",
    "                    mined['retweet_text'] = 'None'\n",
    "                try:\n",
    "                    mined['quote_text'] = item.quoted_status.full_text\n",
    "                    mined['quote_screen_name'] = status.quoted_status.user.screen_name\n",
    "                except:\n",
    "                    mined['quote_text'] = 'None'\n",
    "                    mined['quote_screen_name'] = 'None'\n",
    "                \n",
    "                last_tweet_id = item.id\n",
    "                data.append(mined)\n",
    "                \n",
    "            page += 1\n",
    "            \n",
    "        return data "
   ]
  },
  {
   "cell_type": "code",
   "execution_count": 9,
   "metadata": {
    "ExecuteTime": {
     "end_time": "2021-03-02T05:44:24.308408Z",
     "start_time": "2021-03-02T05:44:24.296436Z"
    }
   },
   "outputs": [],
   "source": [
    "miner=TweetMiner(result_limit = 200 )"
   ]
  },
  {
   "cell_type": "code",
   "execution_count": 10,
   "metadata": {
    "ExecuteTime": {
     "end_time": "2021-03-02T05:44:38.869685Z",
     "start_time": "2021-03-02T05:44:24.606156Z"
    }
   },
   "outputs": [],
   "source": [
    "mined_tweets = miner.mine_user_tweets(user='CPAC', max_pages=17)\n",
    "\n",
    "mined_tweets_df= pd.DataFrame(mined_tweets)"
   ]
  },
  {
   "cell_type": "code",
   "execution_count": 11,
   "metadata": {
    "ExecuteTime": {
     "end_time": "2021-03-02T05:46:23.663486Z",
     "start_time": "2021-03-02T05:44:38.871307Z"
    }
   },
   "outputs": [],
   "source": [
    "import time\n",
    "\n",
    "handle_list = ['CPAC', 'RepMTG', 'laurenboebert', 'HawleyMO', 'RepAndyBiggsAZ', \n",
    "               'MattForMontana', 'SteveDaines', 'RepGosar', 'RepMoBrooks']\n",
    "\n",
    "twitter_dict = {}\n",
    "counter = 0\n",
    "\n",
    "for name in handle_list:\n",
    "    try:\n",
    "        twitter_dict[name] = []\n",
    "        twitter_dict[name].append(\n",
    "            miner.mine_user_tweets(user=name, max_pages=17))\n",
    "        counter = counter + 1\n",
    "        if counter % 40 == 0:\n",
    "            time.sleep(900)  # 15 minute sleep time\n",
    "    # if name invalid print name and remove key\n",
    "    except:\n",
    "        print(name, 'is invalid or locked')\n",
    "        twitter_dict.pop(name)\n",
    "\n",
    "all_tweets = pd.concat([pd.DataFrame(twitter_dict[i][0])\n",
    "                        for i in twitter_dict])"
   ]
  },
  {
   "cell_type": "code",
   "execution_count": 13,
   "metadata": {
    "ExecuteTime": {
     "end_time": "2021-03-02T05:56:44.075885Z",
     "start_time": "2021-03-02T05:56:44.065912Z"
    }
   },
   "outputs": [
    {
     "data": {
      "text/plain": [
       "(24255, 15)"
      ]
     },
     "execution_count": 13,
     "metadata": {},
     "output_type": "execute_result"
    }
   ],
   "source": [
    "all_tweets.shape"
   ]
  },
  {
   "cell_type": "code",
   "execution_count": 14,
   "metadata": {
    "ExecuteTime": {
     "end_time": "2021-03-02T06:31:58.755206Z",
     "start_time": "2021-03-02T06:31:58.744123Z"
    }
   },
   "outputs": [],
   "source": [
    "all_tweets.set_index('created_at', inplace=True)"
   ]
  },
  {
   "cell_type": "code",
   "execution_count": 15,
   "metadata": {
    "ExecuteTime": {
     "end_time": "2021-03-02T06:32:13.601950Z",
     "start_time": "2021-03-02T06:32:13.575021Z"
    }
   },
   "outputs": [],
   "source": [
    "all_tweets.sort_index(ascending=True, inplace=True)"
   ]
  },
  {
   "cell_type": "code",
   "execution_count": 16,
   "metadata": {
    "ExecuteTime": {
     "end_time": "2021-03-02T06:33:22.422951Z",
     "start_time": "2021-03-02T06:33:22.098911Z"
    }
   },
   "outputs": [],
   "source": [
    "all_tweets.to_csv('./politicians1.csv')"
   ]
  },
  {
   "cell_type": "code",
   "execution_count": null,
   "metadata": {},
   "outputs": [],
   "source": []
  }
 ],
 "metadata": {
  "kernelspec": {
   "display_name": "Python 3",
   "language": "python",
   "name": "python3"
  },
  "language_info": {
   "codemirror_mode": {
    "name": "ipython",
    "version": 3
   },
   "file_extension": ".py",
   "mimetype": "text/x-python",
   "name": "python",
   "nbconvert_exporter": "python",
   "pygments_lexer": "ipython3",
   "version": "3.8.5"
  },
  "toc": {
   "base_numbering": 1,
   "nav_menu": {},
   "number_sections": false,
   "sideBar": true,
   "skip_h1_title": false,
   "title_cell": "Table of Contents",
   "title_sidebar": "Contents",
   "toc_cell": false,
   "toc_position": {
    "height": "calc(100% - 180px)",
    "left": "10px",
    "top": "150px",
    "width": "384px"
   },
   "toc_section_display": true,
   "toc_window_display": true
  }
 },
 "nbformat": 4,
 "nbformat_minor": 4
}
