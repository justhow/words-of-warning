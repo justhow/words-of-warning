{
 "cells": [
  {
   "cell_type": "code",
   "execution_count": null,
   "metadata": {
    "ExecuteTime": {
     "end_time": "2021-03-02T00:57:43.248833Z",
     "start_time": "2021-03-02T00:57:43.234689Z"
    }
   },
   "outputs": [],
   "source": [
    "# with thanks to Richard Chadwick, https://towardsdatascience.com/tweepy-for-beginners-24baf21f2c25\n",
    "# much of the code for this scraper is either taken or adapted from his"
   ]
  },
  {
   "cell_type": "code",
   "execution_count": null,
   "metadata": {
    "ExecuteTime": {
     "end_time": "2021-03-02T02:07:56.276701Z",
     "start_time": "2021-03-02T02:07:56.265730Z"
    },
    "scrolled": true
   },
   "outputs": [],
   "source": [
    "# !pip install tweepy"
   ]
  },
  {
   "cell_type": "code",
   "execution_count": 4,
   "metadata": {
    "ExecuteTime": {
     "end_time": "2021-03-02T02:19:32.978333Z",
     "start_time": "2021-03-02T02:19:32.974326Z"
    }
   },
   "outputs": [],
   "source": [
    "import tweepy as tw\n",
    "import datetime\n",
    "import pandas as pd"
   ]
  },
  {
   "cell_type": "code",
   "execution_count": 5,
   "metadata": {
    "ExecuteTime": {
     "end_time": "2021-03-02T02:19:33.195636Z",
     "start_time": "2021-03-02T02:19:33.184655Z"
    }
   },
   "outputs": [],
   "source": [
    "class TweetMiner(object):\n",
    "\n",
    "    result_limit    =   20    \n",
    "    data            =   []\n",
    "    api             =   False\n",
    "    \n",
    "    twitter_keys = {\n",
    "        'consumer_key':        'xOM5aibCz665Rz3Bq6hiOlXD0',\n",
    "        'consumer_secret':     '9F5KTULDv9YkJY8jJXW4g735toRziLW13ZTWV7l33h3LAPDF4F',\n",
    "        'access_token_key':    '20414579-PwO6nnfmFWfIvC4QNWvQMK25H63P8b61TINjby3Hj',\n",
    "        'access_token_secret': 'pOJpLVA7yzSdSY4JBqytwwU4Pi28m0IAmw38KnCtiP8m7'\n",
    "    }\n",
    "    \n",
    "    \n",
    "    def __init__(self, keys_dict=twitter_keys, api=api, result_limit = 20):\n",
    "        \n",
    "        self.twitter_keys = keys_dict\n",
    "        \n",
    "        auth = tw.OAuthHandler(keys_dict['consumer_key'], keys_dict['consumer_secret'])\n",
    "        auth.set_access_token(keys_dict['access_token_key'], keys_dict['access_token_secret'])\n",
    "        \n",
    "        self.api = tw.API(auth)\n",
    "        self.twitter_keys = keys_dict\n",
    "        \n",
    "        self.result_limit = result_limit\n",
    "        \n",
    "\n",
    "    def mine_user_tweets(self, user=\"dril\", #BECAUSE WHO ELSE!\n",
    "                         mine_retweets=False,\n",
    "                         max_pages=5):\n",
    "\n",
    "        data           =  []\n",
    "        last_tweet_id  =  False\n",
    "        page           =  1\n",
    "        \n",
    "        while page <= max_pages:\n",
    "            if last_tweet_id:\n",
    "                statuses   =   self.api.user_timeline(screen_name=user,\n",
    "                                                     count=self.result_limit,\n",
    "                                                     max_id=last_tweet_id - 1,\n",
    "                                                     tweet_mode = 'extended',\n",
    "                                                     include_retweets=True\n",
    "                                                    )        \n",
    "            else:\n",
    "                statuses   =   self.api.user_timeline(screen_name=user,\n",
    "                                                        count=self.result_limit,\n",
    "                                                        tweet_mode = 'extended',\n",
    "                                                        include_retweets=True)\n",
    "                \n",
    "            for item in statuses:\n",
    "\n",
    "                mined = {\n",
    "                    'tweet_id':        item.id,\n",
    "                    'name':            item.user.name,\n",
    "                    'screen_name':     item.user.screen_name,\n",
    "                    'retweet_count':   item.retweet_count,\n",
    "                    'text':            item.full_text,\n",
    "                    'mined_at':        datetime.datetime.now(),\n",
    "                    'created_at':      item.created_at,\n",
    "                    'favourite_count': item.favorite_count,\n",
    "                    'hashtags':        item.entities['hashtags'],\n",
    "                    'status_count':    item.user.statuses_count,\n",
    "                    'location':        item.place,\n",
    "                    'source_device':   item.source\n",
    "                }\n",
    "                \n",
    "                try:\n",
    "                    mined['retweet_text'] = item.retweeted_status.full_text\n",
    "                except:\n",
    "                    mined['retweet_text'] = 'None'\n",
    "                try:\n",
    "                    mined['quote_text'] = item.quoted_status.full_text\n",
    "                    mined['quote_screen_name'] = status.quoted_status.user.screen_name\n",
    "                except:\n",
    "                    mined['quote_text'] = 'None'\n",
    "                    mined['quote_screen_name'] = 'None'\n",
    "                \n",
    "                last_tweet_id = item.id\n",
    "                data.append(mined)\n",
    "                \n",
    "            page += 1\n",
    "            \n",
    "        return data "
   ]
  },
  {
   "cell_type": "code",
   "execution_count": 6,
   "metadata": {
    "ExecuteTime": {
     "end_time": "2021-03-02T02:19:33.720713Z",
     "start_time": "2021-03-02T02:19:33.709742Z"
    }
   },
   "outputs": [],
   "source": [
    "miner=TweetMiner(result_limit = 200 )"
   ]
  },
  {
   "cell_type": "code",
   "execution_count": 7,
   "metadata": {
    "ExecuteTime": {
     "end_time": "2021-03-02T02:19:45.631713Z",
     "start_time": "2021-03-02T02:19:34.270887Z"
    }
   },
   "outputs": [],
   "source": [
    "import time\n",
    "\n",
    "handle_list = ['list of handles you want the timelines of']\n",
    "\n",
    "twitter_dict = {}\n",
    "counter = 0\n",
    "\n",
    "for name in handle_list:\n",
    "    try:\n",
    "        twitter_dict[name] = []\n",
    "        twitter_dict[name].append(\n",
    "            miner.mine_user_tweets(user=name, max_pages=17))\n",
    "        counter = counter + 1\n",
    "        if counter % 40 == 0:\n",
    "            time.sleep(900)  # 15 minute sleep time\n",
    "    # if name invalid print name and remove key\n",
    "    except:\n",
    "        print(name, 'is invalid or locked')\n",
    "        twitter_dict.pop(name)\n",
    "\n",
    "all_tweets = pd.concat([pd.DataFrame(twitter_dict[i][0])\n",
    "                        for i in twitter_dict])"
   ]
  },
  {
   "cell_type": "code",
   "execution_count": 8,
   "metadata": {
    "ExecuteTime": {
     "end_time": "2021-03-02T02:20:58.089793Z",
     "start_time": "2021-03-02T02:20:44.560054Z"
    }
   },
   "outputs": [],
   "source": [
    "mined_tweets = miner.mine_user_tweets(user='AZGOP', max_pages=17)\n",
    "\n",
    "mined_tweets_df= pd.DataFrame(mined_tweets)"
   ]
  },
  {
   "cell_type": "code",
   "execution_count": 10,
   "metadata": {
    "ExecuteTime": {
     "end_time": "2021-03-02T02:30:59.443869Z",
     "start_time": "2021-03-02T02:30:59.415944Z"
    }
   },
   "outputs": [
    {
     "data": {
      "text/html": [
       "<div>\n",
       "<style scoped>\n",
       "    .dataframe tbody tr th:only-of-type {\n",
       "        vertical-align: middle;\n",
       "    }\n",
       "\n",
       "    .dataframe tbody tr th {\n",
       "        vertical-align: top;\n",
       "    }\n",
       "\n",
       "    .dataframe thead th {\n",
       "        text-align: right;\n",
       "    }\n",
       "</style>\n",
       "<table border=\"1\" class=\"dataframe\">\n",
       "  <thead>\n",
       "    <tr style=\"text-align: right;\">\n",
       "      <th></th>\n",
       "      <th>tweet_id</th>\n",
       "      <th>name</th>\n",
       "      <th>screen_name</th>\n",
       "      <th>retweet_count</th>\n",
       "      <th>text</th>\n",
       "      <th>mined_at</th>\n",
       "      <th>created_at</th>\n",
       "      <th>favourite_count</th>\n",
       "      <th>hashtags</th>\n",
       "      <th>status_count</th>\n",
       "      <th>location</th>\n",
       "      <th>source_device</th>\n",
       "      <th>retweet_text</th>\n",
       "      <th>quote_text</th>\n",
       "      <th>quote_screen_name</th>\n",
       "    </tr>\n",
       "  </thead>\n",
       "  <tbody>\n",
       "    <tr>\n",
       "      <th>0</th>\n",
       "      <td>1366531294763474945</td>\n",
       "      <td>Arizona Republican Party</td>\n",
       "      <td>AZGOP</td>\n",
       "      <td>39</td>\n",
       "      <td>Today, Chairwoman Kelli Ward comments on Presi...</td>\n",
       "      <td>2021-03-01 21:20:45.403762</td>\n",
       "      <td>2021-03-01 23:30:24</td>\n",
       "      <td>201</td>\n",
       "      <td>[]</td>\n",
       "      <td>22075</td>\n",
       "      <td>None</td>\n",
       "      <td>Twitter Media Studio</td>\n",
       "      <td>None</td>\n",
       "      <td>None</td>\n",
       "      <td>None</td>\n",
       "    </tr>\n",
       "    <tr>\n",
       "      <th>1</th>\n",
       "      <td>1366365545960890372</td>\n",
       "      <td>Arizona Republican Party</td>\n",
       "      <td>AZGOP</td>\n",
       "      <td>64</td>\n",
       "      <td>True story. https://t.co/p3RkEGBRqE</td>\n",
       "      <td>2021-03-01 21:20:45.403762</td>\n",
       "      <td>2021-03-01 12:31:46</td>\n",
       "      <td>389</td>\n",
       "      <td>[]</td>\n",
       "      <td>22075</td>\n",
       "      <td>None</td>\n",
       "      <td>Twitter for iPhone</td>\n",
       "      <td>None</td>\n",
       "      <td>None</td>\n",
       "      <td>None</td>\n",
       "    </tr>\n",
       "    <tr>\n",
       "      <th>2</th>\n",
       "      <td>1366247085746515972</td>\n",
       "      <td>Arizona Republican Party</td>\n",
       "      <td>AZGOP</td>\n",
       "      <td>369</td>\n",
       "      <td>Happen to catch President Trump's speech at CP...</td>\n",
       "      <td>2021-03-01 21:20:45.403762</td>\n",
       "      <td>2021-03-01 04:41:03</td>\n",
       "      <td>2657</td>\n",
       "      <td>[]</td>\n",
       "      <td>22075</td>\n",
       "      <td>None</td>\n",
       "      <td>Twitter Web App</td>\n",
       "      <td>None</td>\n",
       "      <td>None</td>\n",
       "      <td>None</td>\n",
       "    </tr>\n",
       "    <tr>\n",
       "      <th>3</th>\n",
       "      <td>1365681877743329293</td>\n",
       "      <td>Arizona Republican Party</td>\n",
       "      <td>AZGOP</td>\n",
       "      <td>0</td>\n",
       "      <td>@FryHangar @sococro https://t.co/F8nWAtiH0W</td>\n",
       "      <td>2021-03-01 21:20:45.403762</td>\n",
       "      <td>2021-02-27 15:15:07</td>\n",
       "      <td>1</td>\n",
       "      <td>[]</td>\n",
       "      <td>22075</td>\n",
       "      <td>None</td>\n",
       "      <td>Twitter for iPhone</td>\n",
       "      <td>None</td>\n",
       "      <td>None</td>\n",
       "      <td>None</td>\n",
       "    </tr>\n",
       "    <tr>\n",
       "      <th>4</th>\n",
       "      <td>1365560237751603205</td>\n",
       "      <td>Arizona Republican Party</td>\n",
       "      <td>AZGOP</td>\n",
       "      <td>0</td>\n",
       "      <td>@sococro We are leading the country.</td>\n",
       "      <td>2021-03-01 21:20:45.403762</td>\n",
       "      <td>2021-02-27 07:11:46</td>\n",
       "      <td>0</td>\n",
       "      <td>[]</td>\n",
       "      <td>22075</td>\n",
       "      <td>None</td>\n",
       "      <td>Twitter for iPhone</td>\n",
       "      <td>None</td>\n",
       "      <td>None</td>\n",
       "      <td>None</td>\n",
       "    </tr>\n",
       "  </tbody>\n",
       "</table>\n",
       "</div>"
      ],
      "text/plain": [
       "              tweet_id                      name screen_name  retweet_count  \\\n",
       "0  1366531294763474945  Arizona Republican Party       AZGOP             39   \n",
       "1  1366365545960890372  Arizona Republican Party       AZGOP             64   \n",
       "2  1366247085746515972  Arizona Republican Party       AZGOP            369   \n",
       "3  1365681877743329293  Arizona Republican Party       AZGOP              0   \n",
       "4  1365560237751603205  Arizona Republican Party       AZGOP              0   \n",
       "\n",
       "                                                text  \\\n",
       "0  Today, Chairwoman Kelli Ward comments on Presi...   \n",
       "1                True story. https://t.co/p3RkEGBRqE   \n",
       "2  Happen to catch President Trump's speech at CP...   \n",
       "3        @FryHangar @sococro https://t.co/F8nWAtiH0W   \n",
       "4               @sococro We are leading the country.   \n",
       "\n",
       "                    mined_at          created_at  favourite_count hashtags  \\\n",
       "0 2021-03-01 21:20:45.403762 2021-03-01 23:30:24              201       []   \n",
       "1 2021-03-01 21:20:45.403762 2021-03-01 12:31:46              389       []   \n",
       "2 2021-03-01 21:20:45.403762 2021-03-01 04:41:03             2657       []   \n",
       "3 2021-03-01 21:20:45.403762 2021-02-27 15:15:07                1       []   \n",
       "4 2021-03-01 21:20:45.403762 2021-02-27 07:11:46                0       []   \n",
       "\n",
       "   status_count location         source_device retweet_text quote_text  \\\n",
       "0         22075     None  Twitter Media Studio         None       None   \n",
       "1         22075     None    Twitter for iPhone         None       None   \n",
       "2         22075     None       Twitter Web App         None       None   \n",
       "3         22075     None    Twitter for iPhone         None       None   \n",
       "4         22075     None    Twitter for iPhone         None       None   \n",
       "\n",
       "  quote_screen_name  \n",
       "0              None  \n",
       "1              None  \n",
       "2              None  \n",
       "3              None  \n",
       "4              None  "
      ]
     },
     "execution_count": 10,
     "metadata": {},
     "output_type": "execute_result"
    }
   ],
   "source": [
    "mined_tweets_df.head()"
   ]
  },
  {
   "cell_type": "code",
   "execution_count": 11,
   "metadata": {
    "ExecuteTime": {
     "end_time": "2021-03-02T02:32:16.929925Z",
     "start_time": "2021-03-02T02:32:16.920949Z"
    }
   },
   "outputs": [],
   "source": [
    "azgop_tweets = mined_tweets_df"
   ]
  },
  {
   "cell_type": "code",
   "execution_count": 12,
   "metadata": {
    "ExecuteTime": {
     "end_time": "2021-03-02T02:32:35.358765Z",
     "start_time": "2021-03-02T02:32:35.346797Z"
    }
   },
   "outputs": [
    {
     "data": {
      "text/plain": [
       "RangeIndex(start=0, stop=2866, step=1)"
      ]
     },
     "execution_count": 12,
     "metadata": {},
     "output_type": "execute_result"
    }
   ],
   "source": [
    "azgop_tweets.index"
   ]
  },
  {
   "cell_type": "code",
   "execution_count": 14,
   "metadata": {
    "ExecuteTime": {
     "end_time": "2021-03-02T02:33:39.480597Z",
     "start_time": "2021-03-02T02:33:39.469626Z"
    }
   },
   "outputs": [],
   "source": [
    "azgop_tweets.set_index('created_at', inplace=True)"
   ]
  },
  {
   "cell_type": "code",
   "execution_count": 15,
   "metadata": {
    "ExecuteTime": {
     "end_time": "2021-03-02T02:34:19.928634Z",
     "start_time": "2021-03-02T02:34:19.916665Z"
    }
   },
   "outputs": [],
   "source": [
    "azgop_tweets.sort_index(ascending=True, inplace=True)"
   ]
  },
  {
   "cell_type": "code",
   "execution_count": 16,
   "metadata": {
    "ExecuteTime": {
     "end_time": "2021-03-02T02:34:25.116556Z",
     "start_time": "2021-03-02T02:34:25.091623Z"
    }
   },
   "outputs": [
    {
     "data": {
      "text/html": [
       "<div>\n",
       "<style scoped>\n",
       "    .dataframe tbody tr th:only-of-type {\n",
       "        vertical-align: middle;\n",
       "    }\n",
       "\n",
       "    .dataframe tbody tr th {\n",
       "        vertical-align: top;\n",
       "    }\n",
       "\n",
       "    .dataframe thead th {\n",
       "        text-align: right;\n",
       "    }\n",
       "</style>\n",
       "<table border=\"1\" class=\"dataframe\">\n",
       "  <thead>\n",
       "    <tr style=\"text-align: right;\">\n",
       "      <th></th>\n",
       "      <th>tweet_id</th>\n",
       "      <th>name</th>\n",
       "      <th>screen_name</th>\n",
       "      <th>retweet_count</th>\n",
       "      <th>text</th>\n",
       "      <th>mined_at</th>\n",
       "      <th>favourite_count</th>\n",
       "      <th>hashtags</th>\n",
       "      <th>status_count</th>\n",
       "      <th>location</th>\n",
       "      <th>source_device</th>\n",
       "      <th>retweet_text</th>\n",
       "      <th>quote_text</th>\n",
       "      <th>quote_screen_name</th>\n",
       "    </tr>\n",
       "    <tr>\n",
       "      <th>created_at</th>\n",
       "      <th></th>\n",
       "      <th></th>\n",
       "      <th></th>\n",
       "      <th></th>\n",
       "      <th></th>\n",
       "      <th></th>\n",
       "      <th></th>\n",
       "      <th></th>\n",
       "      <th></th>\n",
       "      <th></th>\n",
       "      <th></th>\n",
       "      <th></th>\n",
       "      <th></th>\n",
       "      <th></th>\n",
       "    </tr>\n",
       "  </thead>\n",
       "  <tbody>\n",
       "    <tr>\n",
       "      <th>2020-10-28 23:27:25</th>\n",
       "      <td>1321594448652902401</td>\n",
       "      <td>Arizona Republican Party</td>\n",
       "      <td>AZGOP</td>\n",
       "      <td>1477</td>\n",
       "      <td>RT @DanScavino: https://t.co/kYfjpWYjCK</td>\n",
       "      <td>2021-03-01 21:20:58.069814</td>\n",
       "      <td>0</td>\n",
       "      <td>[]</td>\n",
       "      <td>22075</td>\n",
       "      <td>None</td>\n",
       "      <td>Twitter for iPhone</td>\n",
       "      <td>https://t.co/kYfjpWYjCK</td>\n",
       "      <td>None</td>\n",
       "      <td>None</td>\n",
       "    </tr>\n",
       "    <tr>\n",
       "      <th>2020-10-28 23:27:36</th>\n",
       "      <td>1321594494353956864</td>\n",
       "      <td>Arizona Republican Party</td>\n",
       "      <td>AZGOP</td>\n",
       "      <td>16</td>\n",
       "      <td>RT @jeremiahcota: Thank you POTUS for one last...</td>\n",
       "      <td>2021-03-01 21:20:58.069814</td>\n",
       "      <td>0</td>\n",
       "      <td>[{'text': 'FourMoreYears', 'indices': [75, 89]...</td>\n",
       "      <td>22075</td>\n",
       "      <td>None</td>\n",
       "      <td>Twitter for iPhone</td>\n",
       "      <td>Thank you POTUS for one last rally!\\n\\nArizona...</td>\n",
       "      <td>None</td>\n",
       "      <td>None</td>\n",
       "    </tr>\n",
       "    <tr>\n",
       "      <th>2020-10-28 23:27:43</th>\n",
       "      <td>1321594523277877249</td>\n",
       "      <td>Arizona Republican Party</td>\n",
       "      <td>AZGOP</td>\n",
       "      <td>143</td>\n",
       "      <td>RT @TrumpStudents: LATINOS LOVE @REALDONALDTRU...</td>\n",
       "      <td>2021-03-01 21:20:58.069814</td>\n",
       "      <td>0</td>\n",
       "      <td>[]</td>\n",
       "      <td>22075</td>\n",
       "      <td>None</td>\n",
       "      <td>Twitter for iPhone</td>\n",
       "      <td>LATINOS LOVE @REALDONALDTRUMP! https://t.co/is...</td>\n",
       "      <td>None</td>\n",
       "      <td>None</td>\n",
       "    </tr>\n",
       "    <tr>\n",
       "      <th>2020-10-28 23:27:50</th>\n",
       "      <td>1321594553598500864</td>\n",
       "      <td>Arizona Republican Party</td>\n",
       "      <td>AZGOP</td>\n",
       "      <td>548</td>\n",
       "      <td>RT @GOP: “Today, I’m announcing the American D...</td>\n",
       "      <td>2021-03-01 21:20:58.069814</td>\n",
       "      <td>0</td>\n",
       "      <td>[]</td>\n",
       "      <td>22075</td>\n",
       "      <td>None</td>\n",
       "      <td>Twitter for iPhone</td>\n",
       "      <td>“Today, I’m announcing the American Dream Plan...</td>\n",
       "      <td>None</td>\n",
       "      <td>None</td>\n",
       "    </tr>\n",
       "    <tr>\n",
       "      <th>2020-10-28 23:28:03</th>\n",
       "      <td>1321594610821459968</td>\n",
       "      <td>Arizona Republican Party</td>\n",
       "      <td>AZGOP</td>\n",
       "      <td>2439</td>\n",
       "      <td>RT @GOPChairwoman: ARIZONA is fired up and rea...</td>\n",
       "      <td>2021-03-01 21:20:58.069814</td>\n",
       "      <td>0</td>\n",
       "      <td>[]</td>\n",
       "      <td>22075</td>\n",
       "      <td>None</td>\n",
       "      <td>Twitter for iPhone</td>\n",
       "      <td>ARIZONA is fired up and ready to re-elect for ...</td>\n",
       "      <td>None</td>\n",
       "      <td>None</td>\n",
       "    </tr>\n",
       "  </tbody>\n",
       "</table>\n",
       "</div>"
      ],
      "text/plain": [
       "                                tweet_id                      name  \\\n",
       "created_at                                                           \n",
       "2020-10-28 23:27:25  1321594448652902401  Arizona Republican Party   \n",
       "2020-10-28 23:27:36  1321594494353956864  Arizona Republican Party   \n",
       "2020-10-28 23:27:43  1321594523277877249  Arizona Republican Party   \n",
       "2020-10-28 23:27:50  1321594553598500864  Arizona Republican Party   \n",
       "2020-10-28 23:28:03  1321594610821459968  Arizona Republican Party   \n",
       "\n",
       "                    screen_name  retweet_count  \\\n",
       "created_at                                       \n",
       "2020-10-28 23:27:25       AZGOP           1477   \n",
       "2020-10-28 23:27:36       AZGOP             16   \n",
       "2020-10-28 23:27:43       AZGOP            143   \n",
       "2020-10-28 23:27:50       AZGOP            548   \n",
       "2020-10-28 23:28:03       AZGOP           2439   \n",
       "\n",
       "                                                                  text  \\\n",
       "created_at                                                               \n",
       "2020-10-28 23:27:25            RT @DanScavino: https://t.co/kYfjpWYjCK   \n",
       "2020-10-28 23:27:36  RT @jeremiahcota: Thank you POTUS for one last...   \n",
       "2020-10-28 23:27:43  RT @TrumpStudents: LATINOS LOVE @REALDONALDTRU...   \n",
       "2020-10-28 23:27:50  RT @GOP: “Today, I’m announcing the American D...   \n",
       "2020-10-28 23:28:03  RT @GOPChairwoman: ARIZONA is fired up and rea...   \n",
       "\n",
       "                                      mined_at  favourite_count  \\\n",
       "created_at                                                        \n",
       "2020-10-28 23:27:25 2021-03-01 21:20:58.069814                0   \n",
       "2020-10-28 23:27:36 2021-03-01 21:20:58.069814                0   \n",
       "2020-10-28 23:27:43 2021-03-01 21:20:58.069814                0   \n",
       "2020-10-28 23:27:50 2021-03-01 21:20:58.069814                0   \n",
       "2020-10-28 23:28:03 2021-03-01 21:20:58.069814                0   \n",
       "\n",
       "                                                              hashtags  \\\n",
       "created_at                                                               \n",
       "2020-10-28 23:27:25                                                 []   \n",
       "2020-10-28 23:27:36  [{'text': 'FourMoreYears', 'indices': [75, 89]...   \n",
       "2020-10-28 23:27:43                                                 []   \n",
       "2020-10-28 23:27:50                                                 []   \n",
       "2020-10-28 23:28:03                                                 []   \n",
       "\n",
       "                     status_count location       source_device  \\\n",
       "created_at                                                       \n",
       "2020-10-28 23:27:25         22075     None  Twitter for iPhone   \n",
       "2020-10-28 23:27:36         22075     None  Twitter for iPhone   \n",
       "2020-10-28 23:27:43         22075     None  Twitter for iPhone   \n",
       "2020-10-28 23:27:50         22075     None  Twitter for iPhone   \n",
       "2020-10-28 23:28:03         22075     None  Twitter for iPhone   \n",
       "\n",
       "                                                          retweet_text  \\\n",
       "created_at                                                               \n",
       "2020-10-28 23:27:25                            https://t.co/kYfjpWYjCK   \n",
       "2020-10-28 23:27:36  Thank you POTUS for one last rally!\\n\\nArizona...   \n",
       "2020-10-28 23:27:43  LATINOS LOVE @REALDONALDTRUMP! https://t.co/is...   \n",
       "2020-10-28 23:27:50  “Today, I’m announcing the American Dream Plan...   \n",
       "2020-10-28 23:28:03  ARIZONA is fired up and ready to re-elect for ...   \n",
       "\n",
       "                    quote_text quote_screen_name  \n",
       "created_at                                        \n",
       "2020-10-28 23:27:25       None              None  \n",
       "2020-10-28 23:27:36       None              None  \n",
       "2020-10-28 23:27:43       None              None  \n",
       "2020-10-28 23:27:50       None              None  \n",
       "2020-10-28 23:28:03       None              None  "
      ]
     },
     "execution_count": 16,
     "metadata": {},
     "output_type": "execute_result"
    }
   ],
   "source": [
    "azgop_tweets.head()"
   ]
  },
  {
   "cell_type": "code",
   "execution_count": 18,
   "metadata": {
    "ExecuteTime": {
     "end_time": "2021-03-02T02:35:47.427864Z",
     "start_time": "2021-03-02T02:35:47.416895Z"
    }
   },
   "outputs": [
    {
     "data": {
      "text/plain": [
       "(2866, 14)"
      ]
     },
     "execution_count": 18,
     "metadata": {},
     "output_type": "execute_result"
    }
   ],
   "source": [
    "azgop_tweets.shape"
   ]
  },
  {
   "cell_type": "code",
   "execution_count": null,
   "metadata": {},
   "outputs": [],
   "source": [
    "azgop_tweets.to_csv('./AZGOP1.csv')"
   ]
  }
 ],
 "metadata": {
  "kernelspec": {
   "display_name": "Python 3",
   "language": "python",
   "name": "python3"
  },
  "language_info": {
   "codemirror_mode": {
    "name": "ipython",
    "version": 3
   },
   "file_extension": ".py",
   "mimetype": "text/x-python",
   "name": "python",
   "nbconvert_exporter": "python",
   "pygments_lexer": "ipython3",
   "version": "3.8.5"
  },
  "toc": {
   "base_numbering": 1,
   "nav_menu": {},
   "number_sections": false,
   "sideBar": true,
   "skip_h1_title": false,
   "title_cell": "Table of Contents",
   "title_sidebar": "Contents",
   "toc_cell": false,
   "toc_position": {
    "height": "calc(100% - 180px)",
    "left": "10px",
    "top": "150px",
    "width": "384px"
   },
   "toc_section_display": true,
   "toc_window_display": true
  }
 },
 "nbformat": 4,
 "nbformat_minor": 4
}
