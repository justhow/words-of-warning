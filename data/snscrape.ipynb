{
 "cells": [
  {
   "cell_type": "code",
   "execution_count": 6,
   "metadata": {
    "ExecuteTime": {
     "end_time": "2021-03-04T00:25:27.493550Z",
     "start_time": "2021-03-04T00:25:27.490542Z"
    }
   },
   "outputs": [],
   "source": [
    "import snscrape.modules.twitter as sntwitter\n",
    "import pandas as pd"
   ]
  },
  {
   "cell_type": "code",
   "execution_count": 23,
   "metadata": {
    "ExecuteTime": {
     "end_time": "2021-03-04T00:42:00.647406Z",
     "start_time": "2021-03-04T00:42:00.636435Z"
    }
   },
   "outputs": [],
   "source": [
    "# # Example code taken from Martin Beck's tutorial here: \n",
    "# # https://betterprogramming.pub/how-to-scrape-tweets-with-snscrape-90124ed006af\n",
    "\n",
    "# # Creating list to append tweet data to\n",
    "# tweets_list1 = []"
   ]
  },
  {
   "cell_type": "code",
   "execution_count": 27,
   "metadata": {
    "ExecuteTime": {
     "end_time": "2021-03-04T00:42:14.265859Z",
     "start_time": "2021-03-04T00:42:13.418069Z"
    }
   },
   "outputs": [],
   "source": [
    "# # Using TwitterSearchScraper to scrape data and append tweets to list\n",
    "# for i,tweet in enumerate(sntwitter.TwitterSearchScraper('from:jack').get_items()):\n",
    "#     if i>100:\n",
    "#         break\n",
    "#     tweets_list1.append([tweet.date, tweet.id, tweet.content, tweet.user.username])\n",
    "    \n",
    "# # Creating a dataframe from the tweets list above \n",
    "# tweets_df1 = pd.DataFrame(tweets_list1, columns=['Datetime', 'Tweet Id', 'Text', 'Username'])"
   ]
  },
  {
   "cell_type": "code",
   "execution_count": 28,
   "metadata": {
    "ExecuteTime": {
     "end_time": "2021-03-04T00:42:14.280821Z",
     "start_time": "2021-03-04T00:42:14.267855Z"
    }
   },
   "outputs": [
    {
     "data": {
      "text/plain": [
       "[[datetime.datetime(2020, 5, 14, 21, 24, 16, tzinfo=datetime.timezone.utc),\n",
       "  1261044684291440644,\n",
       "  '@katebornstein @HiltonHotels @DoubleTree Love you Auntie Kate.',\n",
       "  'CatalystParadox'],\n",
       " [datetime.datetime(2020, 4, 21, 3, 30, 41, tzinfo=datetime.timezone.utc),\n",
       "  1252439587483291649,\n",
       "  '@AndyEyeballs The antikythera mechanism.',\n",
       "  'CatalystParadox'],\n",
       " [datetime.datetime(2020, 3, 24, 6, 30, 31, tzinfo=datetime.timezone.utc),\n",
       "  1242337983447130112,\n",
       "  '@randilions Whaaaat?!  No!  Why?  How?!',\n",
       "  'CatalystParadox'],\n",
       " [datetime.datetime(2020, 3, 3, 3, 38, 59, tzinfo=datetime.timezone.utc),\n",
       "  1234684672426246146,\n",
       "  'hot DAMN this is better than I thought any cosplay could possibly be https://t.co/jqPCYchd91',\n",
       "  'CatalystParadox'],\n",
       " [datetime.datetime(2020, 2, 3, 2, 28, 21, tzinfo=datetime.timezone.utc),\n",
       "  1224157648695779328,\n",
       "  '@randilions Hello darkness my old friend....',\n",
       "  'CatalystParadox'],\n",
       " [datetime.datetime(2020, 2, 3, 2, 26, 50, tzinfo=datetime.timezone.utc),\n",
       "  1224157264849920004,\n",
       "  '@Iron_Spike Even better?  This is for the job he ALREADY HAS.',\n",
       "  'CatalystParadox'],\n",
       " [datetime.datetime(2020, 2, 3, 2, 26, 18, tzinfo=datetime.timezone.utc),\n",
       "  1224157129981988865,\n",
       "  \"@Iron_Spike Yuuup.  K's a friend of mine, in fact.\",\n",
       "  'CatalystParadox']]"
      ]
     },
     "execution_count": 28,
     "metadata": {},
     "output_type": "execute_result"
    }
   ],
   "source": [
    "# tweets_list1"
   ]
  },
  {
   "cell_type": "code",
   "execution_count": 9,
   "metadata": {
    "ExecuteTime": {
     "end_time": "2021-03-04T00:25:27.950428Z",
     "start_time": "2021-03-04T00:25:27.937462Z"
    }
   },
   "outputs": [],
   "source": [
    "# # Creating a dataframe from the tweets list above \n",
    "# tweets_df1 = pd.DataFrame(tweets_list1, columns=['Datetime', 'Tweet Id', 'Text', 'Username'])"
   ]
  },
  {
   "cell_type": "code",
   "execution_count": 10,
   "metadata": {
    "ExecuteTime": {
     "end_time": "2021-03-04T00:25:28.078353Z",
     "start_time": "2021-03-04T00:25:28.067383Z"
    }
   },
   "outputs": [],
   "source": [
    "# # Creating list to append tweet data to\n",
    "# tweets_list2 = []"
   ]
  },
  {
   "cell_type": "code",
   "execution_count": 11,
   "metadata": {
    "ExecuteTime": {
     "end_time": "2021-03-04T00:25:28.204610Z",
     "start_time": "2021-03-04T00:25:28.192642Z"
    }
   },
   "outputs": [],
   "source": [
    "# # Using TwitterSearchScraper to scrape data and append tweets to list\n",
    "# for i,tweet in enumerate(sntwitter.TwitterSearchScraper('its the elephant since:2020-06-01 until:2020-07-31').get_items()):\n",
    "#     if i>500:\n",
    "#         break\n",
    "#     tweets_list2.append([tweet.date, tweet.id, tweet.content, tweet.user.username])"
   ]
  },
  {
   "cell_type": "code",
   "execution_count": 13,
   "metadata": {
    "ExecuteTime": {
     "end_time": "2021-03-04T00:25:33.935403Z",
     "start_time": "2021-03-04T00:25:33.923437Z"
    }
   },
   "outputs": [],
   "source": [
    "# Creating a dataframe from the tweets list above\n",
    "# tweets_df2 = pd.DataFrame(tweets_list2, columns=['Datetime', 'Tweet Id', 'Text', 'Username'])"
   ]
  },
  {
   "cell_type": "code",
   "execution_count": 36,
   "metadata": {
    "ExecuteTime": {
     "end_time": "2021-03-04T00:43:38.574433Z",
     "start_time": "2021-03-04T00:43:38.562464Z"
    }
   },
   "outputs": [],
   "source": [
    "tweets_list = []"
   ]
  },
  {
   "cell_type": "code",
   "execution_count": 49,
   "metadata": {
    "ExecuteTime": {
     "end_time": "2021-03-04T00:47:13.862977Z",
     "start_time": "2021-03-04T00:46:59.036014Z"
    }
   },
   "outputs": [],
   "source": [
    "# my adaptation\n",
    "for i,tweet in enumerate(sntwitter.TwitterSearchScraper('from:AZGOP since:2020-01-01 until:2021-01-31').get_items()):\n",
    "    if i>250000:\n",
    "        break\n",
    "    tweets_list.append([tweet.date, tweet.id, tweet.content, tweet.user.username])"
   ]
  },
  {
   "cell_type": "code",
   "execution_count": 50,
   "metadata": {
    "ExecuteTime": {
     "end_time": "2021-03-04T00:47:13.877938Z",
     "start_time": "2021-03-04T00:47:13.863975Z"
    }
   },
   "outputs": [
    {
     "data": {
      "text/plain": [
       "[datetime.datetime(2021, 1, 29, 23, 31, 1, tzinfo=datetime.timezone.utc),\n",
       " 1355297425934565376,\n",
       " \"In today's update, Chairwoman Kelli Ward provides an update on the status of the full forensic audit of the 2020 election and thanks Arizona's Senate Republicans who are poised to deliver for Arizona's voters. Be sure to thank your state senators! @AZSenateGOP @kelliwardaz https://t.co/TUMgmUORFo\",\n",
       " 'AZGOP']"
      ]
     },
     "execution_count": 50,
     "metadata": {},
     "output_type": "execute_result"
    }
   ],
   "source": [
    "tweets_list[0]"
   ]
  },
  {
   "cell_type": "code",
   "execution_count": 51,
   "metadata": {
    "ExecuteTime": {
     "end_time": "2021-03-04T00:47:13.893895Z",
     "start_time": "2021-03-04T00:47:13.878935Z"
    }
   },
   "outputs": [],
   "source": [
    "tweets_df = pd.DataFrame(tweets_list, columns=['Datetime', 'Tweet Id', 'Text', 'Username'])"
   ]
  },
  {
   "cell_type": "code",
   "execution_count": 52,
   "metadata": {
    "ExecuteTime": {
     "end_time": "2021-03-04T00:47:13.908854Z",
     "start_time": "2021-03-04T00:47:13.895888Z"
    }
   },
   "outputs": [
    {
     "data": {
      "text/plain": [
       "(1892, 4)"
      ]
     },
     "execution_count": 52,
     "metadata": {},
     "output_type": "execute_result"
    }
   ],
   "source": [
    "tweets_df.shape"
   ]
  },
  {
   "cell_type": "code",
   "execution_count": 53,
   "metadata": {
    "ExecuteTime": {
     "end_time": "2021-03-04T00:47:27.827659Z",
     "start_time": "2021-03-04T00:47:27.802726Z"
    }
   },
   "outputs": [
    {
     "data": {
      "text/html": [
       "<div>\n",
       "<style scoped>\n",
       "    .dataframe tbody tr th:only-of-type {\n",
       "        vertical-align: middle;\n",
       "    }\n",
       "\n",
       "    .dataframe tbody tr th {\n",
       "        vertical-align: top;\n",
       "    }\n",
       "\n",
       "    .dataframe thead th {\n",
       "        text-align: right;\n",
       "    }\n",
       "</style>\n",
       "<table border=\"1\" class=\"dataframe\">\n",
       "  <thead>\n",
       "    <tr style=\"text-align: right;\">\n",
       "      <th></th>\n",
       "      <th>Datetime</th>\n",
       "      <th>Tweet Id</th>\n",
       "      <th>Text</th>\n",
       "      <th>Username</th>\n",
       "    </tr>\n",
       "  </thead>\n",
       "  <tbody>\n",
       "    <tr>\n",
       "      <th>0</th>\n",
       "      <td>2021-01-29 23:31:01+00:00</td>\n",
       "      <td>1355297425934565376</td>\n",
       "      <td>In today's update, Chairwoman Kelli Ward provi...</td>\n",
       "      <td>AZGOP</td>\n",
       "    </tr>\n",
       "    <tr>\n",
       "      <th>1</th>\n",
       "      <td>2021-01-29 03:32:49+00:00</td>\n",
       "      <td>1354995890927222784</td>\n",
       "      <td>Today, Chairwoman Ward announces last Saturday...</td>\n",
       "      <td>AZGOP</td>\n",
       "    </tr>\n",
       "    <tr>\n",
       "      <th>2</th>\n",
       "      <td>2021-01-28 00:53:06+00:00</td>\n",
       "      <td>1354593309331603457</td>\n",
       "      <td>In today's update, Chairwoman Kelli Ward share...</td>\n",
       "      <td>AZGOP</td>\n",
       "    </tr>\n",
       "    <tr>\n",
       "      <th>3</th>\n",
       "      <td>2021-01-27 00:32:03+00:00</td>\n",
       "      <td>1354225623565127684</td>\n",
       "      <td>Today, Chairwoman Kelli Ward shares the status...</td>\n",
       "      <td>AZGOP</td>\n",
       "    </tr>\n",
       "    <tr>\n",
       "      <th>4</th>\n",
       "      <td>2021-01-26 01:02:26+00:00</td>\n",
       "      <td>1353870879600435200</td>\n",
       "      <td>In today’s update, Chairwoman @kelliwardaz pro...</td>\n",
       "      <td>AZGOP</td>\n",
       "    </tr>\n",
       "  </tbody>\n",
       "</table>\n",
       "</div>"
      ],
      "text/plain": [
       "                   Datetime             Tweet Id  \\\n",
       "0 2021-01-29 23:31:01+00:00  1355297425934565376   \n",
       "1 2021-01-29 03:32:49+00:00  1354995890927222784   \n",
       "2 2021-01-28 00:53:06+00:00  1354593309331603457   \n",
       "3 2021-01-27 00:32:03+00:00  1354225623565127684   \n",
       "4 2021-01-26 01:02:26+00:00  1353870879600435200   \n",
       "\n",
       "                                                Text Username  \n",
       "0  In today's update, Chairwoman Kelli Ward provi...    AZGOP  \n",
       "1  Today, Chairwoman Ward announces last Saturday...    AZGOP  \n",
       "2  In today's update, Chairwoman Kelli Ward share...    AZGOP  \n",
       "3  Today, Chairwoman Kelli Ward shares the status...    AZGOP  \n",
       "4  In today’s update, Chairwoman @kelliwardaz pro...    AZGOP  "
      ]
     },
     "execution_count": 53,
     "metadata": {},
     "output_type": "execute_result"
    }
   ],
   "source": [
    "tweets_df.head()"
   ]
  },
  {
   "cell_type": "code",
   "execution_count": 54,
   "metadata": {
    "ExecuteTime": {
     "end_time": "2021-03-04T00:47:35.485571Z",
     "start_time": "2021-03-04T00:47:35.475597Z"
    }
   },
   "outputs": [
    {
     "data": {
      "text/html": [
       "<div>\n",
       "<style scoped>\n",
       "    .dataframe tbody tr th:only-of-type {\n",
       "        vertical-align: middle;\n",
       "    }\n",
       "\n",
       "    .dataframe tbody tr th {\n",
       "        vertical-align: top;\n",
       "    }\n",
       "\n",
       "    .dataframe thead th {\n",
       "        text-align: right;\n",
       "    }\n",
       "</style>\n",
       "<table border=\"1\" class=\"dataframe\">\n",
       "  <thead>\n",
       "    <tr style=\"text-align: right;\">\n",
       "      <th></th>\n",
       "      <th>Datetime</th>\n",
       "      <th>Tweet Id</th>\n",
       "      <th>Text</th>\n",
       "      <th>Username</th>\n",
       "    </tr>\n",
       "  </thead>\n",
       "  <tbody>\n",
       "    <tr>\n",
       "      <th>1887</th>\n",
       "      <td>2020-01-03 22:40:06+00:00</td>\n",
       "      <td>1213228571617050626</td>\n",
       "      <td>Alone we can do so little; together we can do ...</td>\n",
       "      <td>AZGOP</td>\n",
       "    </tr>\n",
       "    <tr>\n",
       "      <th>1888</th>\n",
       "      <td>2020-01-02 17:10:16+00:00</td>\n",
       "      <td>1212783176214560771</td>\n",
       "      <td>When broken down by industry, Americans in con...</td>\n",
       "      <td>AZGOP</td>\n",
       "    </tr>\n",
       "    <tr>\n",
       "      <th>1889</th>\n",
       "      <td>2020-01-01 22:56:35+00:00</td>\n",
       "      <td>1212507942722793473</td>\n",
       "      <td>Thank you, President Trump! https://t.co/rZ2sS...</td>\n",
       "      <td>AZGOP</td>\n",
       "    </tr>\n",
       "    <tr>\n",
       "      <th>1890</th>\n",
       "      <td>2020-01-01 07:01:06+00:00</td>\n",
       "      <td>1212267485963177984</td>\n",
       "      <td>Wishing all Arizonans a happy, healthy, and ex...</td>\n",
       "      <td>AZGOP</td>\n",
       "    </tr>\n",
       "    <tr>\n",
       "      <th>1891</th>\n",
       "      <td>2020-01-01 04:25:02+00:00</td>\n",
       "      <td>1212228213650444288</td>\n",
       "      <td>2019 was a great year for Arizona. Here's to 2...</td>\n",
       "      <td>AZGOP</td>\n",
       "    </tr>\n",
       "  </tbody>\n",
       "</table>\n",
       "</div>"
      ],
      "text/plain": [
       "                      Datetime             Tweet Id  \\\n",
       "1887 2020-01-03 22:40:06+00:00  1213228571617050626   \n",
       "1888 2020-01-02 17:10:16+00:00  1212783176214560771   \n",
       "1889 2020-01-01 22:56:35+00:00  1212507942722793473   \n",
       "1890 2020-01-01 07:01:06+00:00  1212267485963177984   \n",
       "1891 2020-01-01 04:25:02+00:00  1212228213650444288   \n",
       "\n",
       "                                                   Text Username  \n",
       "1887  Alone we can do so little; together we can do ...    AZGOP  \n",
       "1888  When broken down by industry, Americans in con...    AZGOP  \n",
       "1889  Thank you, President Trump! https://t.co/rZ2sS...    AZGOP  \n",
       "1890  Wishing all Arizonans a happy, healthy, and ex...    AZGOP  \n",
       "1891  2019 was a great year for Arizona. Here's to 2...    AZGOP  "
      ]
     },
     "execution_count": 54,
     "metadata": {},
     "output_type": "execute_result"
    }
   ],
   "source": [
    "tweets_df.tail()"
   ]
  },
  {
   "cell_type": "code",
   "execution_count": 55,
   "metadata": {
    "ExecuteTime": {
     "end_time": "2021-03-04T00:48:27.583623Z",
     "start_time": "2021-03-04T00:48:27.543712Z"
    }
   },
   "outputs": [],
   "source": [
    "tweets_df.to_csv('AZGOP.csv')"
   ]
  },
  {
   "cell_type": "code",
   "execution_count": null,
   "metadata": {},
   "outputs": [],
   "source": []
  }
 ],
 "metadata": {
  "kernelspec": {
   "display_name": "Python 3",
   "language": "python",
   "name": "python3"
  },
  "language_info": {
   "codemirror_mode": {
    "name": "ipython",
    "version": 3
   },
   "file_extension": ".py",
   "mimetype": "text/x-python",
   "name": "python",
   "nbconvert_exporter": "python",
   "pygments_lexer": "ipython3",
   "version": "3.8.5"
  },
  "toc": {
   "base_numbering": 1,
   "nav_menu": {},
   "number_sections": false,
   "sideBar": true,
   "skip_h1_title": false,
   "title_cell": "Table of Contents",
   "title_sidebar": "Contents",
   "toc_cell": false,
   "toc_position": {},
   "toc_section_display": true,
   "toc_window_display": true
  }
 },
 "nbformat": 4,
 "nbformat_minor": 4
}
