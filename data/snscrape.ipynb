{
 "cells": [
  {
   "cell_type": "code",
   "execution_count": 76,
   "metadata": {
    "ExecuteTime": {
     "end_time": "2021-03-15T06:08:48.881933Z",
     "start_time": "2021-03-15T06:08:48.879005Z"
    }
   },
   "outputs": [],
   "source": [
    "import snscrape.modules.twitter as sntwitter\n",
    "import pandas as pd"
   ]
  },
  {
   "cell_type": "code",
   "execution_count": 31,
   "metadata": {
    "ExecuteTime": {
     "end_time": "2021-03-10T05:54:38.304536Z",
     "start_time": "2021-03-10T05:54:38.289576Z"
    }
   },
   "outputs": [],
   "source": [
    "# # Example code taken from Martin Beck's tutorial here: \n",
    "# # https://betterprogramming.pub/how-to-scrape-tweets-with-snscrape-90124ed006af\n",
    "\n",
    "# # Creating list to append tweet data to\n",
    "# tweets_list1 = []"
   ]
  },
  {
   "cell_type": "code",
   "execution_count": 32,
   "metadata": {
    "ExecuteTime": {
     "end_time": "2021-03-10T05:54:38.478690Z",
     "start_time": "2021-03-10T05:54:38.465725Z"
    }
   },
   "outputs": [],
   "source": [
    "# # Using TwitterSearchScraper to scrape data and append tweets to list\n",
    "# for i,tweet in enumerate(sntwitter.TwitterSearchScraper('from:jack').get_items()):\n",
    "#     if i>100:\n",
    "#         break\n",
    "#     tweets_list1.append([tweet.date, tweet.id, tweet.content, tweet.user.username])\n",
    "    \n",
    "# # Creating a dataframe from the tweets list above \n",
    "# tweets_df1 = pd.DataFrame(tweets_list1, columns=['Datetime', 'Tweet Id', 'Text', 'Username'])"
   ]
  },
  {
   "cell_type": "code",
   "execution_count": 33,
   "metadata": {
    "ExecuteTime": {
     "end_time": "2021-03-10T05:54:38.632790Z",
     "start_time": "2021-03-10T05:54:38.626809Z"
    }
   },
   "outputs": [],
   "source": [
    "# tweets_list1"
   ]
  },
  {
   "cell_type": "code",
   "execution_count": 34,
   "metadata": {
    "ExecuteTime": {
     "end_time": "2021-03-10T05:54:38.790487Z",
     "start_time": "2021-03-10T05:54:38.779521Z"
    }
   },
   "outputs": [],
   "source": [
    "# # Creating a dataframe from the tweets list above \n",
    "# tweets_df1 = pd.DataFrame(tweets_list1, columns=['Datetime', 'Tweet Id', 'Text', 'Username'])"
   ]
  },
  {
   "cell_type": "code",
   "execution_count": 35,
   "metadata": {
    "ExecuteTime": {
     "end_time": "2021-03-10T05:54:38.945414Z",
     "start_time": "2021-03-10T05:54:38.931452Z"
    }
   },
   "outputs": [],
   "source": [
    "# # Creating list to append tweet data to\n",
    "# tweets_list2 = []"
   ]
  },
  {
   "cell_type": "code",
   "execution_count": 36,
   "metadata": {
    "ExecuteTime": {
     "end_time": "2021-03-10T05:54:39.210626Z",
     "start_time": "2021-03-10T05:54:39.197660Z"
    }
   },
   "outputs": [],
   "source": [
    "# # Using TwitterSearchScraper to scrape data and append tweets to list\n",
    "# for i,tweet in enumerate(sntwitter.TwitterSearchScraper('its the elephant since:2020-06-01 until:2020-07-31').get_items()):\n",
    "#     if i>500:\n",
    "#         break\n",
    "#     tweets_list2.append([tweet.date, tweet.id, tweet.content, tweet.user.username])"
   ]
  },
  {
   "cell_type": "code",
   "execution_count": 37,
   "metadata": {
    "ExecuteTime": {
     "end_time": "2021-03-10T05:54:39.506953Z",
     "start_time": "2021-03-10T05:54:39.490996Z"
    }
   },
   "outputs": [],
   "source": [
    "# Creating a dataframe from the tweets list above\n",
    "# tweets_df2 = pd.DataFrame(tweets_list2, columns=['Datetime', 'Tweet Id', 'Text', 'Username'])"
   ]
  },
  {
   "cell_type": "code",
   "execution_count": 645,
   "metadata": {
    "ExecuteTime": {
     "end_time": "2021-03-15T08:32:33.510610Z",
     "start_time": "2021-03-15T08:32:33.499640Z"
    }
   },
   "outputs": [],
   "source": [
    "tweets_list = []"
   ]
  },
  {
   "cell_type": "code",
   "execution_count": 646,
   "metadata": {
    "ExecuteTime": {
     "end_time": "2021-03-15T08:32:35.653959Z",
     "start_time": "2021-03-15T08:32:33.670751Z"
    }
   },
   "outputs": [],
   "source": [
    "# my adaptation\n",
    "for i,tweet in enumerate(sntwitter.TwitterSearchScraper('from:barrassoforwyo since:2020-01-01 until:2021-01-31').get_items()):\n",
    "    if i>250000:\n",
    "        break\n",
    "    tweets_list.append([tweet.date, tweet.id, tweet.content, tweet.user.username])"
   ]
  },
  {
   "cell_type": "code",
   "execution_count": 647,
   "metadata": {
    "ExecuteTime": {
     "end_time": "2021-03-15T08:32:35.669651Z",
     "start_time": "2021-03-15T08:32:35.655688Z"
    }
   },
   "outputs": [
    {
     "data": {
      "text/plain": [
       "[datetime.datetime(2021, 1, 30, 16, 0, 1, tzinfo=datetime.timezone.utc),\n",
       " 1355546317381128205,\n",
       " 'The Biden Administration has made it clear that American workers will not be a priority while he is in office. Canceling the Keystone Pipeline will further hurt our struggling economy and kill thousands of jobs. Read more in the article below:\\nhttps://t.co/lQzR8mLNg6',\n",
       " 'barrassoforwyo']"
      ]
     },
     "execution_count": 647,
     "metadata": {},
     "output_type": "execute_result"
    }
   ],
   "source": [
    "tweets_list[0]"
   ]
  },
  {
   "cell_type": "code",
   "execution_count": 648,
   "metadata": {
    "ExecuteTime": {
     "end_time": "2021-03-15T08:32:35.684652Z",
     "start_time": "2021-03-15T08:32:35.671656Z"
    }
   },
   "outputs": [],
   "source": [
    "tweets_df = pd.DataFrame(tweets_list, columns=['Datetime', 'Tweet Id', 'Text', 'Username'])"
   ]
  },
  {
   "cell_type": "code",
   "execution_count": 649,
   "metadata": {
    "ExecuteTime": {
     "end_time": "2021-03-15T08:32:35.700567Z",
     "start_time": "2021-03-15T08:32:35.685607Z"
    }
   },
   "outputs": [
    {
     "data": {
      "text/plain": [
       "(173, 4)"
      ]
     },
     "execution_count": 649,
     "metadata": {},
     "output_type": "execute_result"
    }
   ],
   "source": [
    "tweets_df.shape"
   ]
  },
  {
   "cell_type": "code",
   "execution_count": 650,
   "metadata": {
    "ExecuteTime": {
     "end_time": "2021-03-15T08:32:35.715529Z",
     "start_time": "2021-03-15T08:32:35.701566Z"
    }
   },
   "outputs": [
    {
     "data": {
      "text/html": [
       "<div>\n",
       "<style scoped>\n",
       "    .dataframe tbody tr th:only-of-type {\n",
       "        vertical-align: middle;\n",
       "    }\n",
       "\n",
       "    .dataframe tbody tr th {\n",
       "        vertical-align: top;\n",
       "    }\n",
       "\n",
       "    .dataframe thead th {\n",
       "        text-align: right;\n",
       "    }\n",
       "</style>\n",
       "<table border=\"1\" class=\"dataframe\">\n",
       "  <thead>\n",
       "    <tr style=\"text-align: right;\">\n",
       "      <th></th>\n",
       "      <th>Datetime</th>\n",
       "      <th>Tweet Id</th>\n",
       "      <th>Text</th>\n",
       "      <th>Username</th>\n",
       "    </tr>\n",
       "  </thead>\n",
       "  <tbody>\n",
       "    <tr>\n",
       "      <th>0</th>\n",
       "      <td>2021-01-30 16:00:01+00:00</td>\n",
       "      <td>1355546317381128205</td>\n",
       "      <td>The Biden Administration has made it clear tha...</td>\n",
       "      <td>barrassoforwyo</td>\n",
       "    </tr>\n",
       "    <tr>\n",
       "      <th>1</th>\n",
       "      <td>2021-01-29 17:32:16+00:00</td>\n",
       "      <td>1355207142769389569</td>\n",
       "      <td>Today we march for those without a voice. I wi...</td>\n",
       "      <td>barrassoforwyo</td>\n",
       "    </tr>\n",
       "    <tr>\n",
       "      <th>2</th>\n",
       "      <td>2021-01-29 15:15:00+00:00</td>\n",
       "      <td>1355172599362281473</td>\n",
       "      <td>Democrats have made it clear that they will st...</td>\n",
       "      <td>barrassoforwyo</td>\n",
       "    </tr>\n",
       "    <tr>\n",
       "      <th>3</th>\n",
       "      <td>2021-01-28 14:18:18+00:00</td>\n",
       "      <td>1354795944357851137</td>\n",
       "      <td>Stopping the Keystone Pipeline will kill count...</td>\n",
       "      <td>barrassoforwyo</td>\n",
       "    </tr>\n",
       "    <tr>\n",
       "      <th>4</th>\n",
       "      <td>2021-01-27 21:37:19+00:00</td>\n",
       "      <td>1354544037731168257</td>\n",
       "      <td>The Republican Party needs YOUR help to set th...</td>\n",
       "      <td>barrassoforwyo</td>\n",
       "    </tr>\n",
       "  </tbody>\n",
       "</table>\n",
       "</div>"
      ],
      "text/plain": [
       "                   Datetime             Tweet Id  \\\n",
       "0 2021-01-30 16:00:01+00:00  1355546317381128205   \n",
       "1 2021-01-29 17:32:16+00:00  1355207142769389569   \n",
       "2 2021-01-29 15:15:00+00:00  1355172599362281473   \n",
       "3 2021-01-28 14:18:18+00:00  1354795944357851137   \n",
       "4 2021-01-27 21:37:19+00:00  1354544037731168257   \n",
       "\n",
       "                                                Text        Username  \n",
       "0  The Biden Administration has made it clear tha...  barrassoforwyo  \n",
       "1  Today we march for those without a voice. I wi...  barrassoforwyo  \n",
       "2  Democrats have made it clear that they will st...  barrassoforwyo  \n",
       "3  Stopping the Keystone Pipeline will kill count...  barrassoforwyo  \n",
       "4  The Republican Party needs YOUR help to set th...  barrassoforwyo  "
      ]
     },
     "execution_count": 650,
     "metadata": {},
     "output_type": "execute_result"
    }
   ],
   "source": [
    "tweets_df.head()"
   ]
  },
  {
   "cell_type": "code",
   "execution_count": 651,
   "metadata": {
    "ExecuteTime": {
     "end_time": "2021-03-15T08:32:35.745476Z",
     "start_time": "2021-03-15T08:32:35.734476Z"
    }
   },
   "outputs": [
    {
     "data": {
      "text/html": [
       "<div>\n",
       "<style scoped>\n",
       "    .dataframe tbody tr th:only-of-type {\n",
       "        vertical-align: middle;\n",
       "    }\n",
       "\n",
       "    .dataframe tbody tr th {\n",
       "        vertical-align: top;\n",
       "    }\n",
       "\n",
       "    .dataframe thead th {\n",
       "        text-align: right;\n",
       "    }\n",
       "</style>\n",
       "<table border=\"1\" class=\"dataframe\">\n",
       "  <thead>\n",
       "    <tr style=\"text-align: right;\">\n",
       "      <th></th>\n",
       "      <th>Datetime</th>\n",
       "      <th>Tweet Id</th>\n",
       "      <th>Text</th>\n",
       "      <th>Username</th>\n",
       "    </tr>\n",
       "  </thead>\n",
       "  <tbody>\n",
       "    <tr>\n",
       "      <th>168</th>\n",
       "      <td>2020-01-16 20:32:04+00:00</td>\n",
       "      <td>1217907391632740357</td>\n",
       "      <td>Every moment we spend on impeachment is time t...</td>\n",
       "      <td>barrassoforwyo</td>\n",
       "    </tr>\n",
       "    <tr>\n",
       "      <th>169</th>\n",
       "      <td>2020-01-15 22:16:28+00:00</td>\n",
       "      <td>1217571276950265865</td>\n",
       "      <td>Nancy Pelosi finally caved. Impeachment is on ...</td>\n",
       "      <td>barrassoforwyo</td>\n",
       "    </tr>\n",
       "    <tr>\n",
       "      <th>170</th>\n",
       "      <td>2020-01-13 16:50:09+00:00</td>\n",
       "      <td>1216764382526496770</td>\n",
       "      <td>Pelosi's impeachment process has been partisan...</td>\n",
       "      <td>barrassoforwyo</td>\n",
       "    </tr>\n",
       "    <tr>\n",
       "      <th>171</th>\n",
       "      <td>2020-01-07 15:23:22+00:00</td>\n",
       "      <td>1214568215453372421</td>\n",
       "      <td>ICYMI: Yesterday I joined @AmericasNewsroom to...</td>\n",
       "      <td>barrassoforwyo</td>\n",
       "    </tr>\n",
       "    <tr>\n",
       "      <th>172</th>\n",
       "      <td>2020-01-01 14:21:50+00:00</td>\n",
       "      <td>1212378400788295681</td>\n",
       "      <td>Happy New Year! Wishing you, your family, and ...</td>\n",
       "      <td>barrassoforwyo</td>\n",
       "    </tr>\n",
       "  </tbody>\n",
       "</table>\n",
       "</div>"
      ],
      "text/plain": [
       "                     Datetime             Tweet Id  \\\n",
       "168 2020-01-16 20:32:04+00:00  1217907391632740357   \n",
       "169 2020-01-15 22:16:28+00:00  1217571276950265865   \n",
       "170 2020-01-13 16:50:09+00:00  1216764382526496770   \n",
       "171 2020-01-07 15:23:22+00:00  1214568215453372421   \n",
       "172 2020-01-01 14:21:50+00:00  1212378400788295681   \n",
       "\n",
       "                                                  Text        Username  \n",
       "168  Every moment we spend on impeachment is time t...  barrassoforwyo  \n",
       "169  Nancy Pelosi finally caved. Impeachment is on ...  barrassoforwyo  \n",
       "170  Pelosi's impeachment process has been partisan...  barrassoforwyo  \n",
       "171  ICYMI: Yesterday I joined @AmericasNewsroom to...  barrassoforwyo  \n",
       "172  Happy New Year! Wishing you, your family, and ...  barrassoforwyo  "
      ]
     },
     "execution_count": 651,
     "metadata": {},
     "output_type": "execute_result"
    }
   ],
   "source": [
    "tweets_df.tail()"
   ]
  },
  {
   "cell_type": "code",
   "execution_count": 652,
   "metadata": {
    "ExecuteTime": {
     "end_time": "2021-03-15T08:32:40.057996Z",
     "start_time": "2021-03-15T08:32:40.045983Z"
    }
   },
   "outputs": [],
   "source": [
    "tweets_df.to_csv('barrasso2.csv')"
   ]
  },
  {
   "cell_type": "code",
   "execution_count": null,
   "metadata": {},
   "outputs": [],
   "source": []
  }
 ],
 "metadata": {
  "kernelspec": {
   "display_name": "Python 3",
   "language": "python",
   "name": "python3"
  },
  "language_info": {
   "codemirror_mode": {
    "name": "ipython",
    "version": 3
   },
   "file_extension": ".py",
   "mimetype": "text/x-python",
   "name": "python",
   "nbconvert_exporter": "python",
   "pygments_lexer": "ipython3",
   "version": "3.8.5"
  },
  "toc": {
   "base_numbering": 1,
   "nav_menu": {},
   "number_sections": false,
   "sideBar": true,
   "skip_h1_title": false,
   "title_cell": "Table of Contents",
   "title_sidebar": "Contents",
   "toc_cell": false,
   "toc_position": {
    "height": "calc(100% - 180px)",
    "left": "10px",
    "top": "150px",
    "width": "384px"
   },
   "toc_section_display": true,
   "toc_window_display": true
  }
 },
 "nbformat": 4,
 "nbformat_minor": 4
}
