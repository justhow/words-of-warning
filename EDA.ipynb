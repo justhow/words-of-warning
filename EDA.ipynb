{
 "cells": [
  {
   "cell_type": "code",
   "execution_count": 1,
   "metadata": {
    "ExecuteTime": {
     "end_time": "2021-03-03T04:31:22.633501Z",
     "start_time": "2021-03-03T04:31:22.065056Z"
    }
   },
   "outputs": [],
   "source": [
    "import pandas as pd, numpy as np, matplotlib.pyplot as plt"
   ]
  },
  {
   "cell_type": "code",
   "execution_count": 2,
   "metadata": {
    "ExecuteTime": {
     "end_time": "2021-03-03T04:31:49.475565Z",
     "start_time": "2021-03-03T04:31:49.435567Z"
    }
   },
   "outputs": [],
   "source": [
    "df = pd.read_csv('./data/AZGOP1.csv')"
   ]
  },
  {
   "cell_type": "code",
   "execution_count": 3,
   "metadata": {
    "ExecuteTime": {
     "end_time": "2021-03-03T04:31:53.879242Z",
     "start_time": "2021-03-03T04:31:53.870267Z"
    }
   },
   "outputs": [
    {
     "data": {
      "text/plain": [
       "Index(['created_at', 'tweet_id', 'name', 'screen_name', 'retweet_count',\n",
       "       'text', 'mined_at', 'favourite_count', 'hashtags', 'status_count',\n",
       "       'location', 'source_device', 'retweet_text', 'quote_text',\n",
       "       'quote_screen_name'],\n",
       "      dtype='object')"
      ]
     },
     "execution_count": 3,
     "metadata": {},
     "output_type": "execute_result"
    }
   ],
   "source": [
    "df.columns"
   ]
  },
  {
   "cell_type": "code",
   "execution_count": 4,
   "metadata": {
    "ExecuteTime": {
     "end_time": "2021-03-03T04:31:57.531785Z",
     "start_time": "2021-03-03T04:31:57.521812Z"
    }
   },
   "outputs": [
    {
     "data": {
      "text/plain": [
       "created_at            object\n",
       "tweet_id               int64\n",
       "name                  object\n",
       "screen_name           object\n",
       "retweet_count          int64\n",
       "text                  object\n",
       "mined_at              object\n",
       "favourite_count        int64\n",
       "hashtags              object\n",
       "status_count           int64\n",
       "location             float64\n",
       "source_device         object\n",
       "retweet_text          object\n",
       "quote_text            object\n",
       "quote_screen_name     object\n",
       "dtype: object"
      ]
     },
     "execution_count": 4,
     "metadata": {},
     "output_type": "execute_result"
    }
   ],
   "source": [
    "df.dtypes"
   ]
  },
  {
   "cell_type": "code",
   "execution_count": 6,
   "metadata": {
    "ExecuteTime": {
     "end_time": "2021-03-03T04:32:18.558536Z",
     "start_time": "2021-03-03T04:32:18.547552Z"
    }
   },
   "outputs": [
    {
     "data": {
      "text/plain": [
       "pandas.core.series.Series"
      ]
     },
     "execution_count": 6,
     "metadata": {},
     "output_type": "execute_result"
    }
   ],
   "source": [
    "type(df['created_at'])"
   ]
  },
  {
   "cell_type": "code",
   "execution_count": 7,
   "metadata": {
    "ExecuteTime": {
     "end_time": "2021-03-03T04:32:22.017791Z",
     "start_time": "2021-03-03T04:32:22.006820Z"
    }
   },
   "outputs": [
    {
     "data": {
      "text/plain": [
       "str"
      ]
     },
     "execution_count": 7,
     "metadata": {},
     "output_type": "execute_result"
    }
   ],
   "source": [
    "type(df['created_at'][0])"
   ]
  },
  {
   "cell_type": "code",
   "execution_count": null,
   "metadata": {},
   "outputs": [],
   "source": []
  }
 ],
 "metadata": {
  "kernelspec": {
   "display_name": "Python 3",
   "language": "python",
   "name": "python3"
  },
  "language_info": {
   "codemirror_mode": {
    "name": "ipython",
    "version": 3
   },
   "file_extension": ".py",
   "mimetype": "text/x-python",
   "name": "python",
   "nbconvert_exporter": "python",
   "pygments_lexer": "ipython3",
   "version": "3.8.5"
  },
  "toc": {
   "base_numbering": 1,
   "nav_menu": {},
   "number_sections": false,
   "sideBar": true,
   "skip_h1_title": false,
   "title_cell": "Table of Contents",
   "title_sidebar": "Contents",
   "toc_cell": false,
   "toc_position": {},
   "toc_section_display": true,
   "toc_window_display": true
  }
 },
 "nbformat": 4,
 "nbformat_minor": 4
}
