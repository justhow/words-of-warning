{
 "cells": [
  {
   "cell_type": "code",
   "execution_count": 3,
   "metadata": {
    "ExecuteTime": {
     "end_time": "2021-03-14T02:47:24.958176Z",
     "start_time": "2021-03-14T02:47:20.569759Z"
    }
   },
   "outputs": [],
   "source": [
    "import pandas as pd, numpy as np, matplotlib.pyplot as plt\n",
    "\n",
    "from sklearn.feature_extraction.text import CountVectorizer, TfidfVectorizer\n",
    "from sklearn.pipeline import Pipeline\n",
    "from nltk.stem import WordNetLemmatizer\n",
    "from sklearn.metrics import confusion_matrix, plot_confusion_matrix\n",
    "\n",
    "import gensim.downloader as api\n",
    "from gensim.models.word2vec import Word2Vec\n",
    "from transformers import pipeline\n",
    "\n",
    "pd.set_option('display.max_colwidth', 255)\n",
    "plt.style.use(\"dark_background\")"
   ]
  },
  {
   "cell_type": "code",
   "execution_count": 6,
   "metadata": {
    "ExecuteTime": {
     "end_time": "2021-03-14T07:11:46.333193Z",
     "start_time": "2021-03-14T07:11:38.130364Z"
    }
   },
   "outputs": [],
   "source": [
    "anon1 = pd.read_csv('./data/anon1.csv')\n",
    "az_gop = pd.read_csv('./data/AZGOP.csv')\n",
    "biggs1 = pd.read_csv('./data/biggs.csv')\n",
    "biggs2 = pd.read_csv('./data/biggs2.csv')\n",
    "boebert = pd.read_csv('./data/boebert.csv')\n",
    "brooks = pd.read_csv('./data/brooks.csv')\n",
    "cpac1 = pd.read_csv('./data/cpac1.csv')\n",
    "cpac2 = pd.read_csv('./data/cpac2.csv')\n",
    "daines = pd.read_csv('./data/daines.csv')\n",
    "gosar = pd.read_csv('./data/gosar.csv')\n",
    "hash_8balls = pd.read_csv('./data/hash8balls.csv')\n",
    "hash_1933 = pd.read_csv('./data/hash1933.csv')\n",
    "hash_boogaloo = pd.read_csv('./data/hashboogaloo.csv')\n",
    "hash_civilwar = pd.read_csv('./data/hashcivilwar.csv')\n",
    "hash_frens = pd.read_csv('./data/hashfrens.csv')\n",
    "hash_joebiggs = pd.read_csv('./data/hashjoebiggs.csv')\n",
    "hash_oathkeepers = pd.read_csv('./data/hashoathkeepers.csv')\n",
    "hash_patriot = pd.read_csv('./data/hashpatriot.csv')\n",
    "hash_proudboys = pd.read_csv('./data/hashproudboys.csv')\n",
    "hash_qanon = pd.read_csv('./data/hashQanon.csv')\n",
    "hash_SS = pd.read_csv('./data/hashSS.csv')\n",
    "hawley = pd.read_csv('./data/hawley.csv')\n",
    "mtg1 = pd.read_csv('./data/congress1.csv')\n",
    "mtg2 = pd.read_csv('./data/mtg2.csv')\n",
    "poli1 = pd.read_csv('./data/poli1.csv')\n",
    "poli2 = pd.read_csv('./data/1900_USpol_jan9/us_tweets.csv')\n",
    "# jan20 = pd.read_csv('./data/jan20_archive/tweets_v4.csv') #not sure what's wrong here\n",
    "jan6 = pd.read_csv('./data/tweets_2021-01-06.csv')\n",
    "qanon_archive = pd.read_json('./data/qanon_archive/posts.json')\n",
    "riot_tweets = pd.read_csv('./data/riot_tweets_2021-01-06.csv')\n",
    "rosendale1 = pd.read_csv('./data/congress2.csv')\n",
    "rosendale2 = pd.read_csv('./data/rosendale2.csv')\n",
    "trump_tweets = pd.read_csv('./data/trump_tweets_01-08-2021.csv')\n",
    "\n",
    "\n",
    "# parler data is a mass of text files.  \n",
    "# Will decide if I can do anything with that later.\n",
    "# parler = pd.read_csv('./data/parler_archive/Parler/Parler/*') "
   ]
  },
  {
   "cell_type": "code",
   "execution_count": 7,
   "metadata": {
    "ExecuteTime": {
     "end_time": "2021-03-12T20:56:13.002834Z",
     "start_time": "2021-03-12T20:56:12.998930Z"
    }
   },
   "outputs": [],
   "source": [
    "def check_shape(dfs):\n",
    "    for df in dfs:\n",
    "        print(df.shape)"
   ]
  },
  {
   "cell_type": "code",
   "execution_count": 8,
   "metadata": {
    "ExecuteTime": {
     "end_time": "2021-03-12T20:56:13.010642Z",
     "start_time": "2021-03-12T20:56:13.003810Z"
    }
   },
   "outputs": [],
   "source": [
    "def count_rows(dfs):\n",
    "    rowcount = 0\n",
    "    for df in dfs:\n",
    "        rowcount += df.shape[0]\n",
    "    return rowcount"
   ]
  },
  {
   "cell_type": "code",
   "execution_count": 9,
   "metadata": {
    "ExecuteTime": {
     "end_time": "2021-03-12T20:56:13.018449Z",
     "start_time": "2021-03-12T20:56:13.011618Z"
    }
   },
   "outputs": [],
   "source": [
    "dfs = [az_gop, anon1, biggs1, biggs2, boebert, brooks, cpac1, cpac2, daines, gosar, \n",
    "       hash_1933, hash_eights, hash_SS, hash_frens, hash_qanon, hash_boogaloo, \n",
    "       hash_civilwar, hash_joebiggs, hash_oathkeepers, hash_patriot, hash_proudboys, \n",
    "       hawley, mtg1, mtg2, poli1, qanon_archive, riot_tweets, rosendale1, \n",
    "       rosendale2, trump_tweets]"
   ]
  },
  {
   "cell_type": "code",
   "execution_count": 10,
   "metadata": {
    "ExecuteTime": {
     "end_time": "2021-03-12T20:56:13.030162Z",
     "start_time": "2021-03-12T20:56:13.019426Z"
    }
   },
   "outputs": [
    {
     "name": "stdout",
     "output_type": "stream",
     "text": [
      "(2866, 15)\n",
      "(1732, 5)\n",
      "(3912, 5)\n",
      "(319, 5)\n",
      "(2925, 5)\n",
      "(649, 5)\n",
      "(3196, 16)\n",
      "(857, 5)\n",
      "(805, 5)\n",
      "(1505, 5)\n",
      "(250001, 5)\n",
      "(27644, 5)\n",
      "(8975, 5)\n",
      "(250001, 5)\n",
      "(250001, 5)\n",
      "(250001, 5)\n",
      "(250001, 5)\n",
      "(4188, 5)\n",
      "(28659, 5)\n",
      "(250001, 5)\n",
      "(250001, 5)\n",
      "(1468, 5)\n",
      "(46, 5)\n",
      "(5197, 5)\n",
      "(21059, 16)\n",
      "(4953, 4)\n",
      "(82309, 14)\n",
      "(360, 5)\n",
      "(63, 5)\n",
      "(56571, 9)\n"
     ]
    }
   ],
   "source": [
    "check_shape(dfs)"
   ]
  },
  {
   "cell_type": "code",
   "execution_count": 11,
   "metadata": {
    "ExecuteTime": {
     "end_time": "2021-03-12T20:56:13.036994Z",
     "start_time": "2021-03-12T20:56:13.031138Z"
    }
   },
   "outputs": [
    {
     "data": {
      "text/plain": [
       "2010265"
      ]
     },
     "execution_count": 11,
     "metadata": {},
     "output_type": "execute_result"
    }
   ],
   "source": [
    "count_rows(dfs)"
   ]
  },
  {
   "cell_type": "code",
   "execution_count": 12,
   "metadata": {
    "ExecuteTime": {
     "end_time": "2021-03-12T20:56:13.067610Z",
     "start_time": "2021-03-12T20:56:13.037970Z"
    }
   },
   "outputs": [
    {
     "name": "stdout",
     "output_type": "stream",
     "text": [
      "<class 'pandas.core.frame.DataFrame'>\n",
      "RangeIndex: 82309 entries, 0 to 82308\n",
      "Data columns (total 14 columns):\n",
      " #   Column            Non-Null Count  Dtype  \n",
      "---  ------            --------------  -----  \n",
      " 0   tweet_id          82309 non-null  int64  \n",
      " 1   text              82308 non-null  object \n",
      " 2   query             82309 non-null  object \n",
      " 3   user_id           82309 non-null  int64  \n",
      " 4   user_name         2478 non-null   object \n",
      " 5   follower_count    82309 non-null  int64  \n",
      " 6   user_tweet_count  82309 non-null  int64  \n",
      " 7   likes             82309 non-null  int64  \n",
      " 8   retweets          82309 non-null  int64  \n",
      " 9   location_name     285 non-null    object \n",
      " 10  longitude         285 non-null    float64\n",
      " 11  latitude          285 non-null    float64\n",
      " 12  user_location     15890 non-null  object \n",
      " 13  date              82309 non-null  object \n",
      "dtypes: float64(2), int64(6), object(6)\n",
      "memory usage: 8.8+ MB\n"
     ]
    }
   ],
   "source": [
    "riot_tweets.info()"
   ]
  },
  {
   "cell_type": "code",
   "execution_count": 13,
   "metadata": {
    "ExecuteTime": {
     "end_time": "2021-03-12T20:56:13.074442Z",
     "start_time": "2021-03-12T20:56:13.069563Z"
    }
   },
   "outputs": [
    {
     "data": {
      "text/plain": [
       "0    we can adjust by population to get crude excess death rates 2020 will also be the highest since 1940 even with measures taken to limit covid spread 2020 will still top 1951 the year of a major flu epidemic without all our efforts 2020 could have been ...\n",
       "1    turning to labour or remainers like what would you do different while sat on one of the worst economic recessions amp death rates in the g7 its like driving a car off a cliff amp while youre falling offering the wheel to the guy in the passenger seat ...\n",
       "2    numbers of deaths are affected by population size we can also consider death rates as a proportion of the population crude death rates are shown below all improvements in the first decade of this century will be reversed this year spanish flu did the ...\n",
       "3                     here is a list of governors who preside over states with higher deathpermillion rates than fls ron desantis whom the media have anointed public enemy 1 1 murphy d 2 cuomo d 3 baker r 4 raimondo d 5 lamont d 6 burgum r 7 noem r 8 reeves r\n",
       "4                                                                                                                                                                                                         convince me with facts on death rates and infection rates\n",
       "Name: text, dtype: object"
      ]
     },
     "execution_count": 13,
     "metadata": {},
     "output_type": "execute_result"
    }
   ],
   "source": [
    "riot_tweets['text'].head()"
   ]
  },
  {
   "cell_type": "code",
   "execution_count": 14,
   "metadata": {
    "ExecuteTime": {
     "end_time": "2021-03-12T20:56:13.085178Z",
     "start_time": "2021-03-12T20:56:13.076395Z"
    }
   },
   "outputs": [
    {
     "data": {
      "text/plain": [
       "61622    im in the capitol im safe and my team and i are sheltering in place the president of the united states has incited a riot that has now stormed the capitol there are rioters roaming the halls of the capitol i saw them with my own eyes our country deser...\n",
       "59591                                                                                                                                                                                                                   this is what the law and order president wanted\n",
       "146      when people comment on slow vaccination rates someone always jumps in with its a marathon not a sprint maybe but when youre vaccinating the most atrisk first and the death aversion curve looks anything like the one below you should be sprinting out of...\n",
       "66938         trends are nothing without you stay united and spread love unveil avpl trend common watsapp status release date and time yourself go to gif section gt type the keyword gt use the gif and spread it keyword gt vaikunthapurram avpltrendonjan11th pushpa\n",
       "39413    in 2017 georgias next us senator confronted a dark chapter in our nations story by standing for office now jon ossoff will stand for all of georgia in the fight for healthcare jobs justice and our nation will be all the better for having him congratul...\n",
       "1408                                                                                                                               do you still have concerns about the covid19 vaccine this document will provide you with a clear insight and guidance covid19vaccine\n",
       "3020     covid vaccination from the front line my group of practices was initially told we would get our first delivery on 28th december then 4th jan then 11th jan now we are 6th wave and it will be 13th 14th or 15th jan we are raring to go but have no vaccine...\n",
       "29800                           buffalos west side is a diverse neighborhoods but also faces high poverty rates food and education insecurity and poor health outcomes lorrie clemo president of spoke about how its new health professions hub addresses these factors\n",
       "43369    georgia celebrating power of people amp the possible wdem house senate wh expansive covid relief inclu survival checks raise fed min wage to at least 15 green renewable energy infrastructure package putting ppl back to work wunion jobs humane immigrat...\n",
       "58609                                                                                                                                                                                                           put spirit halloween in charge of popup vaccine clinics\n",
       "Name: text, dtype: object"
      ]
     },
     "execution_count": 14,
     "metadata": {},
     "output_type": "execute_result"
    }
   ],
   "source": [
    "riot_tweets['text'].sample(10)"
   ]
  },
  {
   "cell_type": "code",
   "execution_count": 28,
   "metadata": {
    "ExecuteTime": {
     "end_time": "2021-03-12T21:12:56.603957Z",
     "start_time": "2021-03-12T21:12:56.557109Z"
    }
   },
   "outputs": [
    {
     "data": {
      "text/html": [
       "<div>\n",
       "<style scoped>\n",
       "    .dataframe tbody tr th:only-of-type {\n",
       "        vertical-align: middle;\n",
       "    }\n",
       "\n",
       "    .dataframe tbody tr th {\n",
       "        vertical-align: top;\n",
       "    }\n",
       "\n",
       "    .dataframe thead th {\n",
       "        text-align: right;\n",
       "    }\n",
       "</style>\n",
       "<table border=\"1\" class=\"dataframe\">\n",
       "  <thead>\n",
       "    <tr style=\"text-align: right;\">\n",
       "      <th></th>\n",
       "      <th>tweet_id</th>\n",
       "      <th>text</th>\n",
       "      <th>query</th>\n",
       "      <th>user_id</th>\n",
       "      <th>user_name</th>\n",
       "      <th>follower_count</th>\n",
       "      <th>user_tweet_count</th>\n",
       "      <th>likes</th>\n",
       "      <th>retweets</th>\n",
       "      <th>location_name</th>\n",
       "      <th>longitude</th>\n",
       "      <th>latitude</th>\n",
       "      <th>user_location</th>\n",
       "      <th>date</th>\n",
       "    </tr>\n",
       "  </thead>\n",
       "  <tbody>\n",
       "  </tbody>\n",
       "</table>\n",
       "</div>"
      ],
      "text/plain": [
       "Empty DataFrame\n",
       "Columns: [tweet_id, text, query, user_id, user_name, follower_count, user_tweet_count, likes, retweets, location_name, longitude, latitude, user_location, date]\n",
       "Index: []"
      ]
     },
     "execution_count": 28,
     "metadata": {},
     "output_type": "execute_result"
    }
   ],
   "source": [
    "riot_tweets[riot_tweets['text'].str.contains(\"qanon\", na=False)]"
   ]
  },
  {
   "cell_type": "code",
   "execution_count": 21,
   "metadata": {
    "ExecuteTime": {
     "end_time": "2021-03-12T21:08:37.816051Z",
     "start_time": "2021-03-12T21:08:37.704788Z"
    }
   },
   "outputs": [
    {
     "data": {
      "text/html": [
       "<div>\n",
       "<style scoped>\n",
       "    .dataframe tbody tr th:only-of-type {\n",
       "        vertical-align: middle;\n",
       "    }\n",
       "\n",
       "    .dataframe tbody tr th {\n",
       "        vertical-align: top;\n",
       "    }\n",
       "\n",
       "    .dataframe thead th {\n",
       "        text-align: right;\n",
       "    }\n",
       "</style>\n",
       "<table border=\"1\" class=\"dataframe\">\n",
       "  <thead>\n",
       "    <tr style=\"text-align: right;\">\n",
       "      <th></th>\n",
       "      <th>tweet_id</th>\n",
       "      <th>text</th>\n",
       "      <th>query</th>\n",
       "      <th>user_id</th>\n",
       "      <th>user_name</th>\n",
       "      <th>follower_count</th>\n",
       "      <th>user_tweet_count</th>\n",
       "      <th>likes</th>\n",
       "      <th>retweets</th>\n",
       "      <th>location_name</th>\n",
       "      <th>longitude</th>\n",
       "      <th>latitude</th>\n",
       "      <th>user_location</th>\n",
       "      <th>date</th>\n",
       "    </tr>\n",
       "  </thead>\n",
       "  <tbody>\n",
       "    <tr>\n",
       "      <th>512</th>\n",
       "      <td>1346819122970185730</td>\n",
       "      <td>what happened last night isnt about democrats or republicans its about our country we now have a real chance to beat covid fight climate change make work pay and pass a new civil rights act congratulations to raphael warnock and jon ossoff</td>\n",
       "      <td>covid</td>\n",
       "      <td>596450900</td>\n",
       "      <td>NaN</td>\n",
       "      <td>1302</td>\n",
       "      <td>44086</td>\n",
       "      <td>0</td>\n",
       "      <td>2038</td>\n",
       "      <td>NaN</td>\n",
       "      <td>NaN</td>\n",
       "      <td>NaN</td>\n",
       "      <td>NaN</td>\n",
       "      <td>2021-01-06</td>\n",
       "    </tr>\n",
       "    <tr>\n",
       "      <th>528</th>\n",
       "      <td>1346819116963774464</td>\n",
       "      <td>what happened last night isnt about democrats or republicans its about our country we now have a real chance to beat covid fight climate change make work pay and pass a new civil rights act congratulations to raphael warnock and jon ossoff</td>\n",
       "      <td>covid</td>\n",
       "      <td>1409133672</td>\n",
       "      <td>NaN</td>\n",
       "      <td>1346</td>\n",
       "      <td>13579</td>\n",
       "      <td>0</td>\n",
       "      <td>2038</td>\n",
       "      <td>NaN</td>\n",
       "      <td>NaN</td>\n",
       "      <td>NaN</td>\n",
       "      <td>NaN</td>\n",
       "      <td>2021-01-06</td>\n",
       "    </tr>\n",
       "    <tr>\n",
       "      <th>715</th>\n",
       "      <td>1346819070016933889</td>\n",
       "      <td>what happened last night isnt about democrats or republicans its about our country we now have a real chance to beat covid fight climate change make work pay and pass a new civil rights act congratulations to raphael warnock and jon ossoff</td>\n",
       "      <td>covid</td>\n",
       "      <td>1314004250704277504</td>\n",
       "      <td>NaN</td>\n",
       "      <td>59</td>\n",
       "      <td>3892</td>\n",
       "      <td>0</td>\n",
       "      <td>2038</td>\n",
       "      <td>NaN</td>\n",
       "      <td>NaN</td>\n",
       "      <td>NaN</td>\n",
       "      <td>NaN</td>\n",
       "      <td>2021-01-06</td>\n",
       "    </tr>\n",
       "    <tr>\n",
       "      <th>755</th>\n",
       "      <td>1346819062282776578</td>\n",
       "      <td>what happened last night isnt about democrats or republicans its about our country we now have a real chance to beat covid fight climate change make work pay and pass a new civil rights act congratulations to raphael warnock and jon ossoff</td>\n",
       "      <td>covid</td>\n",
       "      <td>330338176</td>\n",
       "      <td>NaN</td>\n",
       "      <td>5754</td>\n",
       "      <td>64286</td>\n",
       "      <td>0</td>\n",
       "      <td>2038</td>\n",
       "      <td>NaN</td>\n",
       "      <td>NaN</td>\n",
       "      <td>NaN</td>\n",
       "      <td>PA</td>\n",
       "      <td>2021-01-06</td>\n",
       "    </tr>\n",
       "    <tr>\n",
       "      <th>773</th>\n",
       "      <td>1346819058122039296</td>\n",
       "      <td>what happened last night isnt about democrats or republicans its about our country we now have a real chance to beat covid fight climate change make work pay and pass a new civil rights act congratulations to raphael warnock and jon ossoff</td>\n",
       "      <td>covid</td>\n",
       "      <td>15400260</td>\n",
       "      <td>NaN</td>\n",
       "      <td>2461</td>\n",
       "      <td>27542</td>\n",
       "      <td>0</td>\n",
       "      <td>2038</td>\n",
       "      <td>NaN</td>\n",
       "      <td>NaN</td>\n",
       "      <td>NaN</td>\n",
       "      <td>NY</td>\n",
       "      <td>2021-01-06</td>\n",
       "    </tr>\n",
       "    <tr>\n",
       "      <th>...</th>\n",
       "      <td>...</td>\n",
       "      <td>...</td>\n",
       "      <td>...</td>\n",
       "      <td>...</td>\n",
       "      <td>...</td>\n",
       "      <td>...</td>\n",
       "      <td>...</td>\n",
       "      <td>...</td>\n",
       "      <td>...</td>\n",
       "      <td>...</td>\n",
       "      <td>...</td>\n",
       "      <td>...</td>\n",
       "      <td>...</td>\n",
       "      <td>...</td>\n",
       "    </tr>\n",
       "    <tr>\n",
       "      <th>63982</th>\n",
       "      <td>1346916014999666689</td>\n",
       "      <td>i had reps from twitter tell me that the president advocating for a civil war didnt violate their tos this year i dont care what fun widgets they put on his tweets their products made this completely frictionless just disgusting and embarrassing</td>\n",
       "      <td>president</td>\n",
       "      <td>16842165</td>\n",
       "      <td>alex bledsoe</td>\n",
       "      <td>3222</td>\n",
       "      <td>25725</td>\n",
       "      <td>0</td>\n",
       "      <td>186</td>\n",
       "      <td>NaN</td>\n",
       "      <td>NaN</td>\n",
       "      <td>NaN</td>\n",
       "      <td>WI</td>\n",
       "      <td>2021-01-06</td>\n",
       "    </tr>\n",
       "    <tr>\n",
       "      <th>64210</th>\n",
       "      <td>1346916008003592197</td>\n",
       "      <td>i cannot be the only person watching this and worrying this agentprovocateur who is wearing the mask of sitting president inciting violence spewing racial divide and hatred is brewing the start of civil war part 2 americanbetrayal</td>\n",
       "      <td>president</td>\n",
       "      <td>939872966</td>\n",
       "      <td>NaN</td>\n",
       "      <td>113</td>\n",
       "      <td>8606</td>\n",
       "      <td>0</td>\n",
       "      <td>0</td>\n",
       "      <td>NaN</td>\n",
       "      <td>NaN</td>\n",
       "      <td>NaN</td>\n",
       "      <td>USA</td>\n",
       "      <td>2021-01-06</td>\n",
       "    </tr>\n",
       "    <tr>\n",
       "      <th>64609</th>\n",
       "      <td>1346915994338533385</td>\n",
       "      <td>since donald trump has turned on mike pence mike pence can call mitch mcconnell and invoke the 25th amendment do a written declaration to deem trump unable to discharge duties of a president after inciting this civil war they could remove him tonight ...</td>\n",
       "      <td>president</td>\n",
       "      <td>2807448258</td>\n",
       "      <td>NaN</td>\n",
       "      <td>1556</td>\n",
       "      <td>41446</td>\n",
       "      <td>0</td>\n",
       "      <td>38</td>\n",
       "      <td>NaN</td>\n",
       "      <td>NaN</td>\n",
       "      <td>NaN</td>\n",
       "      <td>NaN</td>\n",
       "      <td>2021-01-06</td>\n",
       "    </tr>\n",
       "    <tr>\n",
       "      <th>78411</th>\n",
       "      <td>1346822075219107840</td>\n",
       "      <td>you wont go to local officials and protest when they lock down schools or pass mask mandates or shut down businesses or waste local money you are too busy for that but you are going to usher in a civil war</td>\n",
       "      <td>mask</td>\n",
       "      <td>159669793</td>\n",
       "      <td>NaN</td>\n",
       "      <td>467</td>\n",
       "      <td>18259</td>\n",
       "      <td>1</td>\n",
       "      <td>0</td>\n",
       "      <td>NaN</td>\n",
       "      <td>NaN</td>\n",
       "      <td>NaN</td>\n",
       "      <td>NaN</td>\n",
       "      <td>2021-01-06</td>\n",
       "    </tr>\n",
       "    <tr>\n",
       "      <th>81084</th>\n",
       "      <td>1346817625884655618</td>\n",
       "      <td>what behavior she has a mask on you are a democrat we are ready for civil war because of crap like this look out</td>\n",
       "      <td>mask</td>\n",
       "      <td>47230032</td>\n",
       "      <td>NaN</td>\n",
       "      <td>160</td>\n",
       "      <td>2780</td>\n",
       "      <td>2</td>\n",
       "      <td>0</td>\n",
       "      <td>NaN</td>\n",
       "      <td>NaN</td>\n",
       "      <td>NaN</td>\n",
       "      <td>NaN</td>\n",
       "      <td>2021-01-06</td>\n",
       "    </tr>\n",
       "  </tbody>\n",
       "</table>\n",
       "<p>249 rows × 14 columns</p>\n",
       "</div>"
      ],
      "text/plain": [
       "                  tweet_id  \\\n",
       "512    1346819122970185730   \n",
       "528    1346819116963774464   \n",
       "715    1346819070016933889   \n",
       "755    1346819062282776578   \n",
       "773    1346819058122039296   \n",
       "...                    ...   \n",
       "63982  1346916014999666689   \n",
       "64210  1346916008003592197   \n",
       "64609  1346915994338533385   \n",
       "78411  1346822075219107840   \n",
       "81084  1346817625884655618   \n",
       "\n",
       "                                                                                                                                                                                                                                                                 text  \\\n",
       "512                   what happened last night isnt about democrats or republicans its about our country we now have a real chance to beat covid fight climate change make work pay and pass a new civil rights act congratulations to raphael warnock and jon ossoff   \n",
       "528                   what happened last night isnt about democrats or republicans its about our country we now have a real chance to beat covid fight climate change make work pay and pass a new civil rights act congratulations to raphael warnock and jon ossoff   \n",
       "715                   what happened last night isnt about democrats or republicans its about our country we now have a real chance to beat covid fight climate change make work pay and pass a new civil rights act congratulations to raphael warnock and jon ossoff   \n",
       "755                   what happened last night isnt about democrats or republicans its about our country we now have a real chance to beat covid fight climate change make work pay and pass a new civil rights act congratulations to raphael warnock and jon ossoff   \n",
       "773                   what happened last night isnt about democrats or republicans its about our country we now have a real chance to beat covid fight climate change make work pay and pass a new civil rights act congratulations to raphael warnock and jon ossoff   \n",
       "...                                                                                                                                                                                                                                                               ...   \n",
       "63982           i had reps from twitter tell me that the president advocating for a civil war didnt violate their tos this year i dont care what fun widgets they put on his tweets their products made this completely frictionless just disgusting and embarrassing   \n",
       "64210                          i cannot be the only person watching this and worrying this agentprovocateur who is wearing the mask of sitting president inciting violence spewing racial divide and hatred is brewing the start of civil war part 2 americanbetrayal   \n",
       "64609  since donald trump has turned on mike pence mike pence can call mitch mcconnell and invoke the 25th amendment do a written declaration to deem trump unable to discharge duties of a president after inciting this civil war they could remove him tonight ...   \n",
       "78411                                                   you wont go to local officials and protest when they lock down schools or pass mask mandates or shut down businesses or waste local money you are too busy for that but you are going to usher in a civil war   \n",
       "81084                                                                                                                                                what behavior she has a mask on you are a democrat we are ready for civil war because of crap like this look out   \n",
       "\n",
       "           query              user_id     user_name  follower_count  \\\n",
       "512        covid            596450900           NaN            1302   \n",
       "528        covid           1409133672           NaN            1346   \n",
       "715        covid  1314004250704277504           NaN              59   \n",
       "755        covid            330338176           NaN            5754   \n",
       "773        covid             15400260           NaN            2461   \n",
       "...          ...                  ...           ...             ...   \n",
       "63982  president             16842165  alex bledsoe            3222   \n",
       "64210  president            939872966           NaN             113   \n",
       "64609  president           2807448258           NaN            1556   \n",
       "78411       mask            159669793           NaN             467   \n",
       "81084       mask             47230032           NaN             160   \n",
       "\n",
       "       user_tweet_count  likes  retweets location_name  longitude  latitude  \\\n",
       "512               44086      0      2038           NaN        NaN       NaN   \n",
       "528               13579      0      2038           NaN        NaN       NaN   \n",
       "715                3892      0      2038           NaN        NaN       NaN   \n",
       "755               64286      0      2038           NaN        NaN       NaN   \n",
       "773               27542      0      2038           NaN        NaN       NaN   \n",
       "...                 ...    ...       ...           ...        ...       ...   \n",
       "63982             25725      0       186           NaN        NaN       NaN   \n",
       "64210              8606      0         0           NaN        NaN       NaN   \n",
       "64609             41446      0        38           NaN        NaN       NaN   \n",
       "78411             18259      1         0           NaN        NaN       NaN   \n",
       "81084              2780      2         0           NaN        NaN       NaN   \n",
       "\n",
       "      user_location        date  \n",
       "512             NaN  2021-01-06  \n",
       "528             NaN  2021-01-06  \n",
       "715             NaN  2021-01-06  \n",
       "755              PA  2021-01-06  \n",
       "773              NY  2021-01-06  \n",
       "...             ...         ...  \n",
       "63982            WI  2021-01-06  \n",
       "64210           USA  2021-01-06  \n",
       "64609           NaN  2021-01-06  \n",
       "78411           NaN  2021-01-06  \n",
       "81084           NaN  2021-01-06  \n",
       "\n",
       "[249 rows x 14 columns]"
      ]
     },
     "execution_count": 21,
     "metadata": {},
     "output_type": "execute_result"
    }
   ],
   "source": [
    "riot_tweets[(riot_tweets['text'].str.contains('civil')) & (riot_tweets['text'].str.contains('war'))]"
   ]
  },
  {
   "cell_type": "code",
   "execution_count": null,
   "metadata": {},
   "outputs": [],
   "source": [
    "riot_tweets['text']"
   ]
  },
  {
   "cell_type": "code",
   "execution_count": null,
   "metadata": {},
   "outputs": [],
   "source": []
  },
  {
   "cell_type": "code",
   "execution_count": null,
   "metadata": {
    "ExecuteTime": {
     "end_time": "2021-03-08T22:33:00.242967Z",
     "start_time": "2021-03-08T22:33:00.226023Z"
    }
   },
   "outputs": [],
   "source": []
  },
  {
   "cell_type": "code",
   "execution_count": null,
   "metadata": {
    "ExecuteTime": {
     "end_time": "2021-03-08T22:34:19.946940Z",
     "start_time": "2021-03-08T22:34:19.808926Z"
    }
   },
   "outputs": [],
   "source": []
  },
  {
   "cell_type": "code",
   "execution_count": null,
   "metadata": {},
   "outputs": [],
   "source": []
  },
  {
   "cell_type": "code",
   "execution_count": null,
   "metadata": {},
   "outputs": [],
   "source": []
  },
  {
   "cell_type": "code",
   "execution_count": null,
   "metadata": {
    "ExecuteTime": {
     "end_time": "2021-03-03T04:31:53.879242Z",
     "start_time": "2021-03-03T04:31:53.870267Z"
    }
   },
   "outputs": [],
   "source": [
    "df.columns"
   ]
  },
  {
   "cell_type": "code",
   "execution_count": null,
   "metadata": {
    "ExecuteTime": {
     "end_time": "2021-03-03T04:31:57.531785Z",
     "start_time": "2021-03-03T04:31:57.521812Z"
    }
   },
   "outputs": [],
   "source": [
    "df.dtypes"
   ]
  },
  {
   "cell_type": "code",
   "execution_count": null,
   "metadata": {
    "ExecuteTime": {
     "end_time": "2021-03-03T04:32:18.558536Z",
     "start_time": "2021-03-03T04:32:18.547552Z"
    }
   },
   "outputs": [],
   "source": [
    "type(df['created_at'])"
   ]
  },
  {
   "cell_type": "code",
   "execution_count": null,
   "metadata": {
    "ExecuteTime": {
     "end_time": "2021-03-03T04:32:22.017791Z",
     "start_time": "2021-03-03T04:32:22.006820Z"
    }
   },
   "outputs": [],
   "source": [
    "type(df['created_at'][0])"
   ]
  },
  {
   "cell_type": "code",
   "execution_count": null,
   "metadata": {},
   "outputs": [],
   "source": []
  }
 ],
 "metadata": {
  "kernelspec": {
   "display_name": "Python 3",
   "language": "python",
   "name": "python3"
  },
  "language_info": {
   "codemirror_mode": {
    "name": "ipython",
    "version": 3
   },
   "file_extension": ".py",
   "mimetype": "text/x-python",
   "name": "python",
   "nbconvert_exporter": "python",
   "pygments_lexer": "ipython3",
   "version": "3.8.5"
  },
  "toc": {
   "base_numbering": 1,
   "nav_menu": {},
   "number_sections": false,
   "sideBar": true,
   "skip_h1_title": false,
   "title_cell": "Table of Contents",
   "title_sidebar": "Contents",
   "toc_cell": false,
   "toc_position": {},
   "toc_section_display": true,
   "toc_window_display": true
  }
 },
 "nbformat": 4,
 "nbformat_minor": 4
}
