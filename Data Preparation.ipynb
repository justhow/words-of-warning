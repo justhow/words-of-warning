{
 "cells": [
  {
   "cell_type": "code",
   "execution_count": 93,
   "metadata": {
    "ExecuteTime": {
     "end_time": "2021-03-18T03:09:39.056235Z",
     "start_time": "2021-03-18T03:09:39.050378Z"
    }
   },
   "outputs": [
    {
     "name": "stderr",
     "output_type": "stream",
     "text": [
      "[nltk_data] Downloading package wordnet to\n",
      "[nltk_data]     C:\\Users\\catal\\AppData\\Roaming\\nltk_data...\n",
      "[nltk_data]   Package wordnet is already up-to-date!\n",
      "[nltk_data] Downloading package punkt to\n",
      "[nltk_data]     C:\\Users\\catal\\AppData\\Roaming\\nltk_data...\n",
      "[nltk_data]   Package punkt is already up-to-date!\n",
      "[nltk_data] Downloading package stopwords to\n",
      "[nltk_data]     C:\\Users\\catal\\AppData\\Roaming\\nltk_data...\n",
      "[nltk_data]   Package stopwords is already up-to-date!\n",
      "[nltk_data] Downloading package vader_lexicon to\n",
      "[nltk_data]     C:\\Users\\catal\\AppData\\Roaming\\nltk_data...\n",
      "[nltk_data]   Package vader_lexicon is already up-to-date!\n"
     ]
    }
   ],
   "source": [
    "import pandas as pd, numpy as np, matplotlib.pyplot as plt\n",
    "\n",
    "from sklearn.feature_extraction.text import CountVectorizer, TfidfVectorizer\n",
    "from sklearn.pipeline import Pipeline\n",
    "from nltk.stem import WordNetLemmatizer\n",
    "import nltk\n",
    "nltk.download('wordnet')\n",
    "nltk.download('punkt')\n",
    "nltk.download('stopwords')\n",
    "nltk.download('vader_lexicon')\n",
    "from sklearn.metrics import confusion_matrix, plot_confusion_matrix\n",
    "\n",
    "import gensim.downloader as api\n",
    "from gensim.models.word2vec import Word2Vec\n",
    "from transformers import pipeline\n",
    "\n",
    "pd.set_option('display.max_colwidth', 255)\n",
    "plt.style.use(\"dark_background\")"
   ]
  },
  {
   "cell_type": "code",
   "execution_count": 94,
   "metadata": {
    "ExecuteTime": {
     "end_time": "2021-03-18T03:09:47.468798Z",
     "start_time": "2021-03-18T03:09:39.258266Z"
    }
   },
   "outputs": [],
   "source": [
    "anon1 = pd.read_csv('./data/anon1.csv')\n",
    "az_gop = pd.read_csv('./data/AZGOP.csv')\n",
    "biggs1 = pd.read_csv('./data/biggs.csv')\n",
    "biggs2 = pd.read_csv('./data/biggs2.csv')\n",
    "boebert = pd.read_csv('./data/boebert.csv')\n",
    "brooks = pd.read_csv('./data/brooks.csv')\n",
    "cpac1 = pd.read_csv('./data/cpac1.csv')\n",
    "cpac2 = pd.read_csv('./data/cpac2.csv')\n",
    "daines = pd.read_csv('./data/daines.csv')\n",
    "gosar = pd.read_csv('./data/gosar.csv')\n",
    "hash_8balls = pd.read_csv('./data/hash8balls.csv')\n",
    "hash_1933 = pd.read_csv('./data/hash1933.csv')\n",
    "hash_boogaloo = pd.read_csv('./data/hashboogaloo.csv')\n",
    "hash_civilwar = pd.read_csv('./data/hashcivilwar.csv')\n",
    "hash_frens = pd.read_csv('./data/hashfrens.csv')\n",
    "hash_joebiggs = pd.read_csv('./data/hashjoebiggs.csv')\n",
    "hash_oathkeepers = pd.read_csv('./data/hashoathkeepers.csv')\n",
    "hash_patriot = pd.read_csv('./data/hashpatriot.csv')\n",
    "hash_proudboys = pd.read_csv('./data/hashproudboys.csv')\n",
    "hash_qanon = pd.read_csv('./data/hashQanon.csv')\n",
    "hash_SS = pd.read_csv('./data/hashSS.csv')\n",
    "hawley = pd.read_csv('./data/hawley.csv')\n",
    "mtg1 = pd.read_csv('./data/congress1.csv')\n",
    "mtg2 = pd.read_csv('./data/mtg2.csv')\n",
    "poli1 = pd.read_csv('./data/poli1.csv')\n",
    "poli2 = pd.read_csv('./data/1900_USpol_jan9/us_tweets.csv')\n",
    "# jan20 = pd.read_csv('./data/jan20_archive/tweets_v4.csv')\n",
    "jan6 = pd.read_csv('./data/tweets_2021-01-06.csv')\n",
    "qanon_archive = pd.read_json('./data/qanon_archive/posts.json')\n",
    "riot_tweets = pd.read_csv('./data/riot_tweets_2021-01-06.csv')\n",
    "rosendale1 = pd.read_csv('./data/congress2.csv')\n",
    "rosendale2 = pd.read_csv('./data/rosendale2.csv')\n",
    "trump_tweets = pd.read_csv('./data/trump_tweets_01-08-2021.csv')\n",
    "\n",
    "\n",
    "# parler data is a mass of text files.  \n",
    "# Will decide if I can do anything with that later.\n",
    "# parler = pd.read_csv('./data/parler_archive/Parler/Parler/*') \n",
    "#\n",
    "# same for Gab\n",
    "# gab = pd.read_csv('./data/GabLeaks/')"
   ]
  },
  {
   "cell_type": "code",
   "execution_count": 95,
   "metadata": {
    "ExecuteTime": {
     "end_time": "2021-03-18T03:09:48.112244Z",
     "start_time": "2021-03-18T03:09:47.470750Z"
    }
   },
   "outputs": [],
   "source": [
    "baldwin1 = pd.read_csv('./data/baldwin1.csv')\n",
    "baldwin2 = pd.read_csv('./data/baldwin2.csv')\n",
    "barrasso1 = pd.read_csv('./data/barrasso1.csv')\n",
    "barrasso2 = pd.read_csv('./data/barrasso2.csv')\n",
    "biggs1 = pd.read_csv('./data/biggs.csv')\n",
    "biggs2 = pd.read_csv('./data/biggs.csv')\n",
    "blunt1 = pd.read_csv('./data/blunt1.csv')\n",
    "blunt2 = pd.read_csv('./data/blunt2.csv')\n",
    "blumenthal = pd.read_csv('./data/blumenthal1.csv')\n",
    "brown1 = pd.read_csv('./data/brown1.csv')\n",
    "brown2 = pd.read_csv('./data/brown2.csv')\n",
    "cantwell1 = pd.read_csv('./data/cantwell1.csv')\n",
    "cantwell2 = pd.read_csv('./data/cantwell2.csv')\n",
    "burr = pd.read_csv('./data/burr1.csv')\n",
    "capito1= pd.read_csv('./data/capito1.csv')\n",
    "capito2 = pd.read_csv('./data/capito2.csv')\n",
    "cardin1 = pd.read_csv('./data/cardin1.csv')\n",
    "cardin2 = pd.read_csv('./data/cardin2.csv')\n",
    "carper = pd.read_csv('./data/carper1.csv')\n",
    "collins = pd.read_csv('./data/collins1.csv')\n",
    "coons1 = pd.read_csv('./data/coons1.csv')\n",
    "coons2 = pd.read_csv('./data/coons2.csv')\n",
    "crapo = pd.read_csv('./data/crapo1.csv')\n",
    "cruz1 = pd.read_csv('./data/cruz1.csv')\n",
    "cruz2 = pd.read_csv('./data/cruz2.csv')\n",
    "duckworth1 = pd.read_csv('./data/duckworth1.csv')\n",
    "duckworth2 = pd.read_csv('./data/duckworth2.csv')\n",
    "durbin1 = pd.read_csv('./data/durbin1.csv')\n",
    "durbin2 = pd.read_csv('./data/durbin2.csv')\n",
    "enzi = pd.read_csv('./data/enzi1.csv')\n",
    "feinstein = pd.read_csv('./data/feinstein1.csv')\n",
    "gardner = pd.read_csv('./data/gardner1.csv')\n",
    "gillibrand = pd.read_csv('./data/gillibrand1.csv')\n",
    "grassley1 = pd.read_csv('./data/grassley1.csv')\n",
    "grassley2 = pd.read_csv('./data/grassley2.csv')\n",
    "grassley3 = pd.read_csv('./data/grassley3.csv')\n",
    "hirono = pd.read_csv('./data/hirono1.csv')\n",
    "isakson = pd.read_csv('./data/isakson1.csv')\n",
    "johnson = pd.read_csv('./data/johnson1.csv')\n",
    "kamala = pd.read_csv('./data/kamala1.csv')\n",
    "king = pd.read_csv('./data/king1.csv')\n",
    "klobuchar = pd.read_csv('./data/klobuchar1.csv')\n",
    "lankford = pd.read_csv('./data/lankford1.csv')\n",
    "manchin = pd.read_csv('./data/manchin1.csv')\n",
    "markey1 = pd.read_csv('./data/markey1.csv')\n",
    "markey2 = pd.read_csv('./data/markey2.csv')\n",
    "mccaskill = pd.read_csv('./data/mccaskill1.csv')\n",
    "murray1 = pd.read_csv('./data/murray1.csv')\n",
    "murray2 = pd.read_csv('./data/murray2.csv')\n",
    "perdue1 = pd.read_csv('./data/perdue1.csv')\n",
    "perdue2 = pd.read_csv('./data/perdue2.csv')\n",
    "peters = pd.read_csv('./data/peters1.csv')\n",
    "portman1 = pd.read_csv('./data/portman1.csv')\n",
    "portman2 = pd.read_csv('./data/portman2.csv')\n",
    "randpaul = pd.read_csv('./data/randpaul1.csv')\n",
    "risch = pd.read_csv('./data/risch1.csv')\n",
    "rubio1 = pd.read_csv('./data/rubio1.csv')\n",
    "rubio2 = pd.read_csv('./data/rubio2.csv')\n",
    "sanders = pd.read_csv('./data/sanders1.csv')\n",
    "schatz1 = pd.read_csv('./data/schatz1.csv')\n",
    "schatz2 = pd.read_csv('./data/schatz2.csv')\n",
    "scott1 = pd.read_csv('./data/scott1.csv')\n",
    "scott2 = pd.read_csv('./data/scott2.csv')\n",
    "tester = pd.read_csv('./data/tester1.csv')\n",
    "toomey = pd.read_csv('./data/toomey1.csv')\n",
    "vanhollen1 = pd.read_csv('./data/vanhollen1.csv')\n",
    "vanhollen2 = pd.read_csv('./data/vanhollen2.csv')\n",
    "warner = pd.read_csv('./data/warner1.csv')\n",
    "warren = pd.read_csv('./data/warren1.csv')\n",
    "wicker1 = pd.read_csv('./data/wicker1.csv')\n",
    "wicker2 = pd.read_csv('./data/wicker2.csv')\n",
    "young1 = pd.read_csv('./data/young1.csv')\n",
    "young2 = pd.read_csv('./data/young2.csv')"
   ]
  },
  {
   "cell_type": "code",
   "execution_count": 96,
   "metadata": {
    "ExecuteTime": {
     "end_time": "2021-03-18T03:09:48.147378Z",
     "start_time": "2021-03-18T03:09:48.114194Z"
    }
   },
   "outputs": [],
   "source": [
    "hash_1933['keyword'] = '1933'\n",
    "hash_8balls['keyword'] = '8balls'\n",
    "hash_SS['keyword'] = 'SS'\n",
    "hash_frens['keyword'] = 'frens'\n",
    "hash_qanon['keyword'] = 'qanon'\n",
    "hash_boogaloo['keyword'] = 'boogaloo'\n",
    "hash_civilwar['keyword'] = 'civilwar'\n",
    "hash_joebiggs['keyword'] = 'joebiggs'\n",
    "hash_oathkeepers['keyword'] = 'oathkeepers'\n",
    "hash_patriot['keyword'] = 'patriot'\n",
    "hash_proudboys['keyword'] = 'proudboys'"
   ]
  },
  {
   "cell_type": "code",
   "execution_count": 97,
   "metadata": {
    "ExecuteTime": {
     "end_time": "2021-03-18T03:09:48.154211Z",
     "start_time": "2021-03-18T03:09:48.149330Z"
    }
   },
   "outputs": [],
   "source": [
    "# strip post_metadata into dates"
   ]
  },
  {
   "cell_type": "code",
   "execution_count": 98,
   "metadata": {
    "ExecuteTime": {
     "end_time": "2021-03-18T03:09:55.654418Z",
     "start_time": "2021-03-18T03:09:48.157140Z"
    }
   },
   "outputs": [],
   "source": [
    "riot1 = pd.read_csv('./data/topic_jan6.csv') \n",
    "riot2 = pd.read_csv('./data/topic_jan6_2.csv')\n",
    "election = pd.read_csv('./data/topic_election2.csv')\n",
    "gen1 = pd.read_csv('./data/topic_general1.csv')\n",
    "gen2 = pd.read_csv('./data/topic_general2.csv')"
   ]
  },
  {
   "cell_type": "code",
   "execution_count": 99,
   "metadata": {
    "ExecuteTime": {
     "end_time": "2021-03-18T03:09:55.662225Z",
     "start_time": "2021-03-18T03:09:55.656368Z"
    }
   },
   "outputs": [],
   "source": [
    "dfs = [az_gop, anon1, biggs1, biggs2, boebert, brooks, cpac1, cpac2, daines, gosar, \n",
    "       hash_1933, hash_8balls, hash_SS, hash_frens, hash_qanon, hash_boogaloo, \n",
    "       hash_civilwar, hash_joebiggs, hash_oathkeepers, hash_patriot, hash_proudboys, \n",
    "       hawley, mtg1, mtg2, poli1, qanon_archive, riot_tweets, rosendale1, \n",
    "       rosendale2, trump_tweets, riot1, riot2, election, gen1, gen2]"
   ]
  },
  {
   "cell_type": "code",
   "execution_count": 100,
   "metadata": {
    "ExecuteTime": {
     "end_time": "2021-03-18T03:09:55.670034Z",
     "start_time": "2021-03-18T03:09:55.664178Z"
    }
   },
   "outputs": [],
   "source": [
    "# for df in dfs .drop(labels=['Unnamed: 0'], axis=1, inplace=True)\n",
    "# for df in dfs map 'tweet_id', 'Tweet Id', to 'id'\n",
    "# for df in dfs map Username, user_name, screen_name\n",
    "# for df in dfs map text, Text\n",
    "# for df in dfs map Datetime, created_at, post_metadata"
   ]
  },
  {
   "cell_type": "code",
   "execution_count": 101,
   "metadata": {
    "ExecuteTime": {
     "end_time": "2021-03-18T03:09:55.679792Z",
     "start_time": "2021-03-18T03:09:55.672960Z"
    }
   },
   "outputs": [],
   "source": [
    "def cleanup(dfs):\n",
    "    for df in dfs:\n",
    "        try:\n",
    "            df.drop(labels=['Unnamed: 0'], axis=1, inplace=True)\n",
    "        except:\n",
    "            pass\n",
    "        df.rename(columns={'id': 'tweet_id', 'Tweet Id': 'tweet_id', 'Username': 'user_name',\n",
    "                           'created_at': 'datetime',  'screen_name': 'user_name', 'Text': 'text',\n",
    "                           'Datetime': 'datetime', 'created_at': 'datetime', 'date': 'datetime', \n",
    "                           'post_metadata': 'datetime'}, inplace=True)"
   ]
  },
  {
   "cell_type": "code",
   "execution_count": 102,
   "metadata": {
    "ExecuteTime": {
     "end_time": "2021-03-18T03:09:56.465538Z",
     "start_time": "2021-03-18T03:09:55.683698Z"
    }
   },
   "outputs": [],
   "source": [
    "cleanup(dfs)"
   ]
  },
  {
   "cell_type": "code",
   "execution_count": 103,
   "metadata": {
    "ExecuteTime": {
     "end_time": "2021-03-18T03:09:56.694898Z",
     "start_time": "2021-03-18T03:09:56.466514Z"
    }
   },
   "outputs": [],
   "source": [
    "general = pd.concat([gen1, gen2], ignore_index=True)\n",
    "riot = pd.concat([riot1, riot2], ignore_index=True)"
   ]
  },
  {
   "cell_type": "code",
   "execution_count": 104,
   "metadata": {
    "ExecuteTime": {
     "end_time": "2021-03-18T03:09:56.709539Z",
     "start_time": "2021-03-18T03:09:56.696850Z"
    }
   },
   "outputs": [],
   "source": [
    "riot_tweets.drop(columns=['follower_count', 'user_tweet_count', 'likes', 'retweets',\n",
    "                          'query', 'user_id', 'location_name', 'longitude', 'latitude',\n",
    "                          'user_location'], inplace=True)"
   ]
  },
  {
   "cell_type": "code",
   "execution_count": 105,
   "metadata": {
    "ExecuteTime": {
     "end_time": "2021-03-18T03:09:56.717347Z",
     "start_time": "2021-03-18T03:09:56.712466Z"
    }
   },
   "outputs": [],
   "source": [
    "val_set = [riot, riot_tweets, hash_1933, hash_boogaloo, hash_civilwar,\n",
    "           hash_frens, hash_joebiggs, hash_oathkeepers, hash_patriot,\n",
    "           hash_proudboys, hash_qanon]"
   ]
  },
  {
   "cell_type": "code",
   "execution_count": 106,
   "metadata": {
    "ExecuteTime": {
     "end_time": "2021-03-18T03:09:57.299045Z",
     "start_time": "2021-03-18T03:09:56.719299Z"
    }
   },
   "outputs": [],
   "source": [
    "validation_set = pd.concat(val_set)"
   ]
  },
  {
   "cell_type": "code",
   "execution_count": 114,
   "metadata": {
    "ExecuteTime": {
     "end_time": "2021-03-18T03:14:35.737473Z",
     "start_time": "2021-03-18T03:14:15.440831Z"
    }
   },
   "outputs": [],
   "source": [
    "validation_set.to_csv('./data/topics_val_set.csv')"
   ]
  },
  {
   "cell_type": "code",
   "execution_count": 111,
   "metadata": {
    "ExecuteTime": {
     "end_time": "2021-03-18T03:10:36.544505Z",
     "start_time": "2021-03-18T03:10:36.539625Z"
    }
   },
   "outputs": [],
   "source": [
    "qanon_archive.rename({'Username': 'user_name'}, axis=1, inplace=True)"
   ]
  },
  {
   "cell_type": "code",
   "execution_count": 112,
   "metadata": {
    "ExecuteTime": {
     "end_time": "2021-03-18T03:10:36.579679Z",
     "start_time": "2021-03-18T03:10:36.547433Z"
    }
   },
   "outputs": [
    {
     "ename": "KeyError",
     "evalue": "\"['referenced_posts' 'images'] not found in axis\"",
     "output_type": "error",
     "traceback": [
      "\u001b[1;31m---------------------------------------------------------------------------\u001b[0m",
      "\u001b[1;31mKeyError\u001b[0m                                  Traceback (most recent call last)",
      "\u001b[1;32m<ipython-input-112-c13fd93e88ac>\u001b[0m in \u001b[0;36m<module>\u001b[1;34m\u001b[0m\n\u001b[1;32m----> 1\u001b[1;33m \u001b[0mqanon_archive\u001b[0m\u001b[1;33m.\u001b[0m\u001b[0mdrop\u001b[0m\u001b[1;33m(\u001b[0m\u001b[0mcolumns\u001b[0m\u001b[1;33m=\u001b[0m\u001b[1;33m[\u001b[0m\u001b[1;34m'referenced_posts'\u001b[0m\u001b[1;33m,\u001b[0m \u001b[1;34m'images'\u001b[0m\u001b[1;33m]\u001b[0m\u001b[1;33m,\u001b[0m \u001b[0minplace\u001b[0m\u001b[1;33m=\u001b[0m\u001b[1;32mTrue\u001b[0m\u001b[1;33m)\u001b[0m\u001b[1;33m\u001b[0m\u001b[1;33m\u001b[0m\u001b[0m\n\u001b[0m",
      "\u001b[1;32m~\\anaconda3\\lib\\site-packages\\pandas\\core\\frame.py\u001b[0m in \u001b[0;36mdrop\u001b[1;34m(self, labels, axis, index, columns, level, inplace, errors)\u001b[0m\n\u001b[0;32m   4161\u001b[0m                 \u001b[0mweight\u001b[0m  \u001b[1;36m1.0\u001b[0m     \u001b[1;36m0.8\u001b[0m\u001b[1;33m\u001b[0m\u001b[1;33m\u001b[0m\u001b[0m\n\u001b[0;32m   4162\u001b[0m         \"\"\"\n\u001b[1;32m-> 4163\u001b[1;33m         return super().drop(\n\u001b[0m\u001b[0;32m   4164\u001b[0m             \u001b[0mlabels\u001b[0m\u001b[1;33m=\u001b[0m\u001b[0mlabels\u001b[0m\u001b[1;33m,\u001b[0m\u001b[1;33m\u001b[0m\u001b[1;33m\u001b[0m\u001b[0m\n\u001b[0;32m   4165\u001b[0m             \u001b[0maxis\u001b[0m\u001b[1;33m=\u001b[0m\u001b[0maxis\u001b[0m\u001b[1;33m,\u001b[0m\u001b[1;33m\u001b[0m\u001b[1;33m\u001b[0m\u001b[0m\n",
      "\u001b[1;32m~\\anaconda3\\lib\\site-packages\\pandas\\core\\generic.py\u001b[0m in \u001b[0;36mdrop\u001b[1;34m(self, labels, axis, index, columns, level, inplace, errors)\u001b[0m\n\u001b[0;32m   3885\u001b[0m         \u001b[1;32mfor\u001b[0m \u001b[0maxis\u001b[0m\u001b[1;33m,\u001b[0m \u001b[0mlabels\u001b[0m \u001b[1;32min\u001b[0m \u001b[0maxes\u001b[0m\u001b[1;33m.\u001b[0m\u001b[0mitems\u001b[0m\u001b[1;33m(\u001b[0m\u001b[1;33m)\u001b[0m\u001b[1;33m:\u001b[0m\u001b[1;33m\u001b[0m\u001b[1;33m\u001b[0m\u001b[0m\n\u001b[0;32m   3886\u001b[0m             \u001b[1;32mif\u001b[0m \u001b[0mlabels\u001b[0m \u001b[1;32mis\u001b[0m \u001b[1;32mnot\u001b[0m \u001b[1;32mNone\u001b[0m\u001b[1;33m:\u001b[0m\u001b[1;33m\u001b[0m\u001b[1;33m\u001b[0m\u001b[0m\n\u001b[1;32m-> 3887\u001b[1;33m                 \u001b[0mobj\u001b[0m \u001b[1;33m=\u001b[0m \u001b[0mobj\u001b[0m\u001b[1;33m.\u001b[0m\u001b[0m_drop_axis\u001b[0m\u001b[1;33m(\u001b[0m\u001b[0mlabels\u001b[0m\u001b[1;33m,\u001b[0m \u001b[0maxis\u001b[0m\u001b[1;33m,\u001b[0m \u001b[0mlevel\u001b[0m\u001b[1;33m=\u001b[0m\u001b[0mlevel\u001b[0m\u001b[1;33m,\u001b[0m \u001b[0merrors\u001b[0m\u001b[1;33m=\u001b[0m\u001b[0merrors\u001b[0m\u001b[1;33m)\u001b[0m\u001b[1;33m\u001b[0m\u001b[1;33m\u001b[0m\u001b[0m\n\u001b[0m\u001b[0;32m   3888\u001b[0m \u001b[1;33m\u001b[0m\u001b[0m\n\u001b[0;32m   3889\u001b[0m         \u001b[1;32mif\u001b[0m \u001b[0minplace\u001b[0m\u001b[1;33m:\u001b[0m\u001b[1;33m\u001b[0m\u001b[1;33m\u001b[0m\u001b[0m\n",
      "\u001b[1;32m~\\anaconda3\\lib\\site-packages\\pandas\\core\\generic.py\u001b[0m in \u001b[0;36m_drop_axis\u001b[1;34m(self, labels, axis, level, errors)\u001b[0m\n\u001b[0;32m   3919\u001b[0m                 \u001b[0mnew_axis\u001b[0m \u001b[1;33m=\u001b[0m \u001b[0maxis\u001b[0m\u001b[1;33m.\u001b[0m\u001b[0mdrop\u001b[0m\u001b[1;33m(\u001b[0m\u001b[0mlabels\u001b[0m\u001b[1;33m,\u001b[0m \u001b[0mlevel\u001b[0m\u001b[1;33m=\u001b[0m\u001b[0mlevel\u001b[0m\u001b[1;33m,\u001b[0m \u001b[0merrors\u001b[0m\u001b[1;33m=\u001b[0m\u001b[0merrors\u001b[0m\u001b[1;33m)\u001b[0m\u001b[1;33m\u001b[0m\u001b[1;33m\u001b[0m\u001b[0m\n\u001b[0;32m   3920\u001b[0m             \u001b[1;32melse\u001b[0m\u001b[1;33m:\u001b[0m\u001b[1;33m\u001b[0m\u001b[1;33m\u001b[0m\u001b[0m\n\u001b[1;32m-> 3921\u001b[1;33m                 \u001b[0mnew_axis\u001b[0m \u001b[1;33m=\u001b[0m \u001b[0maxis\u001b[0m\u001b[1;33m.\u001b[0m\u001b[0mdrop\u001b[0m\u001b[1;33m(\u001b[0m\u001b[0mlabels\u001b[0m\u001b[1;33m,\u001b[0m \u001b[0merrors\u001b[0m\u001b[1;33m=\u001b[0m\u001b[0merrors\u001b[0m\u001b[1;33m)\u001b[0m\u001b[1;33m\u001b[0m\u001b[1;33m\u001b[0m\u001b[0m\n\u001b[0m\u001b[0;32m   3922\u001b[0m             \u001b[0mresult\u001b[0m \u001b[1;33m=\u001b[0m \u001b[0mself\u001b[0m\u001b[1;33m.\u001b[0m\u001b[0mreindex\u001b[0m\u001b[1;33m(\u001b[0m\u001b[1;33m**\u001b[0m\u001b[1;33m{\u001b[0m\u001b[0maxis_name\u001b[0m\u001b[1;33m:\u001b[0m \u001b[0mnew_axis\u001b[0m\u001b[1;33m}\u001b[0m\u001b[1;33m)\u001b[0m\u001b[1;33m\u001b[0m\u001b[1;33m\u001b[0m\u001b[0m\n\u001b[0;32m   3923\u001b[0m \u001b[1;33m\u001b[0m\u001b[0m\n",
      "\u001b[1;32m~\\anaconda3\\lib\\site-packages\\pandas\\core\\indexes\\base.py\u001b[0m in \u001b[0;36mdrop\u001b[1;34m(self, labels, errors)\u001b[0m\n\u001b[0;32m   5280\u001b[0m         \u001b[1;32mif\u001b[0m \u001b[0mmask\u001b[0m\u001b[1;33m.\u001b[0m\u001b[0many\u001b[0m\u001b[1;33m(\u001b[0m\u001b[1;33m)\u001b[0m\u001b[1;33m:\u001b[0m\u001b[1;33m\u001b[0m\u001b[1;33m\u001b[0m\u001b[0m\n\u001b[0;32m   5281\u001b[0m             \u001b[1;32mif\u001b[0m \u001b[0merrors\u001b[0m \u001b[1;33m!=\u001b[0m \u001b[1;34m\"ignore\"\u001b[0m\u001b[1;33m:\u001b[0m\u001b[1;33m\u001b[0m\u001b[1;33m\u001b[0m\u001b[0m\n\u001b[1;32m-> 5282\u001b[1;33m                 \u001b[1;32mraise\u001b[0m \u001b[0mKeyError\u001b[0m\u001b[1;33m(\u001b[0m\u001b[1;34mf\"{labels[mask]} not found in axis\"\u001b[0m\u001b[1;33m)\u001b[0m\u001b[1;33m\u001b[0m\u001b[1;33m\u001b[0m\u001b[0m\n\u001b[0m\u001b[0;32m   5283\u001b[0m             \u001b[0mindexer\u001b[0m \u001b[1;33m=\u001b[0m \u001b[0mindexer\u001b[0m\u001b[1;33m[\u001b[0m\u001b[1;33m~\u001b[0m\u001b[0mmask\u001b[0m\u001b[1;33m]\u001b[0m\u001b[1;33m\u001b[0m\u001b[1;33m\u001b[0m\u001b[0m\n\u001b[0;32m   5284\u001b[0m         \u001b[1;32mreturn\u001b[0m \u001b[0mself\u001b[0m\u001b[1;33m.\u001b[0m\u001b[0mdelete\u001b[0m\u001b[1;33m(\u001b[0m\u001b[0mindexer\u001b[0m\u001b[1;33m)\u001b[0m\u001b[1;33m\u001b[0m\u001b[1;33m\u001b[0m\u001b[0m\n",
      "\u001b[1;31mKeyError\u001b[0m: \"['referenced_posts' 'images'] not found in axis\""
     ]
    }
   ],
   "source": [
    "qanon_archive.drop(columns=['referenced_posts', 'images'], inplace=True)"
   ]
  },
  {
   "cell_type": "code",
   "execution_count": 115,
   "metadata": {
    "ExecuteTime": {
     "end_time": "2021-03-18T03:14:35.742351Z",
     "start_time": "2021-03-18T03:14:35.739423Z"
    }
   },
   "outputs": [],
   "source": [
    "p_set = [hash_8balls, hash_SS, anon1, qanon_archive]"
   ]
  },
  {
   "cell_type": "code",
   "execution_count": 116,
   "metadata": {
    "ExecuteTime": {
     "end_time": "2021-03-18T03:14:35.763822Z",
     "start_time": "2021-03-18T03:14:35.744303Z"
    }
   },
   "outputs": [],
   "source": [
    "pos_set = pd.concat(p_set)"
   ]
  },
  {
   "cell_type": "code",
   "execution_count": 117,
   "metadata": {
    "ExecuteTime": {
     "end_time": "2021-03-18T03:14:35.770656Z",
     "start_time": "2021-03-18T03:14:35.765774Z"
    }
   },
   "outputs": [
    {
     "name": "stdout",
     "output_type": "stream",
     "text": [
      "df is Index(['datetime', 'tweet_id', 'text', 'user_name', 'keyword'], dtype='object')\n",
      "df is Index(['datetime', 'tweet_id', 'text', 'user_name', 'keyword'], dtype='object')\n",
      "df is Index(['datetime', 'tweet_id', 'text', 'user_name'], dtype='object')\n",
      "df is Index(['datetime', 'text'], dtype='object')\n"
     ]
    }
   ],
   "source": [
    "for df in p_set:\n",
    "    print(f'df is {df.columns}')"
   ]
  },
  {
   "cell_type": "code",
   "execution_count": 120,
   "metadata": {
    "ExecuteTime": {
     "end_time": "2021-03-18T03:16:30.436127Z",
     "start_time": "2021-03-18T03:16:29.918848Z"
    }
   },
   "outputs": [],
   "source": [
    "# dropping nulls\n",
    "pos_set.drop(labels='user_name', axis=1, inplace=True)\n",
    "pos_set.dropna(subset=['text'], inplace=True)\n",
    "neg_set.drop(labels='user_name', axis=1, inplace=True)\n",
    "neg_set.dropna(subset=['text'], inplace=True)"
   ]
  },
  {
   "cell_type": "code",
   "execution_count": 121,
   "metadata": {
    "ExecuteTime": {
     "end_time": "2021-03-18T03:16:31.830515Z",
     "start_time": "2021-03-18T03:16:31.491838Z"
    }
   },
   "outputs": [],
   "source": [
    "pos_set.to_csv('./data/topics_pos.csv')"
   ]
  },
  {
   "cell_type": "code",
   "execution_count": 122,
   "metadata": {
    "ExecuteTime": {
     "end_time": "2021-03-18T03:16:32.372720Z",
     "start_time": "2021-03-18T03:16:32.013551Z"
    }
   },
   "outputs": [],
   "source": [
    "neg_set = pd.concat([election, general], ignore_index=True)"
   ]
  },
  {
   "cell_type": "code",
   "execution_count": 123,
   "metadata": {
    "ExecuteTime": {
     "end_time": "2021-03-18T03:16:43.491026Z",
     "start_time": "2021-03-18T03:16:33.779178Z"
    }
   },
   "outputs": [],
   "source": [
    "neg_set.to_csv('./data/topics_neg.csv')"
   ]
  },
  {
   "cell_type": "code",
   "execution_count": 22,
   "metadata": {
    "ExecuteTime": {
     "end_time": "2021-03-18T02:55:07.586907Z",
     "start_time": "2021-03-18T02:55:07.568363Z"
    }
   },
   "outputs": [],
   "source": [
    "trump_tweets.drop(columns=['isRetweet', 'isDeleted', 'device', 'favorites', \n",
    "                  'retweets', 'isFlagged'], inplace=True)"
   ]
  },
  {
   "cell_type": "code",
   "execution_count": 23,
   "metadata": {
    "ExecuteTime": {
     "end_time": "2021-03-18T02:55:09.394516Z",
     "start_time": "2021-03-18T02:55:09.389636Z"
    }
   },
   "outputs": [],
   "source": [
    "az_gop.drop(columns=['name','retweet_count', 'mined_at', 'favourite_count', 'hashtags',\n",
    "                     'status_count', 'location', 'source_device', 'retweet_text', \n",
    "                     'quote_text', 'quote_screen_name'], inplace=True)"
   ]
  },
  {
   "cell_type": "code",
   "execution_count": 24,
   "metadata": {
    "ExecuteTime": {
     "end_time": "2021-03-18T02:55:10.044531Z",
     "start_time": "2021-03-18T02:55:10.036723Z"
    }
   },
   "outputs": [],
   "source": [
    "poli1.drop(columns=['name','retweet_count', 'mined_at', 'favourite_count', 'hashtags',\n",
    "            'status_count', 'location', 'source_device', 'retweet_text', 'quote_text',\n",
    "            'quote_screen_name'], inplace=True)"
   ]
  },
  {
   "cell_type": "code",
   "execution_count": 25,
   "metadata": {
    "ExecuteTime": {
     "end_time": "2021-03-18T02:55:10.721213Z",
     "start_time": "2021-03-18T02:55:10.717309Z"
    }
   },
   "outputs": [],
   "source": [
    "poli2.rename({'Twitter_username': 'user_name', 'time': 'datetime'}, axis=1, inplace=True)"
   ]
  },
  {
   "cell_type": "code",
   "execution_count": 26,
   "metadata": {
    "ExecuteTime": {
     "end_time": "2021-03-18T02:55:11.805608Z",
     "start_time": "2021-03-18T02:55:11.802680Z"
    }
   },
   "outputs": [],
   "source": [
    "randpaul.rename({'Datetime': 'datetime', 'Tweet Id': 'tweet_id', \n",
    "                 'Text': 'text', 'Username': 'user_name'}, axis=1, inplace=True)"
   ]
  },
  {
   "cell_type": "code",
   "execution_count": 27,
   "metadata": {
    "ExecuteTime": {
     "end_time": "2021-03-18T02:55:11.974485Z",
     "start_time": "2021-03-18T02:55:11.969577Z"
    }
   },
   "outputs": [],
   "source": [
    "randpaul.drop(columns=['Unnamed: 0'], inplace=True)"
   ]
  },
  {
   "cell_type": "code",
   "execution_count": 28,
   "metadata": {
    "ExecuteTime": {
     "end_time": "2021-03-18T02:55:12.131591Z",
     "start_time": "2021-03-18T02:55:12.127690Z"
    }
   },
   "outputs": [],
   "source": [
    "risch.rename({'Datetime': 'datetime', 'Tweet Id': 'tweet_id', \n",
    "                 'Text': 'text', 'Username': 'user_name'}, axis=1, inplace=True)"
   ]
  },
  {
   "cell_type": "code",
   "execution_count": 29,
   "metadata": {
    "ExecuteTime": {
     "end_time": "2021-03-18T02:55:12.284822Z",
     "start_time": "2021-03-18T02:55:12.280920Z"
    }
   },
   "outputs": [],
   "source": [
    "risch.drop(columns=['Unnamed: 0'], inplace=True)"
   ]
  },
  {
   "cell_type": "code",
   "execution_count": 30,
   "metadata": {
    "ExecuteTime": {
     "end_time": "2021-03-18T02:55:12.443631Z",
     "start_time": "2021-03-18T02:55:12.439725Z"
    }
   },
   "outputs": [],
   "source": [
    "rubio1.rename({'Datetime': 'datetime', 'Tweet Id': 'tweet_id', \n",
    "                 'Text': 'text', 'Username': 'user_name'}, axis=1, inplace=True)"
   ]
  },
  {
   "cell_type": "code",
   "execution_count": 31,
   "metadata": {
    "ExecuteTime": {
     "end_time": "2021-03-18T02:55:12.624990Z",
     "start_time": "2021-03-18T02:55:12.621087Z"
    }
   },
   "outputs": [],
   "source": [
    "rubio1.drop(columns=['Unnamed: 0'], inplace=True)"
   ]
  },
  {
   "cell_type": "code",
   "execution_count": 32,
   "metadata": {
    "ExecuteTime": {
     "end_time": "2021-03-18T02:55:12.964166Z",
     "start_time": "2021-03-18T02:55:12.960260Z"
    }
   },
   "outputs": [],
   "source": [
    "rubio2.rename({'Datetime': 'datetime', 'Tweet Id': 'tweet_id', \n",
    "                 'Text': 'text', 'Username': 'user_name'}, axis=1, inplace=True)"
   ]
  },
  {
   "cell_type": "code",
   "execution_count": 33,
   "metadata": {
    "ExecuteTime": {
     "end_time": "2021-03-18T02:55:16.028293Z",
     "start_time": "2021-03-18T02:55:16.023414Z"
    }
   },
   "outputs": [],
   "source": [
    "rubio2.drop(columns=['Unnamed: 0'], inplace=True)"
   ]
  },
  {
   "cell_type": "code",
   "execution_count": 34,
   "metadata": {
    "ExecuteTime": {
     "end_time": "2021-03-18T02:55:18.381309Z",
     "start_time": "2021-03-18T02:55:18.377405Z"
    }
   },
   "outputs": [],
   "source": [
    "collins.rename({'Datetime': 'datetime', 'Tweet Id': 'tweet_id', \n",
    "                 'Text': 'text', 'Username': 'user_name'}, axis=1, inplace=True)"
   ]
  },
  {
   "cell_type": "code",
   "execution_count": 35,
   "metadata": {
    "ExecuteTime": {
     "end_time": "2021-03-18T02:55:18.801499Z",
     "start_time": "2021-03-18T02:55:18.796619Z"
    }
   },
   "outputs": [],
   "source": [
    "collins.drop(columns=['Unnamed: 0'], inplace=True)"
   ]
  },
  {
   "cell_type": "code",
   "execution_count": 36,
   "metadata": {
    "ExecuteTime": {
     "end_time": "2021-03-18T02:55:19.149327Z",
     "start_time": "2021-03-18T02:55:19.145422Z"
    }
   },
   "outputs": [],
   "source": [
    "barrasso1.rename({'Datetime': 'datetime', 'Tweet Id': 'tweet_id', \n",
    "                 'Text': 'text', 'Username': 'user_name'}, axis=1, inplace=True)"
   ]
  },
  {
   "cell_type": "code",
   "execution_count": 37,
   "metadata": {
    "ExecuteTime": {
     "end_time": "2021-03-18T02:55:19.434111Z",
     "start_time": "2021-03-18T02:55:19.430208Z"
    }
   },
   "outputs": [],
   "source": [
    "barrasso1.drop(columns=['Unnamed: 0'], inplace=True)"
   ]
  },
  {
   "cell_type": "code",
   "execution_count": 38,
   "metadata": {
    "ExecuteTime": {
     "end_time": "2021-03-18T02:55:20.285659Z",
     "start_time": "2021-03-18T02:55:20.281756Z"
    }
   },
   "outputs": [],
   "source": [
    "barrasso2.rename({'Datetime': 'datetime', 'Tweet Id': 'tweet_id', \n",
    "                 'Text': 'text', 'Username': 'user_name'}, axis=1, inplace=True)"
   ]
  },
  {
   "cell_type": "code",
   "execution_count": 39,
   "metadata": {
    "ExecuteTime": {
     "end_time": "2021-03-18T02:55:20.459386Z",
     "start_time": "2021-03-18T02:55:20.454507Z"
    }
   },
   "outputs": [],
   "source": [
    "barrasso2.drop(columns=['Unnamed: 0'], inplace=True)"
   ]
  },
  {
   "cell_type": "code",
   "execution_count": 40,
   "metadata": {
    "ExecuteTime": {
     "end_time": "2021-03-18T02:55:20.785371Z",
     "start_time": "2021-03-18T02:55:20.781467Z"
    }
   },
   "outputs": [],
   "source": [
    "brown1.rename({'Datetime': 'datetime', 'Tweet Id': 'tweet_id', \n",
    "                 'Text': 'text', 'Username': 'user_name'}, axis=1, inplace=True)"
   ]
  },
  {
   "cell_type": "code",
   "execution_count": 41,
   "metadata": {
    "ExecuteTime": {
     "end_time": "2021-03-18T02:55:20.993258Z",
     "start_time": "2021-03-18T02:55:20.989354Z"
    }
   },
   "outputs": [],
   "source": [
    "brown1.drop(columns=['Unnamed: 0'], inplace=True)"
   ]
  },
  {
   "cell_type": "code",
   "execution_count": 42,
   "metadata": {
    "ExecuteTime": {
     "end_time": "2021-03-18T02:55:21.439996Z",
     "start_time": "2021-03-18T02:55:21.436093Z"
    }
   },
   "outputs": [],
   "source": [
    "brown2.rename({'Datetime': 'datetime', 'Tweet Id': 'tweet_id', \n",
    "                 'Text': 'text', 'Username': 'user_name'}, axis=1, inplace=True)"
   ]
  },
  {
   "cell_type": "code",
   "execution_count": 43,
   "metadata": {
    "ExecuteTime": {
     "end_time": "2021-03-18T02:55:21.814803Z",
     "start_time": "2021-03-18T02:55:21.810899Z"
    }
   },
   "outputs": [],
   "source": [
    "brown2.drop(columns=['Unnamed: 0'], inplace=True)"
   ]
  },
  {
   "cell_type": "code",
   "execution_count": 44,
   "metadata": {
    "ExecuteTime": {
     "end_time": "2021-03-18T02:55:21.999268Z",
     "start_time": "2021-03-18T02:55:21.995394Z"
    }
   },
   "outputs": [],
   "source": [
    "coons1.rename({'Datetime': 'datetime', 'Tweet Id': 'tweet_id', \n",
    "                 'Text': 'text', 'Username': 'user_name'}, axis=1, inplace=True)"
   ]
  },
  {
   "cell_type": "code",
   "execution_count": 45,
   "metadata": {
    "ExecuteTime": {
     "end_time": "2021-03-18T02:55:23.305151Z",
     "start_time": "2021-03-18T02:55:23.301247Z"
    }
   },
   "outputs": [],
   "source": [
    "coons1.drop(columns=['Unnamed: 0'], inplace=True)"
   ]
  },
  {
   "cell_type": "code",
   "execution_count": 46,
   "metadata": {
    "ExecuteTime": {
     "end_time": "2021-03-18T02:55:23.478975Z",
     "start_time": "2021-03-18T02:55:23.475070Z"
    }
   },
   "outputs": [],
   "source": [
    "coons2.rename({'Datetime': 'datetime', 'Tweet Id': 'tweet_id', \n",
    "                 'Text': 'text', 'Username': 'user_name'}, axis=1, inplace=True)"
   ]
  },
  {
   "cell_type": "code",
   "execution_count": 47,
   "metadata": {
    "ExecuteTime": {
     "end_time": "2021-03-18T02:55:23.620499Z",
     "start_time": "2021-03-18T02:55:23.616594Z"
    }
   },
   "outputs": [],
   "source": [
    "coons2.drop(columns=['Unnamed: 0'], inplace=True)"
   ]
  },
  {
   "cell_type": "code",
   "execution_count": 48,
   "metadata": {
    "ExecuteTime": {
     "end_time": "2021-03-18T02:55:23.800082Z",
     "start_time": "2021-03-18T02:55:23.796176Z"
    }
   },
   "outputs": [],
   "source": [
    "crapo.rename({'Datetime': 'datetime', 'Tweet Id': 'tweet_id', \n",
    "                 'Text': 'text', 'Username': 'user_name'}, axis=1, inplace=True)"
   ]
  },
  {
   "cell_type": "code",
   "execution_count": 49,
   "metadata": {
    "ExecuteTime": {
     "end_time": "2021-03-18T02:55:24.035294Z",
     "start_time": "2021-03-18T02:55:24.030416Z"
    }
   },
   "outputs": [],
   "source": [
    "crapo.drop(columns=['Unnamed: 0'], inplace=True)"
   ]
  },
  {
   "cell_type": "code",
   "execution_count": 50,
   "metadata": {
    "ExecuteTime": {
     "end_time": "2021-03-18T02:55:24.409100Z",
     "start_time": "2021-03-18T02:55:24.405198Z"
    }
   },
   "outputs": [],
   "source": [
    "cruz1.rename({'Datetime': 'datetime', 'Tweet Id': 'tweet_id', \n",
    "                 'Text': 'text', 'Username': 'user_name'}, axis=1, inplace=True)"
   ]
  },
  {
   "cell_type": "code",
   "execution_count": 51,
   "metadata": {
    "ExecuteTime": {
     "end_time": "2021-03-18T02:55:24.744845Z",
     "start_time": "2021-03-18T02:55:24.739966Z"
    }
   },
   "outputs": [],
   "source": [
    "cruz1.drop(columns=['Unnamed: 0'], inplace=True)"
   ]
  },
  {
   "cell_type": "code",
   "execution_count": 52,
   "metadata": {
    "ExecuteTime": {
     "end_time": "2021-03-18T02:55:26.456235Z",
     "start_time": "2021-03-18T02:55:26.452330Z"
    }
   },
   "outputs": [],
   "source": [
    "cruz2.rename({'Datetime': 'datetime', 'Tweet Id': 'tweet_id', \n",
    "                 'Text': 'text', 'Username': 'user_name'}, axis=1, inplace=True)"
   ]
  },
  {
   "cell_type": "code",
   "execution_count": 53,
   "metadata": {
    "ExecuteTime": {
     "end_time": "2021-03-18T02:55:26.630938Z",
     "start_time": "2021-03-18T02:55:26.626059Z"
    }
   },
   "outputs": [],
   "source": [
    "cruz2.drop(columns=['Unnamed: 0'], inplace=True)"
   ]
  },
  {
   "cell_type": "code",
   "execution_count": 54,
   "metadata": {
    "ExecuteTime": {
     "end_time": "2021-03-18T02:55:26.825161Z",
     "start_time": "2021-03-18T02:55:26.821258Z"
    }
   },
   "outputs": [],
   "source": [
    "grassley1.rename({'Datetime': 'datetime', 'Tweet Id': 'tweet_id', \n",
    "                 'Text': 'text', 'Username': 'user_name'}, axis=1, inplace=True)"
   ]
  },
  {
   "cell_type": "code",
   "execution_count": 55,
   "metadata": {
    "ExecuteTime": {
     "end_time": "2021-03-18T02:55:27.651364Z",
     "start_time": "2021-03-18T02:55:27.647460Z"
    }
   },
   "outputs": [],
   "source": [
    "grassley1.drop(columns=['Unnamed: 0'], inplace=True)"
   ]
  },
  {
   "cell_type": "code",
   "execution_count": 56,
   "metadata": {
    "ExecuteTime": {
     "end_time": "2021-03-18T02:55:27.836478Z",
     "start_time": "2021-03-18T02:55:27.832575Z"
    }
   },
   "outputs": [],
   "source": [
    "grassley2.rename({'Datetime': 'datetime', 'Tweet Id': 'tweet_id', \n",
    "                 'Text': 'text', 'Username': 'user_name'}, axis=1, inplace=True)"
   ]
  },
  {
   "cell_type": "code",
   "execution_count": 57,
   "metadata": {
    "ExecuteTime": {
     "end_time": "2021-03-18T02:55:28.045477Z",
     "start_time": "2021-03-18T02:55:28.041574Z"
    }
   },
   "outputs": [],
   "source": [
    "grassley2.drop(columns=['Unnamed: 0'], inplace=True)"
   ]
  },
  {
   "cell_type": "code",
   "execution_count": 58,
   "metadata": {
    "ExecuteTime": {
     "end_time": "2021-03-18T02:55:28.240226Z",
     "start_time": "2021-03-18T02:55:28.236322Z"
    }
   },
   "outputs": [],
   "source": [
    "grassley3.rename({'Datetime': 'datetime', 'Tweet Id': 'tweet_id', \n",
    "                 'Text': 'text', 'Username': 'user_name'}, axis=1, inplace=True)"
   ]
  },
  {
   "cell_type": "code",
   "execution_count": 59,
   "metadata": {
    "ExecuteTime": {
     "end_time": "2021-03-18T02:55:30.124516Z",
     "start_time": "2021-03-18T02:55:30.120612Z"
    }
   },
   "outputs": [],
   "source": [
    "grassley3.drop(columns=['Unnamed: 0'], inplace=True)"
   ]
  },
  {
   "cell_type": "code",
   "execution_count": 60,
   "metadata": {
    "ExecuteTime": {
     "end_time": "2021-03-18T02:55:30.321954Z",
     "start_time": "2021-03-18T02:55:30.318050Z"
    }
   },
   "outputs": [],
   "source": [
    "tester.rename({'Datetime': 'datetime', 'Tweet Id': 'tweet_id', \n",
    "                 'Text': 'text', 'Username': 'user_name'}, axis=1, inplace=True)"
   ]
  },
  {
   "cell_type": "code",
   "execution_count": 61,
   "metadata": {
    "ExecuteTime": {
     "end_time": "2021-03-18T02:55:30.468355Z",
     "start_time": "2021-03-18T02:55:30.464450Z"
    }
   },
   "outputs": [],
   "source": [
    "tester.drop(columns=['Unnamed: 0'], inplace=True)"
   ]
  },
  {
   "cell_type": "code",
   "execution_count": 62,
   "metadata": {
    "ExecuteTime": {
     "end_time": "2021-03-18T02:55:30.617232Z",
     "start_time": "2021-03-18T02:55:30.613327Z"
    }
   },
   "outputs": [],
   "source": [
    "vanhollen1.rename({'Datetime': 'datetime', 'Tweet Id': 'tweet_id', \n",
    "                 'Text': 'text', 'Username': 'user_name'}, axis=1, inplace=True)"
   ]
  },
  {
   "cell_type": "code",
   "execution_count": 63,
   "metadata": {
    "ExecuteTime": {
     "end_time": "2021-03-18T02:55:30.777849Z",
     "start_time": "2021-03-18T02:55:30.772968Z"
    }
   },
   "outputs": [],
   "source": [
    "vanhollen1.drop(columns=['Unnamed: 0'], inplace=True)"
   ]
  },
  {
   "cell_type": "code",
   "execution_count": 64,
   "metadata": {
    "ExecuteTime": {
     "end_time": "2021-03-18T02:55:31.093656Z",
     "start_time": "2021-03-18T02:55:31.089752Z"
    }
   },
   "outputs": [],
   "source": [
    "vanhollen2.rename({'Datetime': 'datetime', 'Tweet Id': 'tweet_id', \n",
    "                 'Text': 'text', 'Username': 'user_name'}, axis=1, inplace=True)"
   ]
  },
  {
   "cell_type": "code",
   "execution_count": 65,
   "metadata": {
    "ExecuteTime": {
     "end_time": "2021-03-18T02:55:32.168230Z",
     "start_time": "2021-03-18T02:55:32.164326Z"
    }
   },
   "outputs": [],
   "source": [
    "vanhollen2.drop(columns=['Unnamed: 0'], inplace=True)"
   ]
  },
  {
   "cell_type": "code",
   "execution_count": 66,
   "metadata": {
    "ExecuteTime": {
     "end_time": "2021-03-18T02:55:34.362787Z",
     "start_time": "2021-03-18T02:55:34.294470Z"
    }
   },
   "outputs": [],
   "source": [
    "poli_val = pd.concat([az_gop, biggs1, biggs2, boebert, brooks, daines, gosar,\n",
    "                      hawley, mtg1, mtg2, poli1, poli2, randpaul, risch, rosendale1,\n",
    "                      rosendale2, rubio1, rubio2, collins, barrasso1, barrasso2, brown1,\n",
    "                      brown2, coons1, coons2, crapo, cruz1, cruz2, grassley1, grassley2,\n",
    "                      grassley3, tester, vanhollen1, vanhollen2])\n",
    "poli_neg = pd.concat([baldwin1, baldwin2, blunt1, blunt2,\n",
    "                      blumenthal,  cantwell1, cantwell2, burr, capito1,\n",
    "                      capito2, cardin1, cardin2, carper, duckworth1, duckworth2, durbin1,\n",
    "                      durbin2, enzi, feinstein, gardner, gillibrand, hirono, isakson,\n",
    "                      johnson, kamala, king, klobuchar, lankford, manchin, markey1,\n",
    "                      markey2, mccaskill, murray1, murray2, perdue1, perdue2, peters,\n",
    "                      portman1, portman2, sanders, schatz1, schatz2, scott1, scott2,\n",
    "                      toomey, warner, warren, wicker1, wicker2, young1, young2])\n",
    "poli_pos = trump_tweets"
   ]
  },
  {
   "cell_type": "code",
   "execution_count": 68,
   "metadata": {
    "ExecuteTime": {
     "end_time": "2021-03-18T02:55:49.411962Z",
     "start_time": "2021-03-18T02:55:49.408058Z"
    }
   },
   "outputs": [
    {
     "name": "stdout",
     "output_type": "stream",
     "text": [
      "Index(['datetime', 'tweet_id', 'user_name', 'text'], dtype='object')\n",
      "Index(['tweet_id', 'text', 'datetime', 'user_name'], dtype='object')\n",
      "Index(['Unnamed: 0', 'Datetime', 'Tweet Id', 'Text', 'Username'], dtype='object')\n"
     ]
    }
   ],
   "source": [
    "print(poli_val.columns)\n",
    "print(poli_pos.columns)\n",
    "print(poli_neg.columns)"
   ]
  },
  {
   "cell_type": "code",
   "execution_count": 70,
   "metadata": {
    "ExecuteTime": {
     "end_time": "2021-03-18T02:56:24.960128Z",
     "start_time": "2021-03-18T02:56:24.953295Z"
    }
   },
   "outputs": [],
   "source": [
    "poli_pos = poli_pos[['datetime', 'tweet_id', 'text', 'user_name']]"
   ]
  },
  {
   "cell_type": "code",
   "execution_count": 71,
   "metadata": {
    "ExecuteTime": {
     "end_time": "2021-03-18T02:56:27.131437Z",
     "start_time": "2021-03-18T02:56:27.115819Z"
    }
   },
   "outputs": [],
   "source": [
    "poli_neg.drop(columns=['Unnamed: 0'], inplace=True)"
   ]
  },
  {
   "cell_type": "code",
   "execution_count": 72,
   "metadata": {
    "ExecuteTime": {
     "end_time": "2021-03-18T02:56:29.605870Z",
     "start_time": "2021-03-18T02:56:29.601966Z"
    }
   },
   "outputs": [],
   "source": [
    "poli_neg.rename({'Datetime': 'datetime', 'Tweet Id': 'tweet_id', \n",
    "                 'Text': 'text', 'Username': 'user_name'}, axis=1, inplace=True)"
   ]
  },
  {
   "cell_type": "code",
   "execution_count": 73,
   "metadata": {
    "ExecuteTime": {
     "end_time": "2021-03-18T02:56:34.641199Z",
     "start_time": "2021-03-18T02:56:32.859162Z"
    }
   },
   "outputs": [],
   "source": [
    "poli_pos.to_csv('./data/poli_pos.csv')\n",
    "poli_neg.to_csv('./data/poli_neg.csv')\n",
    "poli_val.to_csv('./data/poli_val.csv')"
   ]
  },
  {
   "cell_type": "code",
   "execution_count": null,
   "metadata": {
    "ExecuteTime": {
     "end_time": "2021-03-15T08:58:28.262949Z",
     "start_time": "2021-03-15T08:58:28.232523Z"
    }
   },
   "outputs": [],
   "source": [
    "# pretty sure I re-did all of this elsewhere but saving just in case\n",
    "\n",
    "# # a few have columns the others don't.  We can just toss those columns,\n",
    "# # very few have useful data for our purposes\n",
    "\n",
    "# az_gop.drop(labels=['retweet_count', 'mined_at', 'favourite_count', 'status_count',\n",
    "#                     'location', 'source_device'], axis=1, inplace=True)\n",
    "\n",
    "# riot_tweets.drop(labels=['follower_count', 'user_tweet_count', 'likes',\n",
    "#                          'retweets', 'location_name', 'longitude', 'latitude',\n",
    "#                          'user_location', ], axis=1, inplace=True)\n",
    "\n",
    "# cpac1.drop(labels=['retweet_count', 'mined_at', 'favourite_count',\n",
    "#                    'status_count', 'location', 'source_device'], axis=1, inplace=True)\n",
    "\n",
    "# poli1.drop(labels=['retweet_count', 'mined_at', 'favourite_count',\n",
    "#                    'status_count', 'location', 'source_device'], axis=1, inplace=True)\n",
    "\n",
    "# trump_tweets.drop(labels=['isDeleted', 'isFlagged'], axis=1, inplace=True)"
   ]
  },
  {
   "cell_type": "code",
   "execution_count": 74,
   "metadata": {
    "ExecuteTime": {
     "end_time": "2021-03-18T02:57:09.629699Z",
     "start_time": "2021-03-18T02:57:09.625796Z"
    }
   },
   "outputs": [],
   "source": [
    "# write function to drop nulls rows from all dataframes and \n",
    "# return null counts by column, and produce a list of null col indexes\n",
    "\n",
    "def nullcheck(dfs):\n",
    "    dfnum = 0\n",
    "    for df in dfs:\n",
    "        nulsum = df.isna().sum().sum()\n",
    "        if nulsum == 0:\n",
    "            dfnum += 1\n",
    "        else:\n",
    "            print(f'Dataframe #{dfnum}: {nulsum} NaN')\n",
    "            dfnum += 1"
   ]
  },
  {
   "cell_type": "code",
   "execution_count": 75,
   "metadata": {
    "ExecuteTime": {
     "end_time": "2021-03-18T02:57:12.433876Z",
     "start_time": "2021-03-18T02:57:11.700329Z"
    }
   },
   "outputs": [
    {
     "name": "stdout",
     "output_type": "stream",
     "text": [
      "Dataframe #6: 3195 NaN\n",
      "Dataframe #25: 231 NaN\n",
      "Dataframe #26: 79832 NaN\n",
      "Dataframe #34: 2 NaN\n"
     ]
    }
   ],
   "source": [
    "nullcheck(dfs)"
   ]
  },
  {
   "cell_type": "code",
   "execution_count": null,
   "metadata": {},
   "outputs": [],
   "source": [
    "general.to_csv()"
   ]
  },
  {
   "cell_type": "code",
   "execution_count": null,
   "metadata": {
    "ExecuteTime": {
     "end_time": "2021-03-15T01:42:14.743440Z",
     "start_time": "2021-03-15T01:42:14.733681Z"
    }
   },
   "outputs": [],
   "source": [
    "# We'll replace the nulls in username with 'username_Unknown'\n",
    "riot_tweets['user_name'].fillna('username_Unknown', inplace=True)"
   ]
  },
  {
   "cell_type": "code",
   "execution_count": null,
   "metadata": {
    "ExecuteTime": {
     "end_time": "2021-03-15T01:42:15.213005Z",
     "start_time": "2021-03-15T01:42:15.205196Z"
    }
   },
   "outputs": [],
   "source": [
    "# we won't be using these columns at all, so they can go\n",
    "qanon_archive.drop(labels=['referenced_posts', 'images'], axis=1, inplace=True)"
   ]
  },
  {
   "cell_type": "code",
   "execution_count": null,
   "metadata": {
    "ExecuteTime": {
     "end_time": "2021-03-15T08:58:35.562011Z",
     "start_time": "2021-03-15T08:58:35.505200Z"
    }
   },
   "outputs": [],
   "source": [
    "# a few of the accounts need to be combined\n",
    "\n",
    "baldwin = pd.concat([baldwin1, baldwin2], ignore_index=True)\n",
    "barrasso = pd.concat([barrasso1, barrasso2], ignore_index=True)\n",
    "biggs = pd.concat([biggs1, biggs2], ignore_index=True)\n",
    "blunt = pd.concat([blunt1, blunt2], ignore_index=True)\n",
    "brown = pd.concat([brown1, brown2], ignore_index=True)\n",
    "cantwell = pd.concat([cantwell1, cantwell2], ignore_index=True)\n",
    "capito = pd.concat([capito1, capito2], ignore_index=True)\n",
    "cardin = pd.concat([cardin1, cardin2], ignore_index=True)\n",
    "coons = pd.concat([coons1, coons2], ignore_index=True)\n",
    "cruz = pd.concat([cruz1, cruz2], ignore_index=True)\n",
    "duckworth = pd.concat([duckworth1, duckworth2], ignore_index=True)\n",
    "durbin = pd.concat([durbin1, durbin2], ignore_index=True)\n",
    "grassley = pd.concat([grassley1, grassley2, grassley3], ignore_index=True)\n",
    "markey = pd.concat([markey1, markey2], ignore_index=True)\n",
    "mtg = pd.concat([mtg1, mtg2], ignore_index=True)\n",
    "murray = pd.concat([murray1, murray2], ignore_index=True)\n",
    "perdue = pd.concat([perdue1, perdue2], ignore_index=True)\n",
    "portman = pd.concat([portman1, portman2], ignore_index=True)\n",
    "rosendale = pd.concat([rosendale1, rosendale2], ignore_index=True)\n",
    "rubio = pd.concat([rubio1, rubio2], ignore_index=True)\n",
    "schatz = pd.concat([schatz1, schatz2], ignore_index=True)\n",
    "scott = pd.concat([scott1, scott2], ignore_index=True)\n",
    "vanhollen = pd.concat([vanhollen1, vanhollen2], ignore_index=True)\n",
    "wicker = pd.concat([wicker1, wicker2], ignore_index=True)\n",
    "young = pd.concat([young1, young2], ignore_index=True)\n",
    "\n",
    "cpac = pd.concat([cpac1, cpac2], ignore_index=True)"
   ]
  },
  {
   "cell_type": "code",
   "execution_count": null,
   "metadata": {
    "ExecuteTime": {
     "end_time": "2021-03-15T08:58:37.989917Z",
     "start_time": "2021-03-15T08:58:37.977950Z"
    }
   },
   "outputs": [],
   "source": [
    "trump_tweets.columns"
   ]
  },
  {
   "cell_type": "code",
   "execution_count": null,
   "metadata": {
    "ExecuteTime": {
     "end_time": "2021-03-15T08:58:38.424463Z",
     "start_time": "2021-03-15T08:58:38.367602Z"
    }
   },
   "outputs": [],
   "source": [
    "# and then the sets too can be combined into our supersets\n",
    "politicians = pd.concat([az_gop, baldwin, boebert, barrasso, biggs, blunt, brooks, \n",
    "                         brown, cantwell, capito, cardin, coons, cruz, daines, duckworth,\n",
    "                         durbin, grassley, gosar, hawley, markey, mtg, murray, perdue, \n",
    "                         poli1, portman, rosendale, rubio, schatz, scott, vanhollen, \n",
    "                         wicker, young])"
   ]
  },
  {
   "cell_type": "code",
   "execution_count": null,
   "metadata": {
    "ExecuteTime": {
     "end_time": "2021-03-15T08:58:39.762211Z",
     "start_time": "2021-03-15T08:58:39.752238Z"
    }
   },
   "outputs": [],
   "source": [
    "politicians.columns"
   ]
  },
  {
   "cell_type": "code",
   "execution_count": null,
   "metadata": {
    "ExecuteTime": {
     "end_time": "2021-03-15T08:57:50.485679Z",
     "start_time": "2021-03-15T08:57:49.630922Z"
    }
   },
   "outputs": [],
   "source": [
    "# politicians.to_csv('./data/politicians_v1.csv')"
   ]
  },
  {
   "cell_type": "code",
   "execution_count": null,
   "metadata": {
    "ExecuteTime": {
     "end_time": "2021-03-15T01:42:19.325267Z",
     "start_time": "2021-03-15T01:42:19.315505Z"
    }
   },
   "outputs": [],
   "source": [
    "thoughtleaders = pd.concat([anon1, cpac, qanon_archive])"
   ]
  },
  {
   "cell_type": "code",
   "execution_count": null,
   "metadata": {
    "ExecuteTime": {
     "end_time": "2021-03-15T01:42:19.452145Z",
     "start_time": "2021-03-15T01:42:19.447266Z"
    }
   },
   "outputs": [],
   "source": [
    "thoughtleaders.columns"
   ]
  },
  {
   "cell_type": "code",
   "execution_count": null,
   "metadata": {
    "ExecuteTime": {
     "end_time": "2021-03-15T01:42:19.632815Z",
     "start_time": "2021-03-15T01:42:19.629887Z"
    }
   },
   "outputs": [],
   "source": [
    "# thoughtleaders.to_csv('./data/thoughtleaders_v1.csv')"
   ]
  },
  {
   "cell_type": "code",
   "execution_count": 76,
   "metadata": {
    "ExecuteTime": {
     "end_time": "2021-03-18T02:58:40.322124Z",
     "start_time": "2021-03-18T02:58:40.035154Z"
    }
   },
   "outputs": [],
   "source": [
    "topics = pd.concat([hash_qanon, hash_boogaloo, hash_civilwar,\n",
    "                    hash_joebiggs, hash_oathkeepers, hash_patriot,\n",
    "                    hash_proudboys, riot_tweets, hash_1933, \n",
    "                    hash_8balls, hash_frens, hash_SS])"
   ]
  },
  {
   "cell_type": "code",
   "execution_count": null,
   "metadata": {
    "ExecuteTime": {
     "end_time": "2021-03-15T01:42:20.067135Z",
     "start_time": "2021-03-15T01:42:19.915855Z"
    }
   },
   "outputs": [],
   "source": [
    "# add keywords to tweets not found by topic, and to riot_tweets\n",
    "riot_tweets.loc[riot_tweets[riot_tweets['text'].str.contains(\"civilwar|civil war|CivilWar|Civil War\", na=False)].index,\n",
    "                ['keyword']] = 'civilwar'"
   ]
  },
  {
   "cell_type": "code",
   "execution_count": null,
   "metadata": {
    "ExecuteTime": {
     "end_time": "2021-03-15T01:42:20.492956Z",
     "start_time": "2021-03-15T01:42:20.408043Z"
    }
   },
   "outputs": [],
   "source": [
    "# checking that it worked\n",
    "riot_tweets[riot_tweets['text'].str.contains(\"civil war\", na=False)]"
   ]
  },
  {
   "cell_type": "code",
   "execution_count": null,
   "metadata": {
    "ExecuteTime": {
     "end_time": "2021-03-15T08:58:47.474388Z",
     "start_time": "2021-03-15T08:58:47.449454Z"
    }
   },
   "outputs": [],
   "source": [
    "politicians.drop(labels=['isRetweet', 'device', 'favorites', 'retweets'], axis=1, inplace=True)"
   ]
  },
  {
   "cell_type": "code",
   "execution_count": null,
   "metadata": {
    "ExecuteTime": {
     "end_time": "2021-03-15T02:47:05.671667Z",
     "start_time": "2021-03-15T02:47:05.232578Z"
    }
   },
   "outputs": [],
   "source": [
    "topics.drop(labels=['user_id'], axis=1, inplace=True)"
   ]
  },
  {
   "cell_type": "code",
   "execution_count": 77,
   "metadata": {
    "ExecuteTime": {
     "end_time": "2021-03-18T02:58:49.414813Z",
     "start_time": "2021-03-18T02:58:49.410911Z"
    }
   },
   "outputs": [
    {
     "data": {
      "text/plain": [
       "Index(['datetime', 'tweet_id', 'text', 'user_name', 'keyword'], dtype='object')"
      ]
     },
     "execution_count": 77,
     "metadata": {},
     "output_type": "execute_result"
    }
   ],
   "source": [
    "topics.columns"
   ]
  },
  {
   "cell_type": "code",
   "execution_count": null,
   "metadata": {},
   "outputs": [],
   "source": []
  },
  {
   "cell_type": "code",
   "execution_count": null,
   "metadata": {},
   "outputs": [],
   "source": []
  },
  {
   "cell_type": "code",
   "execution_count": 78,
   "metadata": {
    "ExecuteTime": {
     "end_time": "2021-03-18T02:58:58.346024Z",
     "start_time": "2021-03-18T02:58:58.343097Z"
    }
   },
   "outputs": [],
   "source": [
    "# finally, we can remove duplicates"
   ]
  },
  {
   "cell_type": "code",
   "execution_count": 79,
   "metadata": {
    "ExecuteTime": {
     "end_time": "2021-03-18T02:58:58.562785Z",
     "start_time": "2021-03-18T02:58:58.547680Z"
    }
   },
   "outputs": [
    {
     "ename": "NameError",
     "evalue": "name 'politicians' is not defined",
     "output_type": "error",
     "traceback": [
      "\u001b[1;31m---------------------------------------------------------------------------\u001b[0m",
      "\u001b[1;31mNameError\u001b[0m                                 Traceback (most recent call last)",
      "\u001b[1;32m<ipython-input-79-5cecac209d4d>\u001b[0m in \u001b[0;36m<module>\u001b[1;34m\u001b[0m\n\u001b[1;32m----> 1\u001b[1;33m \u001b[0mpoliticians\u001b[0m\u001b[1;33m.\u001b[0m\u001b[0mdrop_duplicates\u001b[0m\u001b[1;33m(\u001b[0m\u001b[0msubset\u001b[0m\u001b[1;33m=\u001b[0m\u001b[1;34m'text'\u001b[0m\u001b[1;33m,\u001b[0m \u001b[0minplace\u001b[0m\u001b[1;33m=\u001b[0m\u001b[1;32mTrue\u001b[0m\u001b[1;33m)\u001b[0m\u001b[1;33m\u001b[0m\u001b[1;33m\u001b[0m\u001b[0m\n\u001b[0m",
      "\u001b[1;31mNameError\u001b[0m: name 'politicians' is not defined"
     ]
    }
   ],
   "source": [
    "politicians.drop_duplicates(subset='text', inplace=True)"
   ]
  },
  {
   "cell_type": "code",
   "execution_count": null,
   "metadata": {
    "ExecuteTime": {
     "end_time": "2021-03-15T08:58:57.371288Z",
     "start_time": "2021-03-15T08:58:56.308133Z"
    }
   },
   "outputs": [],
   "source": [
    "topics.drop_duplicates(subset='text', inplace=True)"
   ]
  },
  {
   "cell_type": "code",
   "execution_count": null,
   "metadata": {
    "ExecuteTime": {
     "end_time": "2021-03-15T08:58:58.575364Z",
     "start_time": "2021-03-15T08:58:58.548432Z"
    }
   },
   "outputs": [],
   "source": [
    "riot_tweets.drop_duplicates(subset='text', inplace=True)"
   ]
  },
  {
   "cell_type": "code",
   "execution_count": null,
   "metadata": {
    "ExecuteTime": {
     "end_time": "2021-03-15T08:58:58.793117Z",
     "start_time": "2021-03-15T08:58:58.781149Z"
    }
   },
   "outputs": [],
   "source": [
    "thoughtleaders.drop_duplicates(subset='text', inplace=True)"
   ]
  },
  {
   "cell_type": "code",
   "execution_count": null,
   "metadata": {
    "ExecuteTime": {
     "end_time": "2021-03-15T08:59:09.963448Z",
     "start_time": "2021-03-15T08:58:59.139413Z"
    }
   },
   "outputs": [],
   "source": [
    "politicians.to_csv('./data/politicians_clean.csv')\n",
    "topics.to_csv('./data/topics_clean.csv')\n",
    "thoughtleaders.to_csv('./data/thoughtleaders_clean.csv')\n",
    "riot_tweets.to_csv('./data/riot_tweets_clean.csv')"
   ]
  },
  {
   "cell_type": "code",
   "execution_count": null,
   "metadata": {
    "ExecuteTime": {
     "end_time": "2021-03-17T02:56:13.519221Z",
     "start_time": "2021-03-17T02:56:13.500088Z"
    }
   },
   "outputs": [],
   "source": [
    "qanon_archive.sample(15)"
   ]
  },
  {
   "cell_type": "code",
   "execution_count": null,
   "metadata": {},
   "outputs": [],
   "source": []
  }
 ],
 "metadata": {
  "kernelspec": {
   "display_name": "Python 3",
   "language": "python",
   "name": "python3"
  },
  "language_info": {
   "codemirror_mode": {
    "name": "ipython",
    "version": 3
   },
   "file_extension": ".py",
   "mimetype": "text/x-python",
   "name": "python",
   "nbconvert_exporter": "python",
   "pygments_lexer": "ipython3",
   "version": "3.8.5"
  },
  "toc": {
   "base_numbering": 1,
   "nav_menu": {},
   "number_sections": false,
   "sideBar": true,
   "skip_h1_title": false,
   "title_cell": "Table of Contents",
   "title_sidebar": "Contents",
   "toc_cell": false,
   "toc_position": {
    "height": "calc(100% - 180px)",
    "left": "10px",
    "top": "150px",
    "width": "384px"
   },
   "toc_section_display": true,
   "toc_window_display": true
  }
 },
 "nbformat": 4,
 "nbformat_minor": 4
}
