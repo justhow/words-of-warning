{
 "cells": [
  {
   "cell_type": "markdown",
   "metadata": {},
   "source": [
    "# Words of Warning: Inferring intent from text with Machine Learning"
   ]
  },
  {
   "cell_type": "markdown",
   "metadata": {},
   "source": [
    "## Imports"
   ]
  },
  {
   "cell_type": "code",
   "execution_count": 1,
   "metadata": {
    "ExecuteTime": {
     "end_time": "2021-03-23T00:28:16.136961Z",
     "start_time": "2021-03-23T00:28:08.934938Z"
    }
   },
   "outputs": [],
   "source": [
    "import pandas as pd, numpy as np, matplotlib.pyplot as plt\n",
    "\n",
    "from sklearn.feature_extraction.text import CountVectorizer, TfidfVectorizer\n",
    "from sklearn.feature_extraction import text\n",
    "from sklearn.model_selection import GridSearchCV, train_test_split, cross_val_score\n",
    "from sklearn.linear_model import LogisticRegressionCV as logreg\n",
    "from sklearn.ensemble import RandomForestClassifier\n",
    "from sklearn.pipeline import Pipeline\n",
    "from sklearn.metrics import accuracy_score, confusion_matrix, plot_confusion_matrix\n",
    "from sklearn.preprocessing import StandardScaler\n",
    "\n",
    "from tensorflow.keras.models import Sequential\n",
    "from tensorflow.keras.layers import Dense, Dropout, GRU\n",
    "from tensorflow.keras.optimizers import Adam\n",
    "from tensorflow.keras.preprocessing.sequence import TimeseriesGenerator\n",
    "\n",
    "from nltk.sentiment.vader import SentimentIntensityAnalyzer\n",
    "from nltk.stem import WordNetLemmatizer\n",
    "\n",
    "import gensim.downloader as api\n",
    "from gensim.models.word2vec import Word2Vec\n",
    "from transformers import pipeline\n",
    "\n",
    "pd.set_option('display.max_colwidth', 255)\n",
    "plt.style.use(\"dark_background\")"
   ]
  },
  {
   "cell_type": "code",
   "execution_count": 2,
   "metadata": {
    "ExecuteTime": {
     "end_time": "2021-03-23T00:28:20.923483Z",
     "start_time": "2021-03-23T00:28:16.138914Z"
    }
   },
   "outputs": [],
   "source": [
    "poli_pos = pd.read_csv('./data/poli_pos.csv')\n",
    "poli_neg = pd.read_csv('./data/poli_neg.csv')\n",
    "poli_val = pd.read_csv('./data/poli_val.csv')\n",
    "topics_neg = pd.read_csv('./data/topics_neg.csv')\n",
    "topics_pos = pd.read_csv('./data/topics_pos.csv')"
   ]
  },
  {
   "cell_type": "code",
   "execution_count": 3,
   "metadata": {
    "ExecuteTime": {
     "end_time": "2021-03-23T00:28:20.935191Z",
     "start_time": "2021-03-23T00:28:20.924454Z"
    }
   },
   "outputs": [],
   "source": [
    "poli_neg['target'] = 0 \n",
    "poli_pos['target'] = 1 \n",
    "topics_neg['target'] = 0\n",
    "topics_pos['target'] = 1"
   ]
  },
  {
   "cell_type": "code",
   "execution_count": 4,
   "metadata": {
    "ExecuteTime": {
     "end_time": "2021-03-23T00:28:20.942999Z",
     "start_time": "2021-03-23T00:28:20.936168Z"
    }
   },
   "outputs": [
    {
     "name": "stdout",
     "output_type": "stream",
     "text": [
      "Index(['Unnamed: 0', 'datetime', 'tweet_id', 'text', 'user_name', 'target'], dtype='object')\n",
      "Index(['Unnamed: 0', 'datetime', 'tweet_id', 'text', 'user_name', 'target'], dtype='object')\n",
      "Index(['Unnamed: 0', 'datetime', 'tweet_id', 'text', 'user_name', 'target'], dtype='object')\n",
      "Index(['Unnamed: 0', 'datetime', 'tweet_id', 'text', 'keyword', 'target'], dtype='object')\n"
     ]
    }
   ],
   "source": [
    "print(poli_neg.columns)\n",
    "print(poli_pos.columns)\n",
    "print(topics_neg.columns)\n",
    "print(topics_pos.columns)"
   ]
  },
  {
   "cell_type": "code",
   "execution_count": 5,
   "metadata": {
    "ExecuteTime": {
     "end_time": "2021-03-23T00:28:21.114316Z",
     "start_time": "2021-03-23T00:28:20.943976Z"
    }
   },
   "outputs": [],
   "source": [
    "# note: I will have to exclude the keyword column until I have added appropriate\n",
    "# keywords throughout the data.  Right now there are too few, and they are too predictive.\n",
    "poli_neg.drop(columns=['Unnamed: 0', 'tweet_id', 'user_name', 'datetime'], inplace=True)\n",
    "poli_pos.drop(columns=['Unnamed: 0', 'tweet_id', 'user_name', 'datetime'], inplace=True)\n",
    "topics_neg.drop(columns=['Unnamed: 0', 'tweet_id', 'user_name', 'datetime'], inplace=True)\n",
    "topics_pos.drop(columns=['Unnamed: 0', 'tweet_id', 'datetime', 'keyword'], inplace=True)"
   ]
  },
  {
   "cell_type": "code",
   "execution_count": 6,
   "metadata": {
    "ExecuteTime": {
     "end_time": "2021-03-23T00:28:21.152379Z",
     "start_time": "2021-03-23T00:28:21.115291Z"
    }
   },
   "outputs": [],
   "source": [
    "df_topics = pd.concat([topics_pos, topics_neg], ignore_index=True)\n",
    "df_poli = pd.concat([poli_pos, poli_neg], ignore_index=True)"
   ]
  },
  {
   "cell_type": "code",
   "execution_count": 7,
   "metadata": {
    "ExecuteTime": {
     "end_time": "2021-03-23T00:28:21.206059Z",
     "start_time": "2021-03-23T00:28:21.153357Z"
    }
   },
   "outputs": [],
   "source": [
    "X_poli = df_poli.drop(columns=['target'])\n",
    "y_poli = df_poli['target']\n",
    "X_topics = df_topics.drop(columns=['target'])\n",
    "y_topics = df_topics['target']"
   ]
  },
  {
   "cell_type": "code",
   "execution_count": 8,
   "metadata": {
    "ExecuteTime": {
     "end_time": "2021-03-23T00:28:22.423138Z",
     "start_time": "2021-03-23T00:28:21.208012Z"
    }
   },
   "outputs": [],
   "source": [
    "# Split the data into the training and testing sets.\n",
    "X_train_poli, X_test_poli, y_train_poli, y_test_poli = train_test_split(X_poli,\n",
    "                                                                        y_poli,\n",
    "                                                                        test_size=0.2,\n",
    "                                                                        stratify=y_poli,\n",
    "                                                                        random_state=42)\n",
    "\n",
    "X_train_topics, X_test_topics, y_train_topics, y_test_topics = train_test_split(X_topics,\n",
    "                                                                                y_topics,\n",
    "                                                                                test_size=0.2,\n",
    "                                                                                stratify=y_topics,\n",
    "                                                                                random_state=42)"
   ]
  },
  {
   "cell_type": "code",
   "execution_count": 9,
   "metadata": {
    "ExecuteTime": {
     "end_time": "2021-03-23T00:28:22.429970Z",
     "start_time": "2021-03-23T00:28:22.424114Z"
    }
   },
   "outputs": [],
   "source": [
    "# custom stopwords to manually zero in on more predictive words\n",
    "\n",
    "custom = ['https', 'trump', 'realdonaldtrump', 'rt', 'health', 'country', \n",
    "          'just', 'help', 'thank', 'time', 'senate', 'http', 'american', \n",
    "          'americans', 'act', 'vote', 'pandemic', 'like', 'america', 'state', \n",
    "          'support', 'day', 'workers', 'right', 'years', 'working', 'good', \n",
    "          'thanks', 'families', 'covid', 'crisis', 'election', 'big', \n",
    "          'congress', 'let', 'want', 'national', 'going', 'know', 'relief',  \n",
    "          'house', 'public', 'year', 'federal', 'continue', 've', \n",
    "          'states', 'justice', 'way', 'ensure', 'jobs', 'law', 'businesses', \n",
    "          'proud', 'administration', 'small', 'world', 'stop', 'job', 'safe',\n",
    "          'best', 'important', 'biden', 'doing', 'economy', 'better', 'needs',\n",
    "          'week', 'join', 'funding', 'forward', 'economic', 'amp', 'did', \n",
    "          'millions', 'need', 'today', 'work', 'new']\n",
    "\n",
    "\n",
    "combined_words = text.ENGLISH_STOP_WORDS.union(custom)"
   ]
  },
  {
   "cell_type": "code",
   "execution_count": 10,
   "metadata": {
    "ExecuteTime": {
     "end_time": "2021-03-23T00:28:22.437780Z",
     "start_time": "2021-03-23T00:28:22.430946Z"
    }
   },
   "outputs": [],
   "source": [
    "# implement countvectorizer\n",
    "cvec = CountVectorizer(analyzer=\"word\",\n",
    "                       encoding='utf-8',\n",
    "                       decode_error='ignore',\n",
    "                       strip_accents='unicode',\n",
    "                       lowercase=True,\n",
    "                       max_df=0.95,\n",
    "                       min_df=0.01,\n",
    "                       stop_words=combined_words,\n",
    "                       max_features=5000,\n",
    "                       ngram_range=(1, 3))\n",
    "\n",
    "tvec = TfidfVectorizer(encoding='utf-8',\n",
    "                       decode_error='ignore',\n",
    "                       strip_accents='unicode',\n",
    "                       lowercase=True,\n",
    "                       analyzer='word',\n",
    "                       stop_words=combined_words,\n",
    "                       ngram_range=(1, 3),\n",
    "                       max_df=.8,\n",
    "                       min_df=.05,\n",
    "                       max_features=10000,\n",
    "                       norm='l2')\n",
    "\n",
    "lemmatizer = WordNetLemmatizer()"
   ]
  },
  {
   "cell_type": "code",
   "execution_count": 11,
   "metadata": {
    "ExecuteTime": {
     "end_time": "2021-03-23T00:28:22.647619Z",
     "start_time": "2021-03-23T00:28:22.438755Z"
    }
   },
   "outputs": [
    {
     "data": {
      "text/plain": [
       "text    0\n",
       "dtype: int64"
      ]
     },
     "execution_count": 11,
     "metadata": {},
     "output_type": "execute_result"
    }
   ],
   "source": [
    "X_train_topics.isna().sum()"
   ]
  },
  {
   "cell_type": "code",
   "execution_count": 12,
   "metadata": {
    "ExecuteTime": {
     "end_time": "2021-03-23T00:28:22.749122Z",
     "start_time": "2021-03-23T00:28:22.648595Z"
    }
   },
   "outputs": [
    {
     "name": "stderr",
     "output_type": "stream",
     "text": [
      "<ipython-input-12-294d3c14820a>:1: SettingWithCopyWarning: \n",
      "A value is trying to be set on a copy of a slice from a DataFrame\n",
      "\n",
      "See the caveats in the documentation: https://pandas.pydata.org/pandas-docs/stable/user_guide/indexing.html#returning-a-view-versus-a-copy\n",
      "  X_test_topics.dropna(inplace=True)\n"
     ]
    }
   ],
   "source": [
    "X_test_topics.dropna(inplace=True)"
   ]
  },
  {
   "cell_type": "code",
   "execution_count": 13,
   "metadata": {
    "ExecuteTime": {
     "end_time": "2021-03-23T00:28:24.704436Z",
     "start_time": "2021-03-23T00:28:22.750098Z"
    }
   },
   "outputs": [],
   "source": [
    "for entry in X_train_poli['text']:\n",
    "    entry = lemmatizer.lemmatize(entry)"
   ]
  },
  {
   "cell_type": "code",
   "execution_count": 14,
   "metadata": {
    "ExecuteTime": {
     "end_time": "2021-03-23T00:28:24.789348Z",
     "start_time": "2021-03-23T00:28:24.705408Z"
    }
   },
   "outputs": [],
   "source": [
    "for entry in X_test_poli['text']:\n",
    "    entry = lemmatizer.lemmatize(entry)"
   ]
  },
  {
   "cell_type": "code",
   "execution_count": 15,
   "metadata": {
    "ExecuteTime": {
     "end_time": "2021-03-23T00:28:29.926064Z",
     "start_time": "2021-03-23T00:28:24.790319Z"
    }
   },
   "outputs": [],
   "source": [
    "for entry in X_train_topics['text']:\n",
    "    entry = lemmatizer.lemmatize(entry)"
   ]
  },
  {
   "cell_type": "code",
   "execution_count": 16,
   "metadata": {
    "ExecuteTime": {
     "end_time": "2021-03-23T00:28:31.236780Z",
     "start_time": "2021-03-23T00:28:29.927038Z"
    }
   },
   "outputs": [],
   "source": [
    "for entry in X_test_topics['text']:\n",
    "    entry = lemmatizer.lemmatize(entry)"
   ]
  },
  {
   "cell_type": "code",
   "execution_count": 17,
   "metadata": {
    "ExecuteTime": {
     "end_time": "2021-03-23T00:28:43.039022Z",
     "start_time": "2021-03-23T00:28:31.237752Z"
    }
   },
   "outputs": [],
   "source": [
    "# apply cvec to train and test sets\n",
    "poli_X = pd.DataFrame(cvec.fit_transform(X_train_poli['text']).todense(),\n",
    "                      columns=cvec.get_feature_names())\n",
    "\n",
    "poli_X_test = pd.DataFrame(cvec.transform(X_test_poli['text']).todense(),\n",
    "                           columns=cvec.get_feature_names())"
   ]
  },
  {
   "cell_type": "code",
   "execution_count": null,
   "metadata": {},
   "outputs": [],
   "source": []
  },
  {
   "cell_type": "code",
   "execution_count": 18,
   "metadata": {
    "ExecuteTime": {
     "end_time": "2021-03-23T00:31:02.517943Z",
     "start_time": "2021-03-23T00:28:43.040970Z"
    }
   },
   "outputs": [],
   "source": [
    "topics_X = pd.DataFrame(cvec.fit_transform(X_train_topics['text']).todense(),\n",
    "                      columns=cvec.get_feature_names())\n",
    "\n",
    "topics_X_test = pd.DataFrame(cvec.transform(X_test_topics['text']).todense(),\n",
    "                           columns=cvec.get_feature_names())"
   ]
  },
  {
   "cell_type": "code",
   "execution_count": 19,
   "metadata": {
    "ExecuteTime": {
     "end_time": "2021-03-23T00:31:02.522823Z",
     "start_time": "2021-03-23T00:31:02.518919Z"
    }
   },
   "outputs": [],
   "source": [
    "# # re-add the username and datetime columns to the temporary df, then replace the original with the vectorized version\n",
    "\n",
    "# X_train_poli = pd.concat([poli_X, X_train_poli['datetime']], axis=1)\n",
    "# X_test_poli = pd.concat([poli_X_test, X_test_poli['datetime']], axis=1)\n",
    "# X_train_topics = pd.concat([topics_X, X_train_topics['datetime']], axis=1)\n",
    "# X_test_topics = pd.concat([topics_X_test, X_test_topics['datetime']], axis=1)"
   ]
  },
  {
   "cell_type": "code",
   "execution_count": 20,
   "metadata": {
    "ExecuteTime": {
     "end_time": "2021-03-23T00:31:02.533560Z",
     "start_time": "2021-03-23T00:31:02.523798Z"
    }
   },
   "outputs": [],
   "source": [
    "l1 = logreg(cv=5,\n",
    "            penalty='l1',\n",
    "            scoring=None,\n",
    "            solver='liblinear',\n",
    "            tol=0.001,\n",
    "            max_iter=200,\n",
    "            class_weight='balanced',\n",
    "            n_jobs=-2,\n",
    "            verbose=1,\n",
    "            refit=True,\n",
    "            intercept_scaling=1.0,\n",
    "            multi_class='auto',\n",
    "            random_state=42,\n",
    "            l1_ratios=None,)\n",
    "\n",
    "l2 = logreg(cv=5,\n",
    "            penalty='l2',\n",
    "            scoring=None,\n",
    "            solver='lbfgs',\n",
    "            tol=0.001,\n",
    "            max_iter=200,\n",
    "            class_weight='balanced',\n",
    "            n_jobs=-2,\n",
    "            verbose=1,\n",
    "            refit=True,\n",
    "            intercept_scaling=1.0,\n",
    "            multi_class='auto',\n",
    "            random_state=42,\n",
    "            l1_ratios=None,)\n",
    "\n",
    "lr_net = logreg(cv=5,\n",
    "                penalty='elasticnet',\n",
    "                scoring=None,\n",
    "                solver='saga',\n",
    "                tol=0.001,\n",
    "                max_iter=200,\n",
    "                class_weight='balanced',\n",
    "                n_jobs=-2,\n",
    "                verbose=1,\n",
    "                refit=True,\n",
    "                intercept_scaling=1.0,\n",
    "                multi_class='auto',\n",
    "                random_state=42,\n",
    "                l1_ratios=.5,)"
   ]
  },
  {
   "cell_type": "code",
   "execution_count": null,
   "metadata": {},
   "outputs": [],
   "source": []
  },
  {
   "cell_type": "code",
   "execution_count": null,
   "metadata": {},
   "outputs": [],
   "source": []
  },
  {
   "cell_type": "code",
   "execution_count": null,
   "metadata": {},
   "outputs": [],
   "source": []
  },
  {
   "cell_type": "code",
   "execution_count": null,
   "metadata": {},
   "outputs": [],
   "source": []
  },
  {
   "cell_type": "code",
   "execution_count": null,
   "metadata": {},
   "outputs": [],
   "source": []
  },
  {
   "cell_type": "code",
   "execution_count": 21,
   "metadata": {
    "ExecuteTime": {
     "end_time": "2021-03-20T06:02:10.927184Z",
     "start_time": "2021-03-20T06:02:10.920353Z"
    }
   },
   "outputs": [],
   "source": [
    "poli_sc1 = StandardScaler()\n",
    "\n",
    "poli_pipe1 = Pipeline([\n",
    "    ('scaler', poli_sc1),\n",
    "    ('model', l1)\n",
    "])"
   ]
  },
  {
   "cell_type": "markdown",
   "metadata": {},
   "source": [
    "Establishing null model:"
   ]
  },
  {
   "cell_type": "code",
   "execution_count": 22,
   "metadata": {
    "ExecuteTime": {
     "end_time": "2021-03-20T06:02:10.942800Z",
     "start_time": "2021-03-20T06:02:10.928162Z"
    }
   },
   "outputs": [
    {
     "data": {
      "text/plain": [
       "1    0.50144\n",
       "0    0.49856\n",
       "Name: target, dtype: float64"
      ]
     },
     "execution_count": 22,
     "metadata": {},
     "output_type": "execute_result"
    }
   ],
   "source": [
    "y_train_poli.value_counts(normalize=True)"
   ]
  },
  {
   "cell_type": "code",
   "execution_count": 23,
   "metadata": {
    "ExecuteTime": {
     "end_time": "2021-03-20T06:02:10.951585Z",
     "start_time": "2021-03-20T06:02:10.945728Z"
    }
   },
   "outputs": [
    {
     "data": {
      "text/plain": [
       "1    0.501418\n",
       "0    0.498582\n",
       "Name: target, dtype: float64"
      ]
     },
     "execution_count": 23,
     "metadata": {},
     "output_type": "execute_result"
    }
   ],
   "source": [
    "y_test_poli.value_counts(normalize=True)"
   ]
  },
  {
   "cell_type": "code",
   "execution_count": 24,
   "metadata": {
    "ExecuteTime": {
     "end_time": "2021-03-20T06:02:31.581194Z",
     "start_time": "2021-03-20T06:02:10.952559Z"
    }
   },
   "outputs": [
    {
     "name": "stderr",
     "output_type": "stream",
     "text": [
      "[Parallel(n_jobs=-2)]: Using backend LokyBackend with 11 concurrent workers.\n",
      "[Parallel(n_jobs=-2)]: Done   2 out of   5 | elapsed:   17.6s remaining:   26.5s\n",
      "[Parallel(n_jobs=-2)]: Done   5 out of   5 | elapsed:   18.8s finished\n"
     ]
    },
    {
     "name": "stdout",
     "output_type": "stream",
     "text": [
      "LogReg L1, score on training set: 0.7529527777162232, score on test set: 0.7491579507179578.\n"
     ]
    }
   ],
   "source": [
    "poli_pipe1.fit(poli_X, y_train_poli)\n",
    "\n",
    "poli_train1 = poli_pipe1.score(poli_X, y_train_poli)\n",
    "poli_test1 = poli_pipe1.score(poli_X_test, y_test_poli)\n",
    "print(f'LogReg L1, score on training set: {poli_train1}, score on test set: {poli_test1}.')"
   ]
  },
  {
   "cell_type": "code",
   "execution_count": 25,
   "metadata": {
    "ExecuteTime": {
     "end_time": "2021-03-20T06:02:31.604621Z",
     "start_time": "2021-03-20T06:02:31.583146Z"
    }
   },
   "outputs": [
    {
     "data": {
      "text/plain": [
       "great          7754\n",
       "president      7499\n",
       "people         7128\n",
       "make           4486\n",
       "care           3683\n",
       "coronavirus    2957\n",
       "don            2692\n",
       "covid19        2379\n",
       "donald         2281\n",
       "news           2278\n",
       "nation         2217\n",
       "communities    2150\n",
       "protect        2148\n",
       "democrats      2137\n",
       "19             2095\n",
       "fight          2084\n",
       "republicans    1789\n",
       "obama          1764\n",
       "ll             1732\n",
       "000            1704\n",
       "lives          1691\n",
       "win            1546\n",
       "million        1520\n",
       "family         1518\n",
       "court          1515\n",
       "watch          1511\n",
       "sure           1500\n",
       "women          1488\n",
       "china          1439\n",
       "fighting       1436\n",
       "bipartisan     1378\n",
       "look           1371\n",
       "pass           1364\n",
       "provide        1364\n",
       "said           1360\n",
       "military       1356\n",
       "united         1346\n",
       "service        1346\n",
       "deal           1345\n",
       "long           1339\n",
       "security       1329\n",
       "live           1325\n",
       "love           1319\n",
       "tonight        1317\n",
       "won            1306\n",
       "think          1304\n",
       "access         1299\n",
       "hard           1290\n",
       "testing        1270\n",
       "end            1260\n",
       "dtype: int64"
      ]
     },
     "execution_count": 25,
     "metadata": {},
     "output_type": "execute_result"
    }
   ],
   "source": [
    "poli_X.sum().sort_values(ascending=False).head(50)"
   ]
  },
  {
   "cell_type": "code",
   "execution_count": 26,
   "metadata": {
    "ExecuteTime": {
     "end_time": "2021-03-20T06:02:32.075473Z",
     "start_time": "2021-03-20T06:02:31.607547Z"
    }
   },
   "outputs": [
    {
     "data": {
      "image/png": "[encoded data removed]",
      "text/plain": [
       "<Figure size 936x936 with 1 Axes>"
      ]
     },
     "metadata": {},
     "output_type": "display_data"
    }
   ],
   "source": [
    "# plot top occuring words\n",
    "poli_X.sum().sort_values(ascending=False).head(30).plot(kind='barh', figsize=(13,13));"
   ]
  },
  {
   "cell_type": "code",
   "execution_count": 27,
   "metadata": {
    "ExecuteTime": {
     "end_time": "2021-03-20T06:02:32.081316Z",
     "start_time": "2021-03-20T06:02:32.077415Z"
    }
   },
   "outputs": [],
   "source": [
    "poli_sc2 = StandardScaler()\n",
    "\n",
    "poli_pipe2 = Pipeline([\n",
    "    ('scaler', poli_sc2),\n",
    "    ('model', l2)\n",
    "])"
   ]
  },
  {
   "cell_type": "code",
   "execution_count": 28,
   "metadata": {
    "ExecuteTime": {
     "end_time": "2021-03-20T06:02:39.207812Z",
     "start_time": "2021-03-20T06:02:32.083268Z"
    }
   },
   "outputs": [
    {
     "name": "stderr",
     "output_type": "stream",
     "text": [
      "[Parallel(n_jobs=-2)]: Using backend LokyBackend with 11 concurrent workers.\n",
      "[Parallel(n_jobs=-2)]: Done   2 out of   5 | elapsed:    5.8s remaining:    8.7s\n",
      "[Parallel(n_jobs=-2)]: Done   5 out of   5 | elapsed:    6.1s finished\n"
     ]
    },
    {
     "name": "stdout",
     "output_type": "stream",
     "text": [
      "LogReg L2, score on training set: 0.7529860172402332, score on test set: 0.7492465874844886.\n"
     ]
    }
   ],
   "source": [
    "poli_pipe2.fit(poli_X, y_train_poli)\n",
    "\n",
    "poli_train2 = poli_pipe2.score(poli_X, y_train_poli)\n",
    "poli_test2 = poli_pipe2.score(poli_X_test, y_test_poli)\n",
    "print(f'LogReg L2, score on training set: {poli_train2}, score on test set: {poli_test2}.')"
   ]
  },
  {
   "cell_type": "code",
   "execution_count": 29,
   "metadata": {
    "ExecuteTime": {
     "end_time": "2021-03-20T06:02:39.213668Z",
     "start_time": "2021-03-20T06:02:39.208789Z"
    }
   },
   "outputs": [],
   "source": [
    "rf = RandomForestClassifier(n_estimators=250,\n",
    "                            criterion='gini',\n",
    "                            max_depth=5,\n",
    "                            min_samples_split=2,\n",
    "                            min_samples_leaf=1,\n",
    "                            min_weight_fraction_leaf=0.0,\n",
    "                            max_features='auto',\n",
    "                            max_leaf_nodes=None,\n",
    "                            min_impurity_decrease=0.0,\n",
    "                            min_impurity_split=None,\n",
    "                            bootstrap=True,\n",
    "                            oob_score=False,\n",
    "                            n_jobs=None,\n",
    "                            random_state=None,\n",
    "                            verbose=0,\n",
    "                            warm_start=False,\n",
    "                            class_weight=None,\n",
    "                            ccp_alpha=0.0,\n",
    "                            max_samples=None,\n",
    "                            )"
   ]
  },
  {
   "cell_type": "code",
   "execution_count": 30,
   "metadata": {
    "ExecuteTime": {
     "end_time": "2021-03-20T06:02:39.225382Z",
     "start_time": "2021-03-20T06:02:39.215620Z"
    }
   },
   "outputs": [],
   "source": [
    "poli_sc4 = StandardScaler()\n",
    "\n",
    "poli_pipe4 = Pipeline([\n",
    "    ('scaler', poli_sc1),\n",
    "    ('model', rf)\n",
    "])"
   ]
  },
  {
   "cell_type": "code",
   "execution_count": 31,
   "metadata": {
    "ExecuteTime": {
     "end_time": "2021-03-20T06:02:56.793204Z",
     "start_time": "2021-03-20T06:02:39.228310Z"
    }
   },
   "outputs": [
    {
     "name": "stdout",
     "output_type": "stream",
     "text": [
      "Random Forest, score on training set: 0.7038690805947658, score on test set: 0.700008863676653.\n"
     ]
    }
   ],
   "source": [
    "poli_pipe4.fit(poli_X, y_train_poli)\n",
    "\n",
    "poli_train4 = poli_pipe4.score(poli_X, y_train_poli)\n",
    "poli_test4 = poli_pipe4.score(poli_X_test, y_test_poli)\n",
    "print(f'Random Forest, score on training set: {poli_train4}, score on test set: {poli_test4}.')"
   ]
  },
  {
   "cell_type": "code",
   "execution_count": 32,
   "metadata": {
    "ExecuteTime": {
     "end_time": "2021-03-20T06:03:12.933128Z",
     "start_time": "2021-03-20T06:02:56.794179Z"
    }
   },
   "outputs": [
    {
     "ename": "TypeError",
     "evalue": "can only concatenate str (not \"numpy.int64\") to str",
     "output_type": "error",
     "traceback": [
      "\u001b[1;31m---------------------------------------------------------------------------\u001b[0m",
      "\u001b[1;31mTypeError\u001b[0m                                 Traceback (most recent call last)",
      "\u001b[1;32m<ipython-input-32-29a9c5d1cdd4>\u001b[0m in \u001b[0;36m<module>\u001b[1;34m\u001b[0m\n\u001b[0;32m      8\u001b[0m \u001b[1;32mfrom\u001b[0m \u001b[0msklearn\u001b[0m\u001b[1;33m.\u001b[0m\u001b[0mtree\u001b[0m \u001b[1;32mimport\u001b[0m \u001b[0mexport_graphviz\u001b[0m\u001b[1;33m\u001b[0m\u001b[1;33m\u001b[0m\u001b[0m\n\u001b[0;32m      9\u001b[0m \u001b[1;31m# Export as dot file\u001b[0m\u001b[1;33m\u001b[0m\u001b[1;33m\u001b[0m\u001b[1;33m\u001b[0m\u001b[0m\n\u001b[1;32m---> 10\u001b[1;33m export_graphviz(estimator, out_file='tree.dot', \n\u001b[0m\u001b[0;32m     11\u001b[0m                 \u001b[0mfeature_names\u001b[0m \u001b[1;33m=\u001b[0m \u001b[0mpoli_X\u001b[0m\u001b[1;33m.\u001b[0m\u001b[0mcolumns\u001b[0m\u001b[1;33m,\u001b[0m\u001b[1;33m\u001b[0m\u001b[1;33m\u001b[0m\u001b[0m\n\u001b[0;32m     12\u001b[0m                 \u001b[0mclass_names\u001b[0m \u001b[1;33m=\u001b[0m \u001b[0my_train_poli\u001b[0m\u001b[1;33m,\u001b[0m\u001b[1;33m\u001b[0m\u001b[1;33m\u001b[0m\u001b[0m\n",
      "\u001b[1;32m~\\anaconda3\\lib\\site-packages\\sklearn\\utils\\validation.py\u001b[0m in \u001b[0;36minner_f\u001b[1;34m(*args, **kwargs)\u001b[0m\n\u001b[0;32m     70\u001b[0m                           FutureWarning)\n\u001b[0;32m     71\u001b[0m         \u001b[0mkwargs\u001b[0m\u001b[1;33m.\u001b[0m\u001b[0mupdate\u001b[0m\u001b[1;33m(\u001b[0m\u001b[1;33m{\u001b[0m\u001b[0mk\u001b[0m\u001b[1;33m:\u001b[0m \u001b[0marg\u001b[0m \u001b[1;32mfor\u001b[0m \u001b[0mk\u001b[0m\u001b[1;33m,\u001b[0m \u001b[0marg\u001b[0m \u001b[1;32min\u001b[0m \u001b[0mzip\u001b[0m\u001b[1;33m(\u001b[0m\u001b[0msig\u001b[0m\u001b[1;33m.\u001b[0m\u001b[0mparameters\u001b[0m\u001b[1;33m,\u001b[0m \u001b[0margs\u001b[0m\u001b[1;33m)\u001b[0m\u001b[1;33m}\u001b[0m\u001b[1;33m)\u001b[0m\u001b[1;33m\u001b[0m\u001b[1;33m\u001b[0m\u001b[0m\n\u001b[1;32m---> 72\u001b[1;33m         \u001b[1;32mreturn\u001b[0m \u001b[0mf\u001b[0m\u001b[1;33m(\u001b[0m\u001b[1;33m**\u001b[0m\u001b[0mkwargs\u001b[0m\u001b[1;33m)\u001b[0m\u001b[1;33m\u001b[0m\u001b[1;33m\u001b[0m\u001b[0m\n\u001b[0m\u001b[0;32m     73\u001b[0m     \u001b[1;32mreturn\u001b[0m \u001b[0minner_f\u001b[0m\u001b[1;33m\u001b[0m\u001b[1;33m\u001b[0m\u001b[0m\n\u001b[0;32m     74\u001b[0m \u001b[1;33m\u001b[0m\u001b[0m\n",
      "\u001b[1;32m~\\anaconda3\\lib\\site-packages\\sklearn\\tree\\_export.py\u001b[0m in \u001b[0;36mexport_graphviz\u001b[1;34m(decision_tree, out_file, max_depth, feature_names, class_names, label, filled, leaves_parallel, impurity, node_ids, proportion, rotate, rounded, special_characters, precision)\u001b[0m\n\u001b[0;32m    781\u001b[0m             \u001b[0mrounded\u001b[0m\u001b[1;33m=\u001b[0m\u001b[0mrounded\u001b[0m\u001b[1;33m,\u001b[0m \u001b[0mspecial_characters\u001b[0m\u001b[1;33m=\u001b[0m\u001b[0mspecial_characters\u001b[0m\u001b[1;33m,\u001b[0m\u001b[1;33m\u001b[0m\u001b[1;33m\u001b[0m\u001b[0m\n\u001b[0;32m    782\u001b[0m             precision=precision)\n\u001b[1;32m--> 783\u001b[1;33m         \u001b[0mexporter\u001b[0m\u001b[1;33m.\u001b[0m\u001b[0mexport\u001b[0m\u001b[1;33m(\u001b[0m\u001b[0mdecision_tree\u001b[0m\u001b[1;33m)\u001b[0m\u001b[1;33m\u001b[0m\u001b[1;33m\u001b[0m\u001b[0m\n\u001b[0m\u001b[0;32m    784\u001b[0m \u001b[1;33m\u001b[0m\u001b[0m\n\u001b[0;32m    785\u001b[0m         \u001b[1;32mif\u001b[0m \u001b[0mreturn_string\u001b[0m\u001b[1;33m:\u001b[0m\u001b[1;33m\u001b[0m\u001b[1;33m\u001b[0m\u001b[0m\n",
      "\u001b[1;32m~\\anaconda3\\lib\\site-packages\\sklearn\\tree\\_export.py\u001b[0m in \u001b[0;36mexport\u001b[1;34m(self, decision_tree)\u001b[0m\n\u001b[0;32m    421\u001b[0m             \u001b[0mself\u001b[0m\u001b[1;33m.\u001b[0m\u001b[0mrecurse\u001b[0m\u001b[1;33m(\u001b[0m\u001b[0mdecision_tree\u001b[0m\u001b[1;33m,\u001b[0m \u001b[1;36m0\u001b[0m\u001b[1;33m,\u001b[0m \u001b[0mcriterion\u001b[0m\u001b[1;33m=\u001b[0m\u001b[1;34m\"impurity\"\u001b[0m\u001b[1;33m)\u001b[0m\u001b[1;33m\u001b[0m\u001b[1;33m\u001b[0m\u001b[0m\n\u001b[0;32m    422\u001b[0m         \u001b[1;32melse\u001b[0m\u001b[1;33m:\u001b[0m\u001b[1;33m\u001b[0m\u001b[1;33m\u001b[0m\u001b[0m\n\u001b[1;32m--> 423\u001b[1;33m             self.recurse(decision_tree.tree_, 0,\n\u001b[0m\u001b[0;32m    424\u001b[0m                          criterion=decision_tree.criterion)\n\u001b[0;32m    425\u001b[0m \u001b[1;33m\u001b[0m\u001b[0m\n",
      "\u001b[1;32m~\\anaconda3\\lib\\site-packages\\sklearn\\tree\\_export.py\u001b[0m in \u001b[0;36mrecurse\u001b[1;34m(self, tree, node_id, criterion, parent, depth)\u001b[0m\n\u001b[0;32m    481\u001b[0m \u001b[1;33m\u001b[0m\u001b[0m\n\u001b[0;32m    482\u001b[0m             self.out_file.write(\n\u001b[1;32m--> 483\u001b[1;33m                 '%d [label=%s' % (node_id, self.node_to_str(tree, node_id,\n\u001b[0m\u001b[0;32m    484\u001b[0m                                                             criterion)))\n\u001b[0;32m    485\u001b[0m \u001b[1;33m\u001b[0m\u001b[0m\n",
      "\u001b[1;32m~\\anaconda3\\lib\\site-packages\\sklearn\\tree\\_export.py\u001b[0m in \u001b[0;36mnode_to_str\u001b[1;34m(self, tree, node_id, criterion)\u001b[0m\n\u001b[0;32m    357\u001b[0m                                           \u001b[0mnp\u001b[0m\u001b[1;33m.\u001b[0m\u001b[0margmax\u001b[0m\u001b[1;33m(\u001b[0m\u001b[0mvalue\u001b[0m\u001b[1;33m)\u001b[0m\u001b[1;33m,\u001b[0m\u001b[1;33m\u001b[0m\u001b[1;33m\u001b[0m\u001b[0m\n\u001b[0;32m    358\u001b[0m                                           characters[2])\n\u001b[1;32m--> 359\u001b[1;33m             \u001b[0mnode_string\u001b[0m \u001b[1;33m+=\u001b[0m \u001b[0mclass_name\u001b[0m\u001b[1;33m\u001b[0m\u001b[1;33m\u001b[0m\u001b[0m\n\u001b[0m\u001b[0;32m    360\u001b[0m \u001b[1;33m\u001b[0m\u001b[0m\n\u001b[0;32m    361\u001b[0m         \u001b[1;31m# Clean up any trailing newlines\u001b[0m\u001b[1;33m\u001b[0m\u001b[1;33m\u001b[0m\u001b[1;33m\u001b[0m\u001b[0m\n",
      "\u001b[1;31mTypeError\u001b[0m: can only concatenate str (not \"numpy.int64\") to str"
     ]
    }
   ],
   "source": [
    "# currently not working, unsure why\n",
    "\n",
    "# Train\n",
    "rf.fit(poli_X, y_train_poli)\n",
    "# Extract single tree\n",
    "estimator = rf.estimators_[5]\n",
    "\n",
    "from sklearn.tree import export_graphviz\n",
    "# Export as dot file\n",
    "export_graphviz(estimator, out_file='tree.dot', \n",
    "                feature_names = poli_X.columns,\n",
    "                class_names = y_train_poli,\n",
    "                rounded = True, proportion = False, \n",
    "                precision = 2, filled = True)\n",
    "\n",
    "# Convert to png using system command (requires Graphviz)\n",
    "from subprocess import call\n",
    "call(['dot', '-Tpng', 'tree.dot', '-o', 'tree.png', '-Gdpi=600'])\n",
    "\n",
    "# Display in jupyter notebook\n",
    "from IPython.display import Image\n",
    "Image(filename = 'tree.png')"
   ]
  },
  {
   "cell_type": "code",
   "execution_count": null,
   "metadata": {},
   "outputs": [],
   "source": []
  },
  {
   "cell_type": "code",
   "execution_count": null,
   "metadata": {},
   "outputs": [],
   "source": []
  },
  {
   "cell_type": "code",
   "execution_count": null,
   "metadata": {
    "ExecuteTime": {
     "end_time": "2021-03-18T20:01:17.521705Z",
     "start_time": "2021-03-18T19:56:59.950Z"
    }
   },
   "outputs": [],
   "source": [
    "topics_sc1 = StandardScaler()\n",
    "\n",
    "topics_pipe1 = Pipeline([\n",
    "    ('scaler', topics_sc1),\n",
    "    ('model', l1)\n",
    "])"
   ]
  },
  {
   "cell_type": "code",
   "execution_count": null,
   "metadata": {
    "ExecuteTime": {
     "end_time": "2021-03-18T20:01:17.522681Z",
     "start_time": "2021-03-18T19:56:59.951Z"
    }
   },
   "outputs": [],
   "source": [
    "topics_pipe1.fit(topics_X, y_train_poli)\n",
    "\n",
    "topics_train1 = topics_pipe1.score(topics_X, topics)\n",
    "topics_test1 = topics_pipe1.score(topics_X_test, topics)\n",
    "print(f'LogReg L2, score on training set: {topics_train1}, score on test set: {topics_test1}.')"
   ]
  },
  {
   "cell_type": "code",
   "execution_count": null,
   "metadata": {},
   "outputs": [],
   "source": []
  },
  {
   "cell_type": "code",
   "execution_count": null,
   "metadata": {},
   "outputs": [],
   "source": []
  },
  {
   "cell_type": "code",
   "execution_count": null,
   "metadata": {},
   "outputs": [],
   "source": []
  },
  {
   "cell_type": "code",
   "execution_count": null,
   "metadata": {},
   "outputs": [],
   "source": []
  },
  {
   "cell_type": "code",
   "execution_count": null,
   "metadata": {},
   "outputs": [],
   "source": []
  },
  {
   "cell_type": "code",
   "execution_count": null,
   "metadata": {
    "ExecuteTime": {
     "end_time": "2021-03-18T20:01:17.524635Z",
     "start_time": "2021-03-18T19:56:59.960Z"
    }
   },
   "outputs": [],
   "source": [
    "poli_cvec = pd.DataFrame(cvec.fit_transform(df_poli['text']).todense(), \n",
    "                         columns=cvec.get_feature_names())\n",
    "\n",
    "poli_cvec.sum().sort_values(ascending=False).head(10).plot(kind='barh');"
   ]
  },
  {
   "cell_type": "code",
   "execution_count": null,
   "metadata": {
    "ExecuteTime": {
     "end_time": "2021-03-18T20:01:17.525610Z",
     "start_time": "2021-03-18T19:56:59.961Z"
    }
   },
   "outputs": [],
   "source": [
    "# convert training data to dataframe\n",
    "poli_tiff = pd.DataFrame(tvec.fit_transform(df_poli['text']).todense(), \n",
    "                          columns=tvec.get_feature_names())\n",
    "\n",
    "# plot top occuring words\n",
    "poli_tiff.sum().sort_values(ascending=False).head(10).plot(kind='barh');"
   ]
  },
  {
   "cell_type": "code",
   "execution_count": null,
   "metadata": {},
   "outputs": [],
   "source": []
  }
 ],
 "metadata": {
  "kernelspec": {
   "display_name": "Python 3",
   "language": "python",
   "name": "python3"
  },
  "language_info": {
   "codemirror_mode": {
    "name": "ipython",
    "version": 3
   },
   "file_extension": ".py",
   "mimetype": "text/x-python",
   "name": "python",
   "nbconvert_exporter": "python",
   "pygments_lexer": "ipython3",
   "version": "3.8.5"
  },
  "toc": {
   "base_numbering": 1,
   "nav_menu": {},
   "number_sections": false,
   "sideBar": true,
   "skip_h1_title": false,
   "title_cell": "Table of Contents",
   "title_sidebar": "Contents",
   "toc_cell": false,
   "toc_position": {
    "height": "calc(100% - 180px)",
    "left": "10px",
    "top": "150px",
    "width": "384px"
   },
   "toc_section_display": true,
   "toc_window_display": true
  }
 },
 "nbformat": 4,
 "nbformat_minor": 4
}
