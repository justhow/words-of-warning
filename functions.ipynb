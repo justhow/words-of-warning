{
 "cells": [
  {
   "cell_type": "code",
   "execution_count": null,
   "metadata": {},
   "outputs": [],
   "source": [
    "def check_shape(dfs):\n",
    "    for df in dfs:\n",
    "        print(df.shape)"
   ]
  },
  {
   "cell_type": "code",
   "execution_count": null,
   "metadata": {},
   "outputs": [],
   "source": [
    "def count_rows(dfs):\n",
    "    rowcount = 0\n",
    "    for df in dfs:\n",
    "        rowcount += df.shape[0]\n",
    "    return rowcount"
   ]
  },
  {
   "cell_type": "code",
   "execution_count": null,
   "metadata": {},
   "outputs": [],
   "source": [
    "# perform all 'step-0' EDA checks\n",
    "def check_data(dfs):\n",
    "    rowcount = 0\n",
    "    \n",
    "    for df in dfs:\n",
    "        print(df.shape)\n",
    "    \n",
    "    for df in dfs:\n",
    "        rowcount += df.shape[0]\n",
    "    \n",
    "    return rowcount"
   ]
  },
  {
   "cell_type": "code",
   "execution_count": null,
   "metadata": {},
   "outputs": [],
   "source": [
    "# write function to drop nulls rows from all dataframes and \n",
    "# return null counts by column, and produce a list of null col indexes\n",
    "\n",
    "def nullcheck(dfs):\n",
    "    dfnum = 0\n",
    "    for df in dfs:\n",
    "        nulsum = df.isna().sum().sum()\n",
    "        if nulsum == 0:\n",
    "            dfnum += 1\n",
    "        else:\n",
    "            print(f'Dataframe #{dfnum}: {nulsum} NaN')\n",
    "            dfnum += 1"
   ]
  },
  {
   "cell_type": "code",
   "execution_count": null,
   "metadata": {},
   "outputs": [],
   "source": []
  },
  {
   "cell_type": "code",
   "execution_count": null,
   "metadata": {},
   "outputs": [],
   "source": []
  },
  {
   "cell_type": "code",
   "execution_count": null,
   "metadata": {},
   "outputs": [],
   "source": []
  },
  {
   "cell_type": "code",
   "execution_count": null,
   "metadata": {
    "ExecuteTime": {
     "end_time": "2021-03-10T06:43:05.243836Z",
     "start_time": "2021-03-10T06:43:05.232865Z"
    }
   },
   "outputs": [],
   "source": [
    "english_prepositions = ['aboard', 'about', 'above', 'across', 'after', 'against',\n",
    "                        'along', 'amid', 'among', 'anti', 'around', 'as', 'at', \n",
    "                        'before', 'behind', 'below', 'beneath', 'beside', 'besides',\n",
    "                        'between', 'beyond', 'but', 'by', 'concerning', 'considering', \n",
    "                        'despite', 'down', 'during', 'except', 'excepting', 'excluding',\n",
    "                        'following', 'for', 'from', 'in', 'inside', 'into', 'like', \n",
    "                        'minus', 'near', 'of', 'off', 'on', 'onto', 'opposite', \n",
    "                        'outside', 'over', 'past', 'per', 'plus', 'regarding', 'round',\n",
    "                        'save', 'since', 'than', 'through', 'to', 'toward', 'towards', \n",
    "                        'under', 'underneath', 'unlike', 'until', 'up', 'upon', 'versus',\n",
    "                        'via', 'with', 'within', 'without']"
   ]
  },
  {
   "cell_type": "code",
   "execution_count": null,
   "metadata": {},
   "outputs": [],
   "source": [
    "def riot_score():\n",
    "    pass"
   ]
  }
 ],
 "metadata": {
  "kernelspec": {
   "display_name": "Python 3",
   "language": "python",
   "name": "python3"
  },
  "language_info": {
   "codemirror_mode": {
    "name": "ipython",
    "version": 3
   },
   "file_extension": ".py",
   "mimetype": "text/x-python",
   "name": "python",
   "nbconvert_exporter": "python",
   "pygments_lexer": "ipython3",
   "version": "3.8.5"
  },
  "toc": {
   "base_numbering": 1,
   "nav_menu": {},
   "number_sections": false,
   "sideBar": true,
   "skip_h1_title": false,
   "title_cell": "Table of Contents",
   "title_sidebar": "Contents",
   "toc_cell": false,
   "toc_position": {},
   "toc_section_display": true,
   "toc_window_display": true
  }
 },
 "nbformat": 4,
 "nbformat_minor": 4
}
